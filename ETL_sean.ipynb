{
 "metadata": {
  "language_info": {
   "codemirror_mode": {
    "name": "ipython",
    "version": 3
   },
   "file_extension": ".py",
   "mimetype": "text/x-python",
   "name": "python",
   "nbconvert_exporter": "python",
   "pygments_lexer": "ipython3",
   "version": "3.8.5-final"
  },
  "orig_nbformat": 2,
  "kernelspec": {
   "name": "python3",
   "display_name": "Python 3.8.5 32-bit (virtualenv)",
   "metadata": {
    "interpreter": {
     "hash": "41da535121ec21905408d7ceafdad8103549be0088749dc071075f4968be76d1"
    }
   }
  }
 },
 "nbformat": 4,
 "nbformat_minor": 2,
 "cells": [
  {
   "cell_type": "code",
   "execution_count": 1,
   "metadata": {},
   "outputs": [],
   "source": [
    "import pandas as pd\n",
    "import numpy as np"
   ]
  },
  {
   "cell_type": "code",
   "execution_count": 26,
   "metadata": {},
   "outputs": [
    {
     "output_type": "execute_result",
     "data": {
      "text/plain": [
       "  imdb_title_id                        title               original_title  \\\n",
       "0     tt0000009                   Miss Jerry                   Miss Jerry   \n",
       "1     tt0000574  The Story of the Kelly Gang  The Story of the Kelly Gang   \n",
       "2     tt0001892               Den sorte drøm               Den sorte drøm   \n",
       "3     tt0002101                    Cleopatra                    Cleopatra   \n",
       "4     tt0002130                    L'Inferno                    L'Inferno   \n",
       "\n",
       "   year date_published                      genre  duration           country  \\\n",
       "0  1894     1894-10-09                    Romance        45               USA   \n",
       "1  1906     1906-12-26    Biography, Crime, Drama        70         Australia   \n",
       "2  1911     1911-08-19                      Drama        53  Germany, Denmark   \n",
       "3  1912     1912-11-13             Drama, History       100               USA   \n",
       "4  1911     1911-03-06  Adventure, Drama, Fantasy        68             Italy   \n",
       "\n",
       "  language                             director  ...  \\\n",
       "0     None                      Alexander Black  ...   \n",
       "1     None                         Charles Tait  ...   \n",
       "2      NaN                            Urban Gad  ...   \n",
       "3  English                   Charles L. Gaskill  ...   \n",
       "4  Italian  Francesco Bertolini, Adolfo Padovan  ...   \n",
       "\n",
       "                                              actors  \\\n",
       "0  Blanche Bayliss, William Courtenay, Chauncey D...   \n",
       "1  Elizabeth Tait, John Tait, Norman Campbell, Be...   \n",
       "2  Asta Nielsen, Valdemar Psilander, Gunnar Helse...   \n",
       "3  Helen Gardner, Pearl Sindelar, Miss Fielding, ...   \n",
       "4  Salvatore Papa, Arturo Pirovano, Giuseppe de L...   \n",
       "\n",
       "                                         description avg_vote votes   budget  \\\n",
       "0  The adventures of a female reporter in the 1890s.      5.9   154      NaN   \n",
       "1  True story of notorious Australian outlaw Ned ...      6.1   589   $ 2250   \n",
       "2  Two men of high rank are both wooing the beaut...      5.8   188      NaN   \n",
       "3  The fabled queen of Egypt's affair with Roman ...      5.2   446  $ 45000   \n",
       "4  Loosely adapted from Dante's Divine Comedy and...      7.0  2237      NaN   \n",
       "\n",
       "   usa_gross_income worlwide_gross_income metascore reviews_from_users  \\\n",
       "0               NaN                   NaN       NaN                1.0   \n",
       "1               NaN                   NaN       NaN                7.0   \n",
       "2               NaN                   NaN       NaN                5.0   \n",
       "3               NaN                   NaN       NaN               25.0   \n",
       "4               NaN                   NaN       NaN               31.0   \n",
       "\n",
       "   reviews_from_critics  \n",
       "0                   2.0  \n",
       "1                   7.0  \n",
       "2                   2.0  \n",
       "3                   3.0  \n",
       "4                  14.0  \n",
       "\n",
       "[5 rows x 22 columns]"
      ],
      "text/html": "<div>\n<style scoped>\n    .dataframe tbody tr th:only-of-type {\n        vertical-align: middle;\n    }\n\n    .dataframe tbody tr th {\n        vertical-align: top;\n    }\n\n    .dataframe thead th {\n        text-align: right;\n    }\n</style>\n<table border=\"1\" class=\"dataframe\">\n  <thead>\n    <tr style=\"text-align: right;\">\n      <th></th>\n      <th>imdb_title_id</th>\n      <th>title</th>\n      <th>original_title</th>\n      <th>year</th>\n      <th>date_published</th>\n      <th>genre</th>\n      <th>duration</th>\n      <th>country</th>\n      <th>language</th>\n      <th>director</th>\n      <th>...</th>\n      <th>actors</th>\n      <th>description</th>\n      <th>avg_vote</th>\n      <th>votes</th>\n      <th>budget</th>\n      <th>usa_gross_income</th>\n      <th>worlwide_gross_income</th>\n      <th>metascore</th>\n      <th>reviews_from_users</th>\n      <th>reviews_from_critics</th>\n    </tr>\n  </thead>\n  <tbody>\n    <tr>\n      <th>0</th>\n      <td>tt0000009</td>\n      <td>Miss Jerry</td>\n      <td>Miss Jerry</td>\n      <td>1894</td>\n      <td>1894-10-09</td>\n      <td>Romance</td>\n      <td>45</td>\n      <td>USA</td>\n      <td>None</td>\n      <td>Alexander Black</td>\n      <td>...</td>\n      <td>Blanche Bayliss, William Courtenay, Chauncey D...</td>\n      <td>The adventures of a female reporter in the 1890s.</td>\n      <td>5.9</td>\n      <td>154</td>\n      <td>NaN</td>\n      <td>NaN</td>\n      <td>NaN</td>\n      <td>NaN</td>\n      <td>1.0</td>\n      <td>2.0</td>\n    </tr>\n    <tr>\n      <th>1</th>\n      <td>tt0000574</td>\n      <td>The Story of the Kelly Gang</td>\n      <td>The Story of the Kelly Gang</td>\n      <td>1906</td>\n      <td>1906-12-26</td>\n      <td>Biography, Crime, Drama</td>\n      <td>70</td>\n      <td>Australia</td>\n      <td>None</td>\n      <td>Charles Tait</td>\n      <td>...</td>\n      <td>Elizabeth Tait, John Tait, Norman Campbell, Be...</td>\n      <td>True story of notorious Australian outlaw Ned ...</td>\n      <td>6.1</td>\n      <td>589</td>\n      <td>$ 2250</td>\n      <td>NaN</td>\n      <td>NaN</td>\n      <td>NaN</td>\n      <td>7.0</td>\n      <td>7.0</td>\n    </tr>\n    <tr>\n      <th>2</th>\n      <td>tt0001892</td>\n      <td>Den sorte drøm</td>\n      <td>Den sorte drøm</td>\n      <td>1911</td>\n      <td>1911-08-19</td>\n      <td>Drama</td>\n      <td>53</td>\n      <td>Germany, Denmark</td>\n      <td>NaN</td>\n      <td>Urban Gad</td>\n      <td>...</td>\n      <td>Asta Nielsen, Valdemar Psilander, Gunnar Helse...</td>\n      <td>Two men of high rank are both wooing the beaut...</td>\n      <td>5.8</td>\n      <td>188</td>\n      <td>NaN</td>\n      <td>NaN</td>\n      <td>NaN</td>\n      <td>NaN</td>\n      <td>5.0</td>\n      <td>2.0</td>\n    </tr>\n    <tr>\n      <th>3</th>\n      <td>tt0002101</td>\n      <td>Cleopatra</td>\n      <td>Cleopatra</td>\n      <td>1912</td>\n      <td>1912-11-13</td>\n      <td>Drama, History</td>\n      <td>100</td>\n      <td>USA</td>\n      <td>English</td>\n      <td>Charles L. Gaskill</td>\n      <td>...</td>\n      <td>Helen Gardner, Pearl Sindelar, Miss Fielding, ...</td>\n      <td>The fabled queen of Egypt's affair with Roman ...</td>\n      <td>5.2</td>\n      <td>446</td>\n      <td>$ 45000</td>\n      <td>NaN</td>\n      <td>NaN</td>\n      <td>NaN</td>\n      <td>25.0</td>\n      <td>3.0</td>\n    </tr>\n    <tr>\n      <th>4</th>\n      <td>tt0002130</td>\n      <td>L'Inferno</td>\n      <td>L'Inferno</td>\n      <td>1911</td>\n      <td>1911-03-06</td>\n      <td>Adventure, Drama, Fantasy</td>\n      <td>68</td>\n      <td>Italy</td>\n      <td>Italian</td>\n      <td>Francesco Bertolini, Adolfo Padovan</td>\n      <td>...</td>\n      <td>Salvatore Papa, Arturo Pirovano, Giuseppe de L...</td>\n      <td>Loosely adapted from Dante's Divine Comedy and...</td>\n      <td>7.0</td>\n      <td>2237</td>\n      <td>NaN</td>\n      <td>NaN</td>\n      <td>NaN</td>\n      <td>NaN</td>\n      <td>31.0</td>\n      <td>14.0</td>\n    </tr>\n  </tbody>\n</table>\n<p>5 rows × 22 columns</p>\n</div>"
     },
     "metadata": {},
     "execution_count": 26
    }
   ],
   "source": [
    "df = pd.read_csv(\"Resource/IMDb_movies.csv\", low_memory=False)\n",
    "df.head()"
   ]
  },
  {
   "cell_type": "code",
   "execution_count": 27,
   "metadata": {},
   "outputs": [
    {
     "output_type": "stream",
     "name": "stdout",
     "text": [
      "Shape: (85855, 7)\n"
     ]
    },
    {
     "output_type": "execute_result",
     "data": {
      "text/plain": [
       "                         title  year                      genre  \\\n",
       "0                   Miss Jerry  1894                    Romance   \n",
       "1  The Story of the Kelly Gang  1906    Biography, Crime, Drama   \n",
       "2               Den sorte drøm  1911                      Drama   \n",
       "3                    Cleopatra  1912             Drama, History   \n",
       "4                    L'Inferno  1911  Adventure, Drama, Fantasy   \n",
       "\n",
       "                                         description   budget  \\\n",
       "0  The adventures of a female reporter in the 1890s.      NaN   \n",
       "1  True story of notorious Australian outlaw Ned ...   $ 2250   \n",
       "2  Two men of high rank are both wooing the beaut...      NaN   \n",
       "3  The fabled queen of Egypt's affair with Roman ...  $ 45000   \n",
       "4  Loosely adapted from Dante's Divine Comedy and...      NaN   \n",
       "\n",
       "  usa_gross_income worlwide_gross_income  \n",
       "0              NaN                   NaN  \n",
       "1              NaN                   NaN  \n",
       "2              NaN                   NaN  \n",
       "3              NaN                   NaN  \n",
       "4              NaN                   NaN  "
      ],
      "text/html": "<div>\n<style scoped>\n    .dataframe tbody tr th:only-of-type {\n        vertical-align: middle;\n    }\n\n    .dataframe tbody tr th {\n        vertical-align: top;\n    }\n\n    .dataframe thead th {\n        text-align: right;\n    }\n</style>\n<table border=\"1\" class=\"dataframe\">\n  <thead>\n    <tr style=\"text-align: right;\">\n      <th></th>\n      <th>title</th>\n      <th>year</th>\n      <th>genre</th>\n      <th>description</th>\n      <th>budget</th>\n      <th>usa_gross_income</th>\n      <th>worlwide_gross_income</th>\n    </tr>\n  </thead>\n  <tbody>\n    <tr>\n      <th>0</th>\n      <td>Miss Jerry</td>\n      <td>1894</td>\n      <td>Romance</td>\n      <td>The adventures of a female reporter in the 1890s.</td>\n      <td>NaN</td>\n      <td>NaN</td>\n      <td>NaN</td>\n    </tr>\n    <tr>\n      <th>1</th>\n      <td>The Story of the Kelly Gang</td>\n      <td>1906</td>\n      <td>Biography, Crime, Drama</td>\n      <td>True story of notorious Australian outlaw Ned ...</td>\n      <td>$ 2250</td>\n      <td>NaN</td>\n      <td>NaN</td>\n    </tr>\n    <tr>\n      <th>2</th>\n      <td>Den sorte drøm</td>\n      <td>1911</td>\n      <td>Drama</td>\n      <td>Two men of high rank are both wooing the beaut...</td>\n      <td>NaN</td>\n      <td>NaN</td>\n      <td>NaN</td>\n    </tr>\n    <tr>\n      <th>3</th>\n      <td>Cleopatra</td>\n      <td>1912</td>\n      <td>Drama, History</td>\n      <td>The fabled queen of Egypt's affair with Roman ...</td>\n      <td>$ 45000</td>\n      <td>NaN</td>\n      <td>NaN</td>\n    </tr>\n    <tr>\n      <th>4</th>\n      <td>L'Inferno</td>\n      <td>1911</td>\n      <td>Adventure, Drama, Fantasy</td>\n      <td>Loosely adapted from Dante's Divine Comedy and...</td>\n      <td>NaN</td>\n      <td>NaN</td>\n      <td>NaN</td>\n    </tr>\n  </tbody>\n</table>\n</div>"
     },
     "metadata": {},
     "execution_count": 27
    }
   ],
   "source": [
    "movies_cols= [\"title\", \"year\", \"genre\", \"description\", \"budget\", \"usa_gross_income\", \"worlwide_gross_income\"]\n",
    "df_movies= df[movies_cols].copy()\n",
    "print(\"Shape: \" + str(df_movies.shape))\n",
    "df_movies.head()"
   ]
  },
  {
   "cell_type": "code",
   "execution_count": 28,
   "metadata": {},
   "outputs": [
    {
     "output_type": "stream",
     "name": "stdout",
     "text": [
      "Shape: (8109, 7)\n"
     ]
    }
   ],
   "source": [
    "df_movies.dropna(inplace=True)\n",
    "print(\"Shape: \" + str(df_movies.shape))"
   ]
  },
  {
   "cell_type": "code",
   "execution_count": 29,
   "metadata": {},
   "outputs": [
    {
     "output_type": "execute_result",
     "data": {
      "text/plain": [
       "                                    title  year                     genre  \\\n",
       "165      Il gabinetto del dottor Caligari  1920  Fantasy, Horror, Mystery   \n",
       "245   I quattro cavalieri dell'Apocalisse  1921       Drama, Romance, War   \n",
       "506                            Metropolis  1927             Drama, Sci-Fi   \n",
       "1048                     Luci della città  1931    Comedy, Drama, Romance   \n",
       "2454                        Tempi moderni  1936     Comedy, Drama, Family   \n",
       "\n",
       "                                            description       budget  \\\n",
       "165   Hypnotist Dr. Caligari uses a somnambulist, Ce...      $ 18000   \n",
       "245   An extended family split up in France and Germ...     $ 800000   \n",
       "506   In a futuristic city sharply divided between t...  DEM 6000000   \n",
       "1048  With the aid of a wealthy erratic tippler, a d...    $ 1500000   \n",
       "2454  The Tramp struggles to live in modern industri...    $ 1500000   \n",
       "\n",
       "     usa_gross_income worlwide_gross_income  \n",
       "165            $ 8811                $ 8811  \n",
       "245         $ 9183673             $ 9183673  \n",
       "506         $ 1236166             $ 1349711  \n",
       "1048          $ 19181               $ 46008  \n",
       "2454         $ 163577              $ 457688  "
      ],
      "text/html": "<div>\n<style scoped>\n    .dataframe tbody tr th:only-of-type {\n        vertical-align: middle;\n    }\n\n    .dataframe tbody tr th {\n        vertical-align: top;\n    }\n\n    .dataframe thead th {\n        text-align: right;\n    }\n</style>\n<table border=\"1\" class=\"dataframe\">\n  <thead>\n    <tr style=\"text-align: right;\">\n      <th></th>\n      <th>title</th>\n      <th>year</th>\n      <th>genre</th>\n      <th>description</th>\n      <th>budget</th>\n      <th>usa_gross_income</th>\n      <th>worlwide_gross_income</th>\n    </tr>\n  </thead>\n  <tbody>\n    <tr>\n      <th>165</th>\n      <td>Il gabinetto del dottor Caligari</td>\n      <td>1920</td>\n      <td>Fantasy, Horror, Mystery</td>\n      <td>Hypnotist Dr. Caligari uses a somnambulist, Ce...</td>\n      <td>$ 18000</td>\n      <td>$ 8811</td>\n      <td>$ 8811</td>\n    </tr>\n    <tr>\n      <th>245</th>\n      <td>I quattro cavalieri dell'Apocalisse</td>\n      <td>1921</td>\n      <td>Drama, Romance, War</td>\n      <td>An extended family split up in France and Germ...</td>\n      <td>$ 800000</td>\n      <td>$ 9183673</td>\n      <td>$ 9183673</td>\n    </tr>\n    <tr>\n      <th>506</th>\n      <td>Metropolis</td>\n      <td>1927</td>\n      <td>Drama, Sci-Fi</td>\n      <td>In a futuristic city sharply divided between t...</td>\n      <td>DEM 6000000</td>\n      <td>$ 1236166</td>\n      <td>$ 1349711</td>\n    </tr>\n    <tr>\n      <th>1048</th>\n      <td>Luci della città</td>\n      <td>1931</td>\n      <td>Comedy, Drama, Romance</td>\n      <td>With the aid of a wealthy erratic tippler, a d...</td>\n      <td>$ 1500000</td>\n      <td>$ 19181</td>\n      <td>$ 46008</td>\n    </tr>\n    <tr>\n      <th>2454</th>\n      <td>Tempi moderni</td>\n      <td>1936</td>\n      <td>Comedy, Drama, Family</td>\n      <td>The Tramp struggles to live in modern industri...</td>\n      <td>$ 1500000</td>\n      <td>$ 163577</td>\n      <td>$ 457688</td>\n    </tr>\n  </tbody>\n</table>\n</div>"
     },
     "metadata": {},
     "execution_count": 29
    }
   ],
   "source": [
    "df_movies.head()"
   ]
  },
  {
   "cell_type": "code",
   "execution_count": 30,
   "metadata": {},
   "outputs": [
    {
     "output_type": "execute_result",
     "data": {
      "text/plain": [
       "                                    title  year                     genre  \\\n",
       "165      Il gabinetto del dottor Caligari  1920  Fantasy, Horror, Mystery   \n",
       "245   I quattro cavalieri dell'Apocalisse  1921       Drama, Romance, War   \n",
       "506                            Metropolis  1927             Drama, Sci-Fi   \n",
       "1048                     Luci della città  1931    Comedy, Drama, Romance   \n",
       "2454                        Tempi moderni  1936     Comedy, Drama, Family   \n",
       "\n",
       "                                            description    budget  \\\n",
       "165   Hypnotist Dr. Caligari uses a somnambulist, Ce...     18000   \n",
       "245   An extended family split up in France and Germ...    800000   \n",
       "506   In a futuristic city sharply divided between t...   6000000   \n",
       "1048  With the aid of a wealthy erratic tippler, a d...   1500000   \n",
       "2454  The Tramp struggles to live in modern industri...   1500000   \n",
       "\n",
       "     usa_gross_income worlwide_gross_income  \n",
       "165            $ 8811                $ 8811  \n",
       "245         $ 9183673             $ 9183673  \n",
       "506         $ 1236166             $ 1349711  \n",
       "1048          $ 19181               $ 46008  \n",
       "2454         $ 163577              $ 457688  "
      ],
      "text/html": "<div>\n<style scoped>\n    .dataframe tbody tr th:only-of-type {\n        vertical-align: middle;\n    }\n\n    .dataframe tbody tr th {\n        vertical-align: top;\n    }\n\n    .dataframe thead th {\n        text-align: right;\n    }\n</style>\n<table border=\"1\" class=\"dataframe\">\n  <thead>\n    <tr style=\"text-align: right;\">\n      <th></th>\n      <th>title</th>\n      <th>year</th>\n      <th>genre</th>\n      <th>description</th>\n      <th>budget</th>\n      <th>usa_gross_income</th>\n      <th>worlwide_gross_income</th>\n    </tr>\n  </thead>\n  <tbody>\n    <tr>\n      <th>165</th>\n      <td>Il gabinetto del dottor Caligari</td>\n      <td>1920</td>\n      <td>Fantasy, Horror, Mystery</td>\n      <td>Hypnotist Dr. Caligari uses a somnambulist, Ce...</td>\n      <td>18000</td>\n      <td>$ 8811</td>\n      <td>$ 8811</td>\n    </tr>\n    <tr>\n      <th>245</th>\n      <td>I quattro cavalieri dell'Apocalisse</td>\n      <td>1921</td>\n      <td>Drama, Romance, War</td>\n      <td>An extended family split up in France and Germ...</td>\n      <td>800000</td>\n      <td>$ 9183673</td>\n      <td>$ 9183673</td>\n    </tr>\n    <tr>\n      <th>506</th>\n      <td>Metropolis</td>\n      <td>1927</td>\n      <td>Drama, Sci-Fi</td>\n      <td>In a futuristic city sharply divided between t...</td>\n      <td>6000000</td>\n      <td>$ 1236166</td>\n      <td>$ 1349711</td>\n    </tr>\n    <tr>\n      <th>1048</th>\n      <td>Luci della città</td>\n      <td>1931</td>\n      <td>Comedy, Drama, Romance</td>\n      <td>With the aid of a wealthy erratic tippler, a d...</td>\n      <td>1500000</td>\n      <td>$ 19181</td>\n      <td>$ 46008</td>\n    </tr>\n    <tr>\n      <th>2454</th>\n      <td>Tempi moderni</td>\n      <td>1936</td>\n      <td>Comedy, Drama, Family</td>\n      <td>The Tramp struggles to live in modern industri...</td>\n      <td>1500000</td>\n      <td>$ 163577</td>\n      <td>$ 457688</td>\n    </tr>\n  </tbody>\n</table>\n</div>"
     },
     "metadata": {},
     "execution_count": 30
    }
   ],
   "source": [
    "df_movies[\"budget\"] = df_movies[\"budget\"].replace('[\\$,]', '', regex=True)\n",
    "df_movies[\"budget\"] = df_movies[\"budget\"].replace('[A-Z]+', '', regex=True)\n",
    "df_movies.head()\n"
   ]
  },
  {
   "cell_type": "code",
   "execution_count": 31,
   "metadata": {},
   "outputs": [
    {
     "output_type": "execute_result",
     "data": {
      "text/plain": [
       "                                    title  year                     genre  \\\n",
       "165      Il gabinetto del dottor Caligari  1920  Fantasy, Horror, Mystery   \n",
       "245   I quattro cavalieri dell'Apocalisse  1921       Drama, Romance, War   \n",
       "506                            Metropolis  1927             Drama, Sci-Fi   \n",
       "1048                     Luci della città  1931    Comedy, Drama, Romance   \n",
       "2454                        Tempi moderni  1936     Comedy, Drama, Family   \n",
       "\n",
       "                                            description     budget  \\\n",
       "165   Hypnotist Dr. Caligari uses a somnambulist, Ce...    18000.0   \n",
       "245   An extended family split up in France and Germ...   800000.0   \n",
       "506   In a futuristic city sharply divided between t...  6000000.0   \n",
       "1048  With the aid of a wealthy erratic tippler, a d...  1500000.0   \n",
       "2454  The Tramp struggles to live in modern industri...  1500000.0   \n",
       "\n",
       "     usa_gross_income worlwide_gross_income  \n",
       "165            $ 8811                $ 8811  \n",
       "245         $ 9183673             $ 9183673  \n",
       "506         $ 1236166             $ 1349711  \n",
       "1048          $ 19181               $ 46008  \n",
       "2454         $ 163577              $ 457688  "
      ],
      "text/html": "<div>\n<style scoped>\n    .dataframe tbody tr th:only-of-type {\n        vertical-align: middle;\n    }\n\n    .dataframe tbody tr th {\n        vertical-align: top;\n    }\n\n    .dataframe thead th {\n        text-align: right;\n    }\n</style>\n<table border=\"1\" class=\"dataframe\">\n  <thead>\n    <tr style=\"text-align: right;\">\n      <th></th>\n      <th>title</th>\n      <th>year</th>\n      <th>genre</th>\n      <th>description</th>\n      <th>budget</th>\n      <th>usa_gross_income</th>\n      <th>worlwide_gross_income</th>\n    </tr>\n  </thead>\n  <tbody>\n    <tr>\n      <th>165</th>\n      <td>Il gabinetto del dottor Caligari</td>\n      <td>1920</td>\n      <td>Fantasy, Horror, Mystery</td>\n      <td>Hypnotist Dr. Caligari uses a somnambulist, Ce...</td>\n      <td>18000.0</td>\n      <td>$ 8811</td>\n      <td>$ 8811</td>\n    </tr>\n    <tr>\n      <th>245</th>\n      <td>I quattro cavalieri dell'Apocalisse</td>\n      <td>1921</td>\n      <td>Drama, Romance, War</td>\n      <td>An extended family split up in France and Germ...</td>\n      <td>800000.0</td>\n      <td>$ 9183673</td>\n      <td>$ 9183673</td>\n    </tr>\n    <tr>\n      <th>506</th>\n      <td>Metropolis</td>\n      <td>1927</td>\n      <td>Drama, Sci-Fi</td>\n      <td>In a futuristic city sharply divided between t...</td>\n      <td>6000000.0</td>\n      <td>$ 1236166</td>\n      <td>$ 1349711</td>\n    </tr>\n    <tr>\n      <th>1048</th>\n      <td>Luci della città</td>\n      <td>1931</td>\n      <td>Comedy, Drama, Romance</td>\n      <td>With the aid of a wealthy erratic tippler, a d...</td>\n      <td>1500000.0</td>\n      <td>$ 19181</td>\n      <td>$ 46008</td>\n    </tr>\n    <tr>\n      <th>2454</th>\n      <td>Tempi moderni</td>\n      <td>1936</td>\n      <td>Comedy, Drama, Family</td>\n      <td>The Tramp struggles to live in modern industri...</td>\n      <td>1500000.0</td>\n      <td>$ 163577</td>\n      <td>$ 457688</td>\n    </tr>\n  </tbody>\n</table>\n</div>"
     },
     "metadata": {},
     "execution_count": 31
    }
   ],
   "source": [
    "df_movies[\"budget\"] = df_movies[\"budget\"].astype(float)\n",
    "df_movies.head()"
   ]
  },
  {
   "cell_type": "code",
   "execution_count": 32,
   "metadata": {},
   "outputs": [
    {
     "output_type": "execute_result",
     "data": {
      "text/plain": [
       "                                    title  year                     genre  \\\n",
       "165      Il gabinetto del dottor Caligari  1920  Fantasy, Horror, Mystery   \n",
       "245   I quattro cavalieri dell'Apocalisse  1921       Drama, Romance, War   \n",
       "506                            Metropolis  1927             Drama, Sci-Fi   \n",
       "1048                     Luci della città  1931    Comedy, Drama, Romance   \n",
       "2454                        Tempi moderni  1936     Comedy, Drama, Family   \n",
       "\n",
       "                                            description     budget  \\\n",
       "165   Hypnotist Dr. Caligari uses a somnambulist, Ce...    18000.0   \n",
       "245   An extended family split up in France and Germ...   800000.0   \n",
       "506   In a futuristic city sharply divided between t...  6000000.0   \n",
       "1048  With the aid of a wealthy erratic tippler, a d...  1500000.0   \n",
       "2454  The Tramp struggles to live in modern industri...  1500000.0   \n",
       "\n",
       "      usa_gross_income worlwide_gross_income  \n",
       "165             8811.0                $ 8811  \n",
       "245          9183673.0             $ 9183673  \n",
       "506          1236166.0             $ 1349711  \n",
       "1048           19181.0               $ 46008  \n",
       "2454          163577.0              $ 457688  "
      ],
      "text/html": "<div>\n<style scoped>\n    .dataframe tbody tr th:only-of-type {\n        vertical-align: middle;\n    }\n\n    .dataframe tbody tr th {\n        vertical-align: top;\n    }\n\n    .dataframe thead th {\n        text-align: right;\n    }\n</style>\n<table border=\"1\" class=\"dataframe\">\n  <thead>\n    <tr style=\"text-align: right;\">\n      <th></th>\n      <th>title</th>\n      <th>year</th>\n      <th>genre</th>\n      <th>description</th>\n      <th>budget</th>\n      <th>usa_gross_income</th>\n      <th>worlwide_gross_income</th>\n    </tr>\n  </thead>\n  <tbody>\n    <tr>\n      <th>165</th>\n      <td>Il gabinetto del dottor Caligari</td>\n      <td>1920</td>\n      <td>Fantasy, Horror, Mystery</td>\n      <td>Hypnotist Dr. Caligari uses a somnambulist, Ce...</td>\n      <td>18000.0</td>\n      <td>8811.0</td>\n      <td>$ 8811</td>\n    </tr>\n    <tr>\n      <th>245</th>\n      <td>I quattro cavalieri dell'Apocalisse</td>\n      <td>1921</td>\n      <td>Drama, Romance, War</td>\n      <td>An extended family split up in France and Germ...</td>\n      <td>800000.0</td>\n      <td>9183673.0</td>\n      <td>$ 9183673</td>\n    </tr>\n    <tr>\n      <th>506</th>\n      <td>Metropolis</td>\n      <td>1927</td>\n      <td>Drama, Sci-Fi</td>\n      <td>In a futuristic city sharply divided between t...</td>\n      <td>6000000.0</td>\n      <td>1236166.0</td>\n      <td>$ 1349711</td>\n    </tr>\n    <tr>\n      <th>1048</th>\n      <td>Luci della città</td>\n      <td>1931</td>\n      <td>Comedy, Drama, Romance</td>\n      <td>With the aid of a wealthy erratic tippler, a d...</td>\n      <td>1500000.0</td>\n      <td>19181.0</td>\n      <td>$ 46008</td>\n    </tr>\n    <tr>\n      <th>2454</th>\n      <td>Tempi moderni</td>\n      <td>1936</td>\n      <td>Comedy, Drama, Family</td>\n      <td>The Tramp struggles to live in modern industri...</td>\n      <td>1500000.0</td>\n      <td>163577.0</td>\n      <td>$ 457688</td>\n    </tr>\n  </tbody>\n</table>\n</div>"
     },
     "metadata": {},
     "execution_count": 32
    }
   ],
   "source": [
    "df_movies[\"usa_gross_income\"] = df_movies[\"usa_gross_income\"].replace('[\\$,]', '', regex=True).astype(float)\n",
    "df_movies.head()"
   ]
  },
  {
   "cell_type": "code",
   "execution_count": 33,
   "metadata": {},
   "outputs": [
    {
     "output_type": "execute_result",
     "data": {
      "text/plain": [
       "                                    title  year                     genre  \\\n",
       "165      Il gabinetto del dottor Caligari  1920  Fantasy, Horror, Mystery   \n",
       "245   I quattro cavalieri dell'Apocalisse  1921       Drama, Romance, War   \n",
       "506                            Metropolis  1927             Drama, Sci-Fi   \n",
       "1048                     Luci della città  1931    Comedy, Drama, Romance   \n",
       "2454                        Tempi moderni  1936     Comedy, Drama, Family   \n",
       "\n",
       "                                            description     budget  \\\n",
       "165   Hypnotist Dr. Caligari uses a somnambulist, Ce...    18000.0   \n",
       "245   An extended family split up in France and Germ...   800000.0   \n",
       "506   In a futuristic city sharply divided between t...  6000000.0   \n",
       "1048  With the aid of a wealthy erratic tippler, a d...  1500000.0   \n",
       "2454  The Tramp struggles to live in modern industri...  1500000.0   \n",
       "\n",
       "      usa_gross_income  worlwide_gross_income  \n",
       "165             8811.0                 8811.0  \n",
       "245          9183673.0              9183673.0  \n",
       "506          1236166.0              1349711.0  \n",
       "1048           19181.0                46008.0  \n",
       "2454          163577.0               457688.0  "
      ],
      "text/html": "<div>\n<style scoped>\n    .dataframe tbody tr th:only-of-type {\n        vertical-align: middle;\n    }\n\n    .dataframe tbody tr th {\n        vertical-align: top;\n    }\n\n    .dataframe thead th {\n        text-align: right;\n    }\n</style>\n<table border=\"1\" class=\"dataframe\">\n  <thead>\n    <tr style=\"text-align: right;\">\n      <th></th>\n      <th>title</th>\n      <th>year</th>\n      <th>genre</th>\n      <th>description</th>\n      <th>budget</th>\n      <th>usa_gross_income</th>\n      <th>worlwide_gross_income</th>\n    </tr>\n  </thead>\n  <tbody>\n    <tr>\n      <th>165</th>\n      <td>Il gabinetto del dottor Caligari</td>\n      <td>1920</td>\n      <td>Fantasy, Horror, Mystery</td>\n      <td>Hypnotist Dr. Caligari uses a somnambulist, Ce...</td>\n      <td>18000.0</td>\n      <td>8811.0</td>\n      <td>8811.0</td>\n    </tr>\n    <tr>\n      <th>245</th>\n      <td>I quattro cavalieri dell'Apocalisse</td>\n      <td>1921</td>\n      <td>Drama, Romance, War</td>\n      <td>An extended family split up in France and Germ...</td>\n      <td>800000.0</td>\n      <td>9183673.0</td>\n      <td>9183673.0</td>\n    </tr>\n    <tr>\n      <th>506</th>\n      <td>Metropolis</td>\n      <td>1927</td>\n      <td>Drama, Sci-Fi</td>\n      <td>In a futuristic city sharply divided between t...</td>\n      <td>6000000.0</td>\n      <td>1236166.0</td>\n      <td>1349711.0</td>\n    </tr>\n    <tr>\n      <th>1048</th>\n      <td>Luci della città</td>\n      <td>1931</td>\n      <td>Comedy, Drama, Romance</td>\n      <td>With the aid of a wealthy erratic tippler, a d...</td>\n      <td>1500000.0</td>\n      <td>19181.0</td>\n      <td>46008.0</td>\n    </tr>\n    <tr>\n      <th>2454</th>\n      <td>Tempi moderni</td>\n      <td>1936</td>\n      <td>Comedy, Drama, Family</td>\n      <td>The Tramp struggles to live in modern industri...</td>\n      <td>1500000.0</td>\n      <td>163577.0</td>\n      <td>457688.0</td>\n    </tr>\n  </tbody>\n</table>\n</div>"
     },
     "metadata": {},
     "execution_count": 33
    }
   ],
   "source": [
    "df_movies[\"worlwide_gross_income\"] = df_movies[\"worlwide_gross_income\"].replace('[\\$,]', '', regex=True).astype(float)\n",
    "df_movies.head()"
   ]
  },
  {
   "cell_type": "code",
   "execution_count": 36,
   "metadata": {},
   "outputs": [],
   "source": [
    "def calculate_profitablity_factor(row):\n",
    "    profit = row[\"worlwide_gross_income\"] - row[\"budget\"]\n",
    "    large_loss_factor = -2*row[\"budget\"]\n",
    "    loss_factor = -.5*row[\"budget\"]\n",
    "    large_gain_factor = 2*row[\"budget\"]\n",
    "    gain_factor = .5*row[\"budget\"]\n",
    "    factor = \"\"\n",
    "    if profit < large_loss_factor:\n",
    "        factor = \"large loss\"\n",
    "    elif profit < loss_factor:\n",
    "        factor = \"loss\"\n",
    "    elif profit >= loss_factor and profit <= gain_factor:\n",
    "        factor = \"break even\"\n",
    "    elif profit > large_gain_factor:\n",
    "        factor = \"large gain\"\n",
    "    else:\n",
    "        factor = \"gain\"\n",
    "    return factor"
   ]
  },
  {
   "cell_type": "code",
   "execution_count": 37,
   "metadata": {},
   "outputs": [
    {
     "output_type": "execute_result",
     "data": {
      "text/plain": [
       "                                    title  year                     genre  \\\n",
       "165      Il gabinetto del dottor Caligari  1920  Fantasy, Horror, Mystery   \n",
       "245   I quattro cavalieri dell'Apocalisse  1921       Drama, Romance, War   \n",
       "506                            Metropolis  1927             Drama, Sci-Fi   \n",
       "1048                     Luci della città  1931    Comedy, Drama, Romance   \n",
       "2454                        Tempi moderni  1936     Comedy, Drama, Family   \n",
       "\n",
       "                                            description     budget  \\\n",
       "165   Hypnotist Dr. Caligari uses a somnambulist, Ce...    18000.0   \n",
       "245   An extended family split up in France and Germ...   800000.0   \n",
       "506   In a futuristic city sharply divided between t...  6000000.0   \n",
       "1048  With the aid of a wealthy erratic tippler, a d...  1500000.0   \n",
       "2454  The Tramp struggles to live in modern industri...  1500000.0   \n",
       "\n",
       "      usa_gross_income  worlwide_gross_income profit_factor  \n",
       "165             8811.0                 8811.0          loss  \n",
       "245          9183673.0              9183673.0    large gain  \n",
       "506          1236166.0              1349711.0          loss  \n",
       "1048           19181.0                46008.0          loss  \n",
       "2454          163577.0               457688.0          loss  "
      ],
      "text/html": "<div>\n<style scoped>\n    .dataframe tbody tr th:only-of-type {\n        vertical-align: middle;\n    }\n\n    .dataframe tbody tr th {\n        vertical-align: top;\n    }\n\n    .dataframe thead th {\n        text-align: right;\n    }\n</style>\n<table border=\"1\" class=\"dataframe\">\n  <thead>\n    <tr style=\"text-align: right;\">\n      <th></th>\n      <th>title</th>\n      <th>year</th>\n      <th>genre</th>\n      <th>description</th>\n      <th>budget</th>\n      <th>usa_gross_income</th>\n      <th>worlwide_gross_income</th>\n      <th>profit_factor</th>\n    </tr>\n  </thead>\n  <tbody>\n    <tr>\n      <th>165</th>\n      <td>Il gabinetto del dottor Caligari</td>\n      <td>1920</td>\n      <td>Fantasy, Horror, Mystery</td>\n      <td>Hypnotist Dr. Caligari uses a somnambulist, Ce...</td>\n      <td>18000.0</td>\n      <td>8811.0</td>\n      <td>8811.0</td>\n      <td>loss</td>\n    </tr>\n    <tr>\n      <th>245</th>\n      <td>I quattro cavalieri dell'Apocalisse</td>\n      <td>1921</td>\n      <td>Drama, Romance, War</td>\n      <td>An extended family split up in France and Germ...</td>\n      <td>800000.0</td>\n      <td>9183673.0</td>\n      <td>9183673.0</td>\n      <td>large gain</td>\n    </tr>\n    <tr>\n      <th>506</th>\n      <td>Metropolis</td>\n      <td>1927</td>\n      <td>Drama, Sci-Fi</td>\n      <td>In a futuristic city sharply divided between t...</td>\n      <td>6000000.0</td>\n      <td>1236166.0</td>\n      <td>1349711.0</td>\n      <td>loss</td>\n    </tr>\n    <tr>\n      <th>1048</th>\n      <td>Luci della città</td>\n      <td>1931</td>\n      <td>Comedy, Drama, Romance</td>\n      <td>With the aid of a wealthy erratic tippler, a d...</td>\n      <td>1500000.0</td>\n      <td>19181.0</td>\n      <td>46008.0</td>\n      <td>loss</td>\n    </tr>\n    <tr>\n      <th>2454</th>\n      <td>Tempi moderni</td>\n      <td>1936</td>\n      <td>Comedy, Drama, Family</td>\n      <td>The Tramp struggles to live in modern industri...</td>\n      <td>1500000.0</td>\n      <td>163577.0</td>\n      <td>457688.0</td>\n      <td>loss</td>\n    </tr>\n  </tbody>\n</table>\n</div>"
     },
     "metadata": {},
     "execution_count": 37
    }
   ],
   "source": [
    "df_movies[\"profit_factor\"] = df_movies.apply(calculate_profitablity_factor, axis=1)\n",
    "df_movies.head()"
   ]
  },
  {
   "cell_type": "code",
   "execution_count": null,
   "metadata": {},
   "outputs": [],
   "source": []
  },
  {
   "cell_type": "code",
   "execution_count": 38,
   "metadata": {},
   "outputs": [],
   "source": [
    "df_movies.to_csv(\"Resource/IMDB_sean.csv\")"
   ]
  },
  {
   "cell_type": "code",
   "execution_count": null,
   "metadata": {},
   "outputs": [],
   "source": []
  }
 ]
}