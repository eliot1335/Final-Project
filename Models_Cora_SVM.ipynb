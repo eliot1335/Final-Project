{
 "metadata": {
  "language_info": {
   "codemirror_mode": {
    "name": "ipython",
    "version": 3
   },
   "file_extension": ".py",
   "mimetype": "text/x-python",
   "name": "python",
   "nbconvert_exporter": "python",
   "pygments_lexer": "ipython3",
   "version": "3.6.10-final"
  },
  "orig_nbformat": 2,
  "kernelspec": {
   "name": "python3",
   "display_name": "Python 3.6.10 64-bit",
   "metadata": {
    "interpreter": {
     "hash": "b7f1b95351681b540155715b28096180c8e313e57d5a257fa2998b8b35cfe1c7"
    }
   }
  }
 },
 "nbformat": 4,
 "nbformat_minor": 2,
 "cells": [
  {
   "cell_type": "code",
   "execution_count": 1,
   "metadata": {},
   "outputs": [],
   "source": [
    "import pandas as pd\n",
    "import numpy as np\n",
    "import os \n",
    "import tensorflow as tf\n",
    "from sklearn.neighbors import KNeighborsClassifier\n",
    "from tensorflow.keras import layers\n",
    "from tensorflow.keras import preprocessing"
   ]
  },
  {
   "cell_type": "code",
   "execution_count": 2,
   "metadata": {},
   "outputs": [
    {
     "output_type": "execute_result",
     "data": {
      "text/plain": [
       "   Unnamed: 0  country language  world_gross_income\n",
       "0          79   Russia  Russian            144968.0\n",
       "1         165  Germany   German              8811.0\n",
       "2         222      USA  English            772155.0\n",
       "3         245      USA  English           9183673.0\n",
       "4         251      USA  English             26916.0"
      ],
      "text/html": "<div>\n<style scoped>\n    .dataframe tbody tr th:only-of-type {\n        vertical-align: middle;\n    }\n\n    .dataframe tbody tr th {\n        vertical-align: top;\n    }\n\n    .dataframe thead th {\n        text-align: right;\n    }\n</style>\n<table border=\"1\" class=\"dataframe\">\n  <thead>\n    <tr style=\"text-align: right;\">\n      <th></th>\n      <th>Unnamed: 0</th>\n      <th>country</th>\n      <th>language</th>\n      <th>world_gross_income</th>\n    </tr>\n  </thead>\n  <tbody>\n    <tr>\n      <th>0</th>\n      <td>79</td>\n      <td>Russia</td>\n      <td>Russian</td>\n      <td>144968.0</td>\n    </tr>\n    <tr>\n      <th>1</th>\n      <td>165</td>\n      <td>Germany</td>\n      <td>German</td>\n      <td>8811.0</td>\n    </tr>\n    <tr>\n      <th>2</th>\n      <td>222</td>\n      <td>USA</td>\n      <td>English</td>\n      <td>772155.0</td>\n    </tr>\n    <tr>\n      <th>3</th>\n      <td>245</td>\n      <td>USA</td>\n      <td>English</td>\n      <td>9183673.0</td>\n    </tr>\n    <tr>\n      <th>4</th>\n      <td>251</td>\n      <td>USA</td>\n      <td>English</td>\n      <td>26916.0</td>\n    </tr>\n  </tbody>\n</table>\n</div>"
     },
     "metadata": {},
     "execution_count": 2
    }
   ],
   "source": [
    "ml_movies= pd.read_csv(\"Resource/IMDB_cora.csv\")\n",
    "ml_movies.head()"
   ]
  },
  {
   "cell_type": "code",
   "execution_count": 3,
   "metadata": {},
   "outputs": [
    {
     "output_type": "execute_result",
     "data": {
      "text/plain": [
       "   country language  world_gross_income\n",
       "0   Russia  Russian            144968.0\n",
       "1  Germany   German              8811.0\n",
       "2      USA  English            772155.0\n",
       "3      USA  English           9183673.0\n",
       "4      USA  English             26916.0"
      ],
      "text/html": "<div>\n<style scoped>\n    .dataframe tbody tr th:only-of-type {\n        vertical-align: middle;\n    }\n\n    .dataframe tbody tr th {\n        vertical-align: top;\n    }\n\n    .dataframe thead th {\n        text-align: right;\n    }\n</style>\n<table border=\"1\" class=\"dataframe\">\n  <thead>\n    <tr style=\"text-align: right;\">\n      <th></th>\n      <th>country</th>\n      <th>language</th>\n      <th>world_gross_income</th>\n    </tr>\n  </thead>\n  <tbody>\n    <tr>\n      <th>0</th>\n      <td>Russia</td>\n      <td>Russian</td>\n      <td>144968.0</td>\n    </tr>\n    <tr>\n      <th>1</th>\n      <td>Germany</td>\n      <td>German</td>\n      <td>8811.0</td>\n    </tr>\n    <tr>\n      <th>2</th>\n      <td>USA</td>\n      <td>English</td>\n      <td>772155.0</td>\n    </tr>\n    <tr>\n      <th>3</th>\n      <td>USA</td>\n      <td>English</td>\n      <td>9183673.0</td>\n    </tr>\n    <tr>\n      <th>4</th>\n      <td>USA</td>\n      <td>English</td>\n      <td>26916.0</td>\n    </tr>\n  </tbody>\n</table>\n</div>"
     },
     "metadata": {},
     "execution_count": 3
    }
   ],
   "source": [
    "ml_movies= ml_movies.drop(\"Unnamed: 0\", axis=1)\n",
    "ml_movies.head()"
   ]
  },
  {
   "cell_type": "code",
   "execution_count": 4,
   "metadata": {},
   "outputs": [
    {
     "output_type": "stream",
     "name": "stdout",
     "text": [
      "               country    language  world_gross_income\n0               Russia  NonEnglish            144968.0\n1              Germany  NonEnglish              8811.0\n2                  USA     English            772155.0\n3                  USA     English           9183673.0\n4                  USA     English             26916.0\n...                ...         ...                 ...\n30851            India  NonEnglish              4791.0\n30852  France, Belgium  NonEnglish           3507171.0\n30853      Netherlands  NonEnglish           7299062.0\n30854           Turkey  NonEnglish              2833.0\n30855            Spain  NonEnglish             59794.0\n\n[30856 rows x 3 columns]\n"
     ]
    }
   ],
   "source": [
    "English = [\"English\",\"english\",\"English,None\"]\n",
    "def clean(response):\n",
    "    if response.lower().rstrip() in English:\n",
    "        return \"English\"\n",
    "    else:\n",
    "        return \"NonEnglish\"\n",
    "ml_movies[\"language\"] = ml_movies[\"language\"].apply(lambda x: clean(x))\n",
    "print(ml_movies)"
   ]
  },
  {
   "cell_type": "code",
   "execution_count": 5,
   "metadata": {},
   "outputs": [
    {
     "output_type": "execute_result",
     "data": {
      "text/plain": [
       "array(['NonEnglish', 'NonEnglish', 'English', ..., 'NonEnglish',\n",
       "       'NonEnglish', 'NonEnglish'], dtype=object)"
      ]
     },
     "metadata": {},
     "execution_count": 5
    }
   ],
   "source": [
    "ml_languages=ml_movies[\"language\"]\n",
    "ml_languages=np.array(ml_languages)\n",
    "ml_languages"
   ]
  },
  {
   "cell_type": "code",
   "execution_count": 6,
   "metadata": {},
   "outputs": [
    {
     "output_type": "stream",
     "name": "stdout",
     "text": [
      "['NonEnglish' 'NonEnglish' 'English' ... 'NonEnglish' 'NonEnglish'\n 'NonEnglish'] [[1.449680e+05]\n [8.811000e+03]\n [7.721550e+05]\n ...\n [7.299062e+06]\n [2.833000e+03]\n [5.979400e+04]]\n"
     ]
    }
   ],
   "source": [
    "X=ml_languages\n",
    "y=ml_movies[\"world_gross_income\"].values.reshape(-1,1)\n",
    "print(X,y)"
   ]
  },
  {
   "cell_type": "code",
   "execution_count": 7,
   "metadata": {},
   "outputs": [],
   "source": [
    "from sklearn.preprocessing import LabelEncoder\n",
    "label_encoder = LabelEncoder()\n",
    "label_encoder.fit(X)\n",
    "encoded_X = label_encoder.transform(X)"
   ]
  },
  {
   "cell_type": "code",
   "execution_count": 8,
   "metadata": {},
   "outputs": [
    {
     "output_type": "stream",
     "name": "stderr",
     "text": [
      "Using TensorFlow backend.\n"
     ]
    }
   ],
   "source": [
    "from keras.utils import to_categorical\n",
    "\n",
    "one_hot_X = to_categorical(encoded_X)\n",
    "one_hot_X=one_hot_X[:,0]\n",
    "one_hot_X=one_hot_X.reshape(-1,1)"
   ]
  },
  {
   "cell_type": "code",
   "execution_count": 9,
   "metadata": {},
   "outputs": [],
   "source": [
    "from sklearn.model_selection import train_test_split\n",
    "\n",
    "one_hot_X_train, one_hot_X_test, y_train, y_test = train_test_split(one_hot_X, y, random_state=1)"
   ]
  },
  {
   "cell_type": "code",
   "execution_count": 10,
   "metadata": {},
   "outputs": [
    {
     "output_type": "execute_result",
     "data": {
      "text/plain": [
       "SVR(kernel='linear')"
      ]
     },
     "metadata": {},
     "execution_count": 10
    }
   ],
   "source": [
    "from sklearn.svm import SVR\n",
    "model = SVR(kernel='linear')\n",
    "model.fit(one_hot_X_train, y_train.ravel())"
   ]
  },
  {
   "cell_type": "code",
   "execution_count": 11,
   "metadata": {},
   "outputs": [],
   "source": [
    "#Create a StandardScaler model\n",
    "from sklearn.preprocessing import StandardScaler\n",
    "X_scaler = StandardScaler().fit(one_hot_X_train)\n",
    "y_scaler = StandardScaler().fit(y_train)"
   ]
  },
  {
   "cell_type": "code",
   "execution_count": 12,
   "metadata": {},
   "outputs": [],
   "source": [
    "X_train_scaled = X_scaler.transform(one_hot_X_train)\n",
    "X_test_scaled = X_scaler.transform(one_hot_X_test)\n",
    "y_train_scaled = y_scaler.transform(y_train)\n",
    "y_test_scaled = y_scaler.transform(y_test)"
   ]
  },
  {
   "cell_type": "code",
   "execution_count": 13,
   "metadata": {},
   "outputs": [
    {
     "output_type": "stream",
     "name": "stdout",
     "text": [
      "R2: -0.05606688723078901\n"
     ]
    }
   ],
   "source": [
    "from sklearn.metrics import mean_squared_error\n",
    "\n",
    "predictions = model.predict(one_hot_X_test)\n",
    "r2 = model.score(one_hot_X_test, y_test)\n",
    "\n",
    "print(f\"R2: {r2}\")"
   ]
  },
  {
   "cell_type": "code",
   "execution_count": 14,
   "metadata": {},
   "outputs": [],
   "source": [
    "#Conclusion: The low value of R2 demonstrate that the data does not fit this regression model very well. Another model should be attempted. "
   ]
  }
 ]
}