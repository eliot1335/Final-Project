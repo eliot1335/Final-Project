{
 "metadata": {
  "language_info": {
   "codemirror_mode": {
    "name": "ipython",
    "version": 3
   },
   "file_extension": ".py",
   "mimetype": "text/x-python",
   "name": "python",
   "nbconvert_exporter": "python",
   "pygments_lexer": "ipython3",
   "version": "3.8.8-final"
  },
  "orig_nbformat": 2,
  "kernelspec": {
   "name": "python3",
   "display_name": "Python 3.8.8 64-bit ('pythoncopy': conda)",
   "metadata": {
    "interpreter": {
     "hash": "4b47a6051c6ae5ea5289da2de9de12cc448013ba8e55e993206d6a2574c469a3"
    }
   }
  }
 },
 "nbformat": 4,
 "nbformat_minor": 2,
 "cells": [
  {
   "cell_type": "code",
   "execution_count": 16,
   "metadata": {},
   "outputs": [],
   "source": [
    "import pandas as pd\n",
    "import numpy as np\n",
    "import os \n",
    "from ast import literal_eval\n",
    "import matplotlib.pyplot as plt"
   ]
  },
  {
   "cell_type": "code",
   "execution_count": 17,
   "metadata": {},
   "outputs": [
    {
     "output_type": "execute_result",
     "data": {
      "text/plain": [
       "      imdb_title_id                           title  \\\n",
       "0         tt0000009                      Miss Jerry   \n",
       "1         tt0000574     The Story of the Kelly Gang   \n",
       "2         tt0001892                  Den sorte drøm   \n",
       "3         tt0002101                       Cleopatra   \n",
       "4         tt0002130                       L'Inferno   \n",
       "...             ...                             ...   \n",
       "85850     tt9908390                         Le lion   \n",
       "85851     tt9911196  De Beentjes van Sint-Hildegard   \n",
       "85852     tt9911774       Padmavyuhathile Abhimanyu   \n",
       "85853     tt9914286               Sokagin Çocuklari   \n",
       "85854     tt9914942      La vida sense la Sara Amat   \n",
       "\n",
       "                       original_title  year date_published  \\\n",
       "0                          Miss Jerry  1894     1894-10-09   \n",
       "1         The Story of the Kelly Gang  1906     1906-12-26   \n",
       "2                      Den sorte drøm  1911     1911-08-19   \n",
       "3                           Cleopatra  1912     1912-11-13   \n",
       "4                           L'Inferno  1911     1911-03-06   \n",
       "...                               ...   ...            ...   \n",
       "85850                         Le lion  2020     2020-01-29   \n",
       "85851  De Beentjes van Sint-Hildegard  2020     2020-02-13   \n",
       "85852       Padmavyuhathile Abhimanyu  2019     2019-03-08   \n",
       "85853               Sokagin Çocuklari  2019     2019-03-15   \n",
       "85854      La vida sense la Sara Amat  2019     2020-02-05   \n",
       "\n",
       "                           genre  duration           country       language  \\\n",
       "0                        Romance        45               USA           None   \n",
       "1        Biography, Crime, Drama        70         Australia           None   \n",
       "2                          Drama        53  Germany, Denmark            NaN   \n",
       "3                 Drama, History       100               USA        English   \n",
       "4      Adventure, Drama, Fantasy        68             Italy        Italian   \n",
       "...                          ...       ...               ...            ...   \n",
       "85850                     Comedy        95   France, Belgium         French   \n",
       "85851              Comedy, Drama       103       Netherlands  German, Dutch   \n",
       "85852                      Drama       130             India      Malayalam   \n",
       "85853              Drama, Family        98            Turkey        Turkish   \n",
       "85854                      Drama        74             Spain        Catalan   \n",
       "\n",
       "                                  director  ...  \\\n",
       "0                          Alexander Black  ...   \n",
       "1                             Charles Tait  ...   \n",
       "2                                Urban Gad  ...   \n",
       "3                       Charles L. Gaskill  ...   \n",
       "4      Francesco Bertolini, Adolfo Padovan  ...   \n",
       "...                                    ...  ...   \n",
       "85850               Ludovic Colbeau-Justin  ...   \n",
       "85851                      Johan Nijenhuis  ...   \n",
       "85852                      Vineesh Aaradya  ...   \n",
       "85853                    Ahmet Faik Akinci  ...   \n",
       "85854                            Laura Jou  ...   \n",
       "\n",
       "                                                  actors  \\\n",
       "0      Blanche Bayliss, William Courtenay, Chauncey D...   \n",
       "1      Elizabeth Tait, John Tait, Norman Campbell, Be...   \n",
       "2      Asta Nielsen, Valdemar Psilander, Gunnar Helse...   \n",
       "3      Helen Gardner, Pearl Sindelar, Miss Fielding, ...   \n",
       "4      Salvatore Papa, Arturo Pirovano, Giuseppe de L...   \n",
       "...                                                  ...   \n",
       "85850  Dany Boon, Philippe Katerine, Anne Serra, Samu...   \n",
       "85851  Herman Finkers, Johanna ter Steege, Leonie ter...   \n",
       "85852  Anoop Chandran, Indrans, Sona Nair, Simon Brit...   \n",
       "85853  Ahmet Faik Akinci, Belma Mamati, Metin Keçeci,...   \n",
       "85854  Maria Morera Colomer, Biel Rossell Pelfort, Is...   \n",
       "\n",
       "                                             description avg_vote votes  \\\n",
       "0      The adventures of a female reporter in the 1890s.      5.9   154   \n",
       "1      True story of notorious Australian outlaw Ned ...      6.1   589   \n",
       "2      Two men of high rank are both wooing the beaut...      5.8   188   \n",
       "3      The fabled queen of Egypt's affair with Roman ...      5.2   446   \n",
       "4      Loosely adapted from Dante's Divine Comedy and...      7.0  2237   \n",
       "...                                                  ...      ...   ...   \n",
       "85850  A psychiatric hospital patient pretends to be ...      5.3   398   \n",
       "85851  A middle-aged veterinary surgeon believes his ...      7.7   724   \n",
       "85852                                                NaN      7.9   265   \n",
       "85853                                                NaN      6.4   194   \n",
       "85854  Pep, a 13-year-old boy, is in love with a girl...      6.7   102   \n",
       "\n",
       "        budget  usa_gross_income worlwide_gross_income metascore  \\\n",
       "0          NaN               NaN                   NaN       NaN   \n",
       "1       $ 2250               NaN                   NaN       NaN   \n",
       "2          NaN               NaN                   NaN       NaN   \n",
       "3      $ 45000               NaN                   NaN       NaN   \n",
       "4          NaN               NaN                   NaN       NaN   \n",
       "...        ...               ...                   ...       ...   \n",
       "85850      NaN               NaN             $ 3507171       NaN   \n",
       "85851      NaN               NaN             $ 7299062       NaN   \n",
       "85852      NaN               NaN                   NaN       NaN   \n",
       "85853      NaN               NaN                $ 2833       NaN   \n",
       "85854      NaN               NaN               $ 59794       NaN   \n",
       "\n",
       "      reviews_from_users  reviews_from_critics  \n",
       "0                    1.0                   2.0  \n",
       "1                    7.0                   7.0  \n",
       "2                    5.0                   2.0  \n",
       "3                   25.0                   3.0  \n",
       "4                   31.0                  14.0  \n",
       "...                  ...                   ...  \n",
       "85850                NaN                   4.0  \n",
       "85851                6.0                   4.0  \n",
       "85852                NaN                   NaN  \n",
       "85853                NaN                   NaN  \n",
       "85854                NaN                   2.0  \n",
       "\n",
       "[85855 rows x 22 columns]"
      ],
      "text/html": "<div>\n<style scoped>\n    .dataframe tbody tr th:only-of-type {\n        vertical-align: middle;\n    }\n\n    .dataframe tbody tr th {\n        vertical-align: top;\n    }\n\n    .dataframe thead th {\n        text-align: right;\n    }\n</style>\n<table border=\"1\" class=\"dataframe\">\n  <thead>\n    <tr style=\"text-align: right;\">\n      <th></th>\n      <th>imdb_title_id</th>\n      <th>title</th>\n      <th>original_title</th>\n      <th>year</th>\n      <th>date_published</th>\n      <th>genre</th>\n      <th>duration</th>\n      <th>country</th>\n      <th>language</th>\n      <th>director</th>\n      <th>...</th>\n      <th>actors</th>\n      <th>description</th>\n      <th>avg_vote</th>\n      <th>votes</th>\n      <th>budget</th>\n      <th>usa_gross_income</th>\n      <th>worlwide_gross_income</th>\n      <th>metascore</th>\n      <th>reviews_from_users</th>\n      <th>reviews_from_critics</th>\n    </tr>\n  </thead>\n  <tbody>\n    <tr>\n      <th>0</th>\n      <td>tt0000009</td>\n      <td>Miss Jerry</td>\n      <td>Miss Jerry</td>\n      <td>1894</td>\n      <td>1894-10-09</td>\n      <td>Romance</td>\n      <td>45</td>\n      <td>USA</td>\n      <td>None</td>\n      <td>Alexander Black</td>\n      <td>...</td>\n      <td>Blanche Bayliss, William Courtenay, Chauncey D...</td>\n      <td>The adventures of a female reporter in the 1890s.</td>\n      <td>5.9</td>\n      <td>154</td>\n      <td>NaN</td>\n      <td>NaN</td>\n      <td>NaN</td>\n      <td>NaN</td>\n      <td>1.0</td>\n      <td>2.0</td>\n    </tr>\n    <tr>\n      <th>1</th>\n      <td>tt0000574</td>\n      <td>The Story of the Kelly Gang</td>\n      <td>The Story of the Kelly Gang</td>\n      <td>1906</td>\n      <td>1906-12-26</td>\n      <td>Biography, Crime, Drama</td>\n      <td>70</td>\n      <td>Australia</td>\n      <td>None</td>\n      <td>Charles Tait</td>\n      <td>...</td>\n      <td>Elizabeth Tait, John Tait, Norman Campbell, Be...</td>\n      <td>True story of notorious Australian outlaw Ned ...</td>\n      <td>6.1</td>\n      <td>589</td>\n      <td>$ 2250</td>\n      <td>NaN</td>\n      <td>NaN</td>\n      <td>NaN</td>\n      <td>7.0</td>\n      <td>7.0</td>\n    </tr>\n    <tr>\n      <th>2</th>\n      <td>tt0001892</td>\n      <td>Den sorte drøm</td>\n      <td>Den sorte drøm</td>\n      <td>1911</td>\n      <td>1911-08-19</td>\n      <td>Drama</td>\n      <td>53</td>\n      <td>Germany, Denmark</td>\n      <td>NaN</td>\n      <td>Urban Gad</td>\n      <td>...</td>\n      <td>Asta Nielsen, Valdemar Psilander, Gunnar Helse...</td>\n      <td>Two men of high rank are both wooing the beaut...</td>\n      <td>5.8</td>\n      <td>188</td>\n      <td>NaN</td>\n      <td>NaN</td>\n      <td>NaN</td>\n      <td>NaN</td>\n      <td>5.0</td>\n      <td>2.0</td>\n    </tr>\n    <tr>\n      <th>3</th>\n      <td>tt0002101</td>\n      <td>Cleopatra</td>\n      <td>Cleopatra</td>\n      <td>1912</td>\n      <td>1912-11-13</td>\n      <td>Drama, History</td>\n      <td>100</td>\n      <td>USA</td>\n      <td>English</td>\n      <td>Charles L. Gaskill</td>\n      <td>...</td>\n      <td>Helen Gardner, Pearl Sindelar, Miss Fielding, ...</td>\n      <td>The fabled queen of Egypt's affair with Roman ...</td>\n      <td>5.2</td>\n      <td>446</td>\n      <td>$ 45000</td>\n      <td>NaN</td>\n      <td>NaN</td>\n      <td>NaN</td>\n      <td>25.0</td>\n      <td>3.0</td>\n    </tr>\n    <tr>\n      <th>4</th>\n      <td>tt0002130</td>\n      <td>L'Inferno</td>\n      <td>L'Inferno</td>\n      <td>1911</td>\n      <td>1911-03-06</td>\n      <td>Adventure, Drama, Fantasy</td>\n      <td>68</td>\n      <td>Italy</td>\n      <td>Italian</td>\n      <td>Francesco Bertolini, Adolfo Padovan</td>\n      <td>...</td>\n      <td>Salvatore Papa, Arturo Pirovano, Giuseppe de L...</td>\n      <td>Loosely adapted from Dante's Divine Comedy and...</td>\n      <td>7.0</td>\n      <td>2237</td>\n      <td>NaN</td>\n      <td>NaN</td>\n      <td>NaN</td>\n      <td>NaN</td>\n      <td>31.0</td>\n      <td>14.0</td>\n    </tr>\n    <tr>\n      <th>...</th>\n      <td>...</td>\n      <td>...</td>\n      <td>...</td>\n      <td>...</td>\n      <td>...</td>\n      <td>...</td>\n      <td>...</td>\n      <td>...</td>\n      <td>...</td>\n      <td>...</td>\n      <td>...</td>\n      <td>...</td>\n      <td>...</td>\n      <td>...</td>\n      <td>...</td>\n      <td>...</td>\n      <td>...</td>\n      <td>...</td>\n      <td>...</td>\n      <td>...</td>\n      <td>...</td>\n    </tr>\n    <tr>\n      <th>85850</th>\n      <td>tt9908390</td>\n      <td>Le lion</td>\n      <td>Le lion</td>\n      <td>2020</td>\n      <td>2020-01-29</td>\n      <td>Comedy</td>\n      <td>95</td>\n      <td>France, Belgium</td>\n      <td>French</td>\n      <td>Ludovic Colbeau-Justin</td>\n      <td>...</td>\n      <td>Dany Boon, Philippe Katerine, Anne Serra, Samu...</td>\n      <td>A psychiatric hospital patient pretends to be ...</td>\n      <td>5.3</td>\n      <td>398</td>\n      <td>NaN</td>\n      <td>NaN</td>\n      <td>$ 3507171</td>\n      <td>NaN</td>\n      <td>NaN</td>\n      <td>4.0</td>\n    </tr>\n    <tr>\n      <th>85851</th>\n      <td>tt9911196</td>\n      <td>De Beentjes van Sint-Hildegard</td>\n      <td>De Beentjes van Sint-Hildegard</td>\n      <td>2020</td>\n      <td>2020-02-13</td>\n      <td>Comedy, Drama</td>\n      <td>103</td>\n      <td>Netherlands</td>\n      <td>German, Dutch</td>\n      <td>Johan Nijenhuis</td>\n      <td>...</td>\n      <td>Herman Finkers, Johanna ter Steege, Leonie ter...</td>\n      <td>A middle-aged veterinary surgeon believes his ...</td>\n      <td>7.7</td>\n      <td>724</td>\n      <td>NaN</td>\n      <td>NaN</td>\n      <td>$ 7299062</td>\n      <td>NaN</td>\n      <td>6.0</td>\n      <td>4.0</td>\n    </tr>\n    <tr>\n      <th>85852</th>\n      <td>tt9911774</td>\n      <td>Padmavyuhathile Abhimanyu</td>\n      <td>Padmavyuhathile Abhimanyu</td>\n      <td>2019</td>\n      <td>2019-03-08</td>\n      <td>Drama</td>\n      <td>130</td>\n      <td>India</td>\n      <td>Malayalam</td>\n      <td>Vineesh Aaradya</td>\n      <td>...</td>\n      <td>Anoop Chandran, Indrans, Sona Nair, Simon Brit...</td>\n      <td>NaN</td>\n      <td>7.9</td>\n      <td>265</td>\n      <td>NaN</td>\n      <td>NaN</td>\n      <td>NaN</td>\n      <td>NaN</td>\n      <td>NaN</td>\n      <td>NaN</td>\n    </tr>\n    <tr>\n      <th>85853</th>\n      <td>tt9914286</td>\n      <td>Sokagin Çocuklari</td>\n      <td>Sokagin Çocuklari</td>\n      <td>2019</td>\n      <td>2019-03-15</td>\n      <td>Drama, Family</td>\n      <td>98</td>\n      <td>Turkey</td>\n      <td>Turkish</td>\n      <td>Ahmet Faik Akinci</td>\n      <td>...</td>\n      <td>Ahmet Faik Akinci, Belma Mamati, Metin Keçeci,...</td>\n      <td>NaN</td>\n      <td>6.4</td>\n      <td>194</td>\n      <td>NaN</td>\n      <td>NaN</td>\n      <td>$ 2833</td>\n      <td>NaN</td>\n      <td>NaN</td>\n      <td>NaN</td>\n    </tr>\n    <tr>\n      <th>85854</th>\n      <td>tt9914942</td>\n      <td>La vida sense la Sara Amat</td>\n      <td>La vida sense la Sara Amat</td>\n      <td>2019</td>\n      <td>2020-02-05</td>\n      <td>Drama</td>\n      <td>74</td>\n      <td>Spain</td>\n      <td>Catalan</td>\n      <td>Laura Jou</td>\n      <td>...</td>\n      <td>Maria Morera Colomer, Biel Rossell Pelfort, Is...</td>\n      <td>Pep, a 13-year-old boy, is in love with a girl...</td>\n      <td>6.7</td>\n      <td>102</td>\n      <td>NaN</td>\n      <td>NaN</td>\n      <td>$ 59794</td>\n      <td>NaN</td>\n      <td>NaN</td>\n      <td>2.0</td>\n    </tr>\n  </tbody>\n</table>\n<p>85855 rows × 22 columns</p>\n</div>"
     },
     "metadata": {},
     "execution_count": 17
    }
   ],
   "source": [
    "df_data= pd.read_csv(\"Resource/IMDb_movies.csv\", low_memory=False)\n",
    "df_data"
   ]
  },
  {
   "cell_type": "code",
   "execution_count": 18,
   "metadata": {},
   "outputs": [
    {
     "output_type": "execute_result",
     "data": {
      "text/plain": [
       "                         title  year                      genre  \\\n",
       "0                   Miss Jerry  1894                    Romance   \n",
       "1  The Story of the Kelly Gang  1906    Biography, Crime, Drama   \n",
       "2               Den sorte drøm  1911                      Drama   \n",
       "3                    Cleopatra  1912             Drama, History   \n",
       "4                    L'Inferno  1911  Adventure, Drama, Fantasy   \n",
       "\n",
       "            country language usa_gross_income worlwide_gross_income  \n",
       "0               USA     None              NaN                   NaN  \n",
       "1         Australia     None              NaN                   NaN  \n",
       "2  Germany, Denmark      NaN              NaN                   NaN  \n",
       "3               USA  English              NaN                   NaN  \n",
       "4             Italy  Italian              NaN                   NaN  "
      ],
      "text/html": "<div>\n<style scoped>\n    .dataframe tbody tr th:only-of-type {\n        vertical-align: middle;\n    }\n\n    .dataframe tbody tr th {\n        vertical-align: top;\n    }\n\n    .dataframe thead th {\n        text-align: right;\n    }\n</style>\n<table border=\"1\" class=\"dataframe\">\n  <thead>\n    <tr style=\"text-align: right;\">\n      <th></th>\n      <th>title</th>\n      <th>year</th>\n      <th>genre</th>\n      <th>country</th>\n      <th>language</th>\n      <th>usa_gross_income</th>\n      <th>worlwide_gross_income</th>\n    </tr>\n  </thead>\n  <tbody>\n    <tr>\n      <th>0</th>\n      <td>Miss Jerry</td>\n      <td>1894</td>\n      <td>Romance</td>\n      <td>USA</td>\n      <td>None</td>\n      <td>NaN</td>\n      <td>NaN</td>\n    </tr>\n    <tr>\n      <th>1</th>\n      <td>The Story of the Kelly Gang</td>\n      <td>1906</td>\n      <td>Biography, Crime, Drama</td>\n      <td>Australia</td>\n      <td>None</td>\n      <td>NaN</td>\n      <td>NaN</td>\n    </tr>\n    <tr>\n      <th>2</th>\n      <td>Den sorte drøm</td>\n      <td>1911</td>\n      <td>Drama</td>\n      <td>Germany, Denmark</td>\n      <td>NaN</td>\n      <td>NaN</td>\n      <td>NaN</td>\n    </tr>\n    <tr>\n      <th>3</th>\n      <td>Cleopatra</td>\n      <td>1912</td>\n      <td>Drama, History</td>\n      <td>USA</td>\n      <td>English</td>\n      <td>NaN</td>\n      <td>NaN</td>\n    </tr>\n    <tr>\n      <th>4</th>\n      <td>L'Inferno</td>\n      <td>1911</td>\n      <td>Adventure, Drama, Fantasy</td>\n      <td>Italy</td>\n      <td>Italian</td>\n      <td>NaN</td>\n      <td>NaN</td>\n    </tr>\n  </tbody>\n</table>\n</div>"
     },
     "metadata": {},
     "execution_count": 18
    }
   ],
   "source": [
    "movies_cols= [\"title\",\"year\",\"genre\",\"country\",\"language\",\"usa_gross_income\",\"worlwide_gross_income\"]\n",
    "df_movies= df_data[movies_cols].copy()\n",
    "df_movies.head()"
   ]
  },
  {
   "cell_type": "code",
   "execution_count": 19,
   "metadata": {},
   "outputs": [
    {
     "output_type": "execute_result",
     "data": {
      "text/plain": [
       "                                title  year                      genre  \\\n",
       "0                          Miss Jerry  1894                    Romance   \n",
       "1         The Story of the Kelly Gang  1906    Biography, Crime, Drama   \n",
       "2                      Den sorte drøm  1911                      Drama   \n",
       "3                           Cleopatra  1912             Drama, History   \n",
       "4                           L'Inferno  1911  Adventure, Drama, Fantasy   \n",
       "...                               ...   ...                        ...   \n",
       "85850                         Le lion  2020                     Comedy   \n",
       "85851  De Beentjes van Sint-Hildegard  2020              Comedy, Drama   \n",
       "85852       Padmavyuhathile Abhimanyu  2019                      Drama   \n",
       "85853               Sokagin Çocuklari  2019              Drama, Family   \n",
       "85854      La vida sense la Sara Amat  2019                      Drama   \n",
       "\n",
       "                country       language usaGrossIncome worldGrossIncome  \n",
       "0                   USA           None            NaN              NaN  \n",
       "1             Australia           None            NaN              NaN  \n",
       "2      Germany, Denmark            NaN            NaN              NaN  \n",
       "3                   USA        English            NaN              NaN  \n",
       "4                 Italy        Italian            NaN              NaN  \n",
       "...                 ...            ...            ...              ...  \n",
       "85850   France, Belgium         French            NaN        $ 3507171  \n",
       "85851       Netherlands  German, Dutch            NaN        $ 7299062  \n",
       "85852             India      Malayalam            NaN              NaN  \n",
       "85853            Turkey        Turkish            NaN           $ 2833  \n",
       "85854             Spain        Catalan            NaN          $ 59794  \n",
       "\n",
       "[85855 rows x 7 columns]"
      ],
      "text/html": "<div>\n<style scoped>\n    .dataframe tbody tr th:only-of-type {\n        vertical-align: middle;\n    }\n\n    .dataframe tbody tr th {\n        vertical-align: top;\n    }\n\n    .dataframe thead th {\n        text-align: right;\n    }\n</style>\n<table border=\"1\" class=\"dataframe\">\n  <thead>\n    <tr style=\"text-align: right;\">\n      <th></th>\n      <th>title</th>\n      <th>year</th>\n      <th>genre</th>\n      <th>country</th>\n      <th>language</th>\n      <th>usaGrossIncome</th>\n      <th>worldGrossIncome</th>\n    </tr>\n  </thead>\n  <tbody>\n    <tr>\n      <th>0</th>\n      <td>Miss Jerry</td>\n      <td>1894</td>\n      <td>Romance</td>\n      <td>USA</td>\n      <td>None</td>\n      <td>NaN</td>\n      <td>NaN</td>\n    </tr>\n    <tr>\n      <th>1</th>\n      <td>The Story of the Kelly Gang</td>\n      <td>1906</td>\n      <td>Biography, Crime, Drama</td>\n      <td>Australia</td>\n      <td>None</td>\n      <td>NaN</td>\n      <td>NaN</td>\n    </tr>\n    <tr>\n      <th>2</th>\n      <td>Den sorte drøm</td>\n      <td>1911</td>\n      <td>Drama</td>\n      <td>Germany, Denmark</td>\n      <td>NaN</td>\n      <td>NaN</td>\n      <td>NaN</td>\n    </tr>\n    <tr>\n      <th>3</th>\n      <td>Cleopatra</td>\n      <td>1912</td>\n      <td>Drama, History</td>\n      <td>USA</td>\n      <td>English</td>\n      <td>NaN</td>\n      <td>NaN</td>\n    </tr>\n    <tr>\n      <th>4</th>\n      <td>L'Inferno</td>\n      <td>1911</td>\n      <td>Adventure, Drama, Fantasy</td>\n      <td>Italy</td>\n      <td>Italian</td>\n      <td>NaN</td>\n      <td>NaN</td>\n    </tr>\n    <tr>\n      <th>...</th>\n      <td>...</td>\n      <td>...</td>\n      <td>...</td>\n      <td>...</td>\n      <td>...</td>\n      <td>...</td>\n      <td>...</td>\n    </tr>\n    <tr>\n      <th>85850</th>\n      <td>Le lion</td>\n      <td>2020</td>\n      <td>Comedy</td>\n      <td>France, Belgium</td>\n      <td>French</td>\n      <td>NaN</td>\n      <td>$ 3507171</td>\n    </tr>\n    <tr>\n      <th>85851</th>\n      <td>De Beentjes van Sint-Hildegard</td>\n      <td>2020</td>\n      <td>Comedy, Drama</td>\n      <td>Netherlands</td>\n      <td>German, Dutch</td>\n      <td>NaN</td>\n      <td>$ 7299062</td>\n    </tr>\n    <tr>\n      <th>85852</th>\n      <td>Padmavyuhathile Abhimanyu</td>\n      <td>2019</td>\n      <td>Drama</td>\n      <td>India</td>\n      <td>Malayalam</td>\n      <td>NaN</td>\n      <td>NaN</td>\n    </tr>\n    <tr>\n      <th>85853</th>\n      <td>Sokagin Çocuklari</td>\n      <td>2019</td>\n      <td>Drama, Family</td>\n      <td>Turkey</td>\n      <td>Turkish</td>\n      <td>NaN</td>\n      <td>$ 2833</td>\n    </tr>\n    <tr>\n      <th>85854</th>\n      <td>La vida sense la Sara Amat</td>\n      <td>2019</td>\n      <td>Drama</td>\n      <td>Spain</td>\n      <td>Catalan</td>\n      <td>NaN</td>\n      <td>$ 59794</td>\n    </tr>\n  </tbody>\n</table>\n<p>85855 rows × 7 columns</p>\n</div>"
     },
     "metadata": {},
     "execution_count": 19
    }
   ],
   "source": [
    "renamed={\"usa_gross_income\":\"usaGrossIncome\",\"worlwide_gross_income\": \"worldGrossIncome\"}\n",
    "df_movies=df_movies.rename(columns=renamed)\n",
    "df_movies"
   ]
  },
  {
   "cell_type": "code",
   "execution_count": 20,
   "metadata": {},
   "outputs": [
    {
     "output_type": "execute_result",
     "data": {
      "text/plain": [
       "title               object\n",
       "year                object\n",
       "genre               object\n",
       "country             object\n",
       "language            object\n",
       "usaGrossIncome      object\n",
       "worldGrossIncome    object\n",
       "dtype: object"
      ]
     },
     "metadata": {},
     "execution_count": 20
    }
   ],
   "source": [
    "df_movies.dtypes"
   ]
  },
  {
   "cell_type": "code",
   "execution_count": 37,
   "metadata": {},
   "outputs": [],
   "source": [
    "df_movies[\"usaGrossIncome\"]=pd.to_numeric(df_movies[\"usaGrossIncome\"].replace([np.inf,-np.inf], np.nan).dropna(), downcast=\"integer\", errors=\"coerce\")\n",
    "df_movies[\"worldGrossIncome\"]=pd.to_numeric(df_movies[\"worldGrossIncome\"].replace([np.inf,-np.inf], np.nan).dropna(), downcast=\"integer\", errors=\"coerce\")"
   ]
  },
  {
   "cell_type": "code",
   "execution_count": 38,
   "metadata": {},
   "outputs": [
    {
     "output_type": "execute_result",
     "data": {
      "text/plain": [
       "title                       object\n",
       "year                datetime64[ns]\n",
       "genre                       object\n",
       "country                     object\n",
       "language                    object\n",
       "usaGrossIncome             float64\n",
       "worldGrossIncome           float64\n",
       "dtype: object"
      ]
     },
     "metadata": {},
     "execution_count": 38
    }
   ],
   "source": [
    "df_movies.dtypes"
   ]
  },
  {
   "cell_type": "code",
   "execution_count": 39,
   "metadata": {},
   "outputs": [
    {
     "output_type": "execute_result",
     "data": {
      "text/plain": [
       "                                title       year                      genre  \\\n",
       "0                          Miss Jerry 1894-01-01                    Romance   \n",
       "1         The Story of the Kelly Gang 1906-01-01    Biography, Crime, Drama   \n",
       "2                      Den sorte drøm 1911-01-01                      Drama   \n",
       "3                           Cleopatra 1912-01-01             Drama, History   \n",
       "4                           L'Inferno 1911-01-01  Adventure, Drama, Fantasy   \n",
       "...                               ...        ...                        ...   \n",
       "85850                         Le lion 2020-01-01                     Comedy   \n",
       "85851  De Beentjes van Sint-Hildegard 2020-01-01              Comedy, Drama   \n",
       "85852       Padmavyuhathile Abhimanyu 2019-01-01                      Drama   \n",
       "85853               Sokagin Çocuklari 2019-01-01              Drama, Family   \n",
       "85854      La vida sense la Sara Amat 2019-01-01                      Drama   \n",
       "\n",
       "                country       language  usaGrossIncome  worldGrossIncome  \n",
       "0                   USA           None             NaN               NaN  \n",
       "1             Australia           None             NaN               NaN  \n",
       "2      Germany, Denmark            NaN             NaN               NaN  \n",
       "3                   USA        English             NaN               NaN  \n",
       "4                 Italy        Italian             NaN               NaN  \n",
       "...                 ...            ...             ...               ...  \n",
       "85850   France, Belgium         French             NaN               NaN  \n",
       "85851       Netherlands  German, Dutch             NaN               NaN  \n",
       "85852             India      Malayalam             NaN               NaN  \n",
       "85853            Turkey        Turkish             NaN               NaN  \n",
       "85854             Spain        Catalan             NaN               NaN  \n",
       "\n",
       "[85855 rows x 7 columns]"
      ],
      "text/html": "<div>\n<style scoped>\n    .dataframe tbody tr th:only-of-type {\n        vertical-align: middle;\n    }\n\n    .dataframe tbody tr th {\n        vertical-align: top;\n    }\n\n    .dataframe thead th {\n        text-align: right;\n    }\n</style>\n<table border=\"1\" class=\"dataframe\">\n  <thead>\n    <tr style=\"text-align: right;\">\n      <th></th>\n      <th>title</th>\n      <th>year</th>\n      <th>genre</th>\n      <th>country</th>\n      <th>language</th>\n      <th>usaGrossIncome</th>\n      <th>worldGrossIncome</th>\n    </tr>\n  </thead>\n  <tbody>\n    <tr>\n      <th>0</th>\n      <td>Miss Jerry</td>\n      <td>1894-01-01</td>\n      <td>Romance</td>\n      <td>USA</td>\n      <td>None</td>\n      <td>NaN</td>\n      <td>NaN</td>\n    </tr>\n    <tr>\n      <th>1</th>\n      <td>The Story of the Kelly Gang</td>\n      <td>1906-01-01</td>\n      <td>Biography, Crime, Drama</td>\n      <td>Australia</td>\n      <td>None</td>\n      <td>NaN</td>\n      <td>NaN</td>\n    </tr>\n    <tr>\n      <th>2</th>\n      <td>Den sorte drøm</td>\n      <td>1911-01-01</td>\n      <td>Drama</td>\n      <td>Germany, Denmark</td>\n      <td>NaN</td>\n      <td>NaN</td>\n      <td>NaN</td>\n    </tr>\n    <tr>\n      <th>3</th>\n      <td>Cleopatra</td>\n      <td>1912-01-01</td>\n      <td>Drama, History</td>\n      <td>USA</td>\n      <td>English</td>\n      <td>NaN</td>\n      <td>NaN</td>\n    </tr>\n    <tr>\n      <th>4</th>\n      <td>L'Inferno</td>\n      <td>1911-01-01</td>\n      <td>Adventure, Drama, Fantasy</td>\n      <td>Italy</td>\n      <td>Italian</td>\n      <td>NaN</td>\n      <td>NaN</td>\n    </tr>\n    <tr>\n      <th>...</th>\n      <td>...</td>\n      <td>...</td>\n      <td>...</td>\n      <td>...</td>\n      <td>...</td>\n      <td>...</td>\n      <td>...</td>\n    </tr>\n    <tr>\n      <th>85850</th>\n      <td>Le lion</td>\n      <td>2020-01-01</td>\n      <td>Comedy</td>\n      <td>France, Belgium</td>\n      <td>French</td>\n      <td>NaN</td>\n      <td>NaN</td>\n    </tr>\n    <tr>\n      <th>85851</th>\n      <td>De Beentjes van Sint-Hildegard</td>\n      <td>2020-01-01</td>\n      <td>Comedy, Drama</td>\n      <td>Netherlands</td>\n      <td>German, Dutch</td>\n      <td>NaN</td>\n      <td>NaN</td>\n    </tr>\n    <tr>\n      <th>85852</th>\n      <td>Padmavyuhathile Abhimanyu</td>\n      <td>2019-01-01</td>\n      <td>Drama</td>\n      <td>India</td>\n      <td>Malayalam</td>\n      <td>NaN</td>\n      <td>NaN</td>\n    </tr>\n    <tr>\n      <th>85853</th>\n      <td>Sokagin Çocuklari</td>\n      <td>2019-01-01</td>\n      <td>Drama, Family</td>\n      <td>Turkey</td>\n      <td>Turkish</td>\n      <td>NaN</td>\n      <td>NaN</td>\n    </tr>\n    <tr>\n      <th>85854</th>\n      <td>La vida sense la Sara Amat</td>\n      <td>2019-01-01</td>\n      <td>Drama</td>\n      <td>Spain</td>\n      <td>Catalan</td>\n      <td>NaN</td>\n      <td>NaN</td>\n    </tr>\n  </tbody>\n</table>\n<p>85855 rows × 7 columns</p>\n</div>"
     },
     "metadata": {},
     "execution_count": 39
    }
   ],
   "source": [
    "df_movies"
   ]
  },
  {
   "cell_type": "code",
   "execution_count": 41,
   "metadata": {},
   "outputs": [
    {
     "output_type": "execute_result",
     "data": {
      "text/plain": [
       "                                title       year                      genre  \\\n",
       "0                          Miss Jerry 1894-01-01                    Romance   \n",
       "1         The Story of the Kelly Gang 1906-01-01    Biography, Crime, Drama   \n",
       "2                      Den sorte drøm 1911-01-01                      Drama   \n",
       "3                           Cleopatra 1912-01-01             Drama, History   \n",
       "4                           L'Inferno 1911-01-01  Adventure, Drama, Fantasy   \n",
       "...                               ...        ...                        ...   \n",
       "85850                         Le lion 2020-01-01                     Comedy   \n",
       "85851  De Beentjes van Sint-Hildegard 2020-01-01              Comedy, Drama   \n",
       "85852       Padmavyuhathile Abhimanyu 2019-01-01                      Drama   \n",
       "85853               Sokagin Çocuklari 2019-01-01              Drama, Family   \n",
       "85854      La vida sense la Sara Amat 2019-01-01                      Drama   \n",
       "\n",
       "                country       language  usaGrossIncome  worldGrossIncome  \n",
       "0                   USA           None             0.0               0.0  \n",
       "1             Australia           None             0.0               0.0  \n",
       "2      Germany, Denmark            NaN             0.0               0.0  \n",
       "3                   USA        English             0.0               0.0  \n",
       "4                 Italy        Italian             0.0               0.0  \n",
       "...                 ...            ...             ...               ...  \n",
       "85850   France, Belgium         French             0.0               0.0  \n",
       "85851       Netherlands  German, Dutch             0.0               0.0  \n",
       "85852             India      Malayalam             0.0               0.0  \n",
       "85853            Turkey        Turkish             0.0               0.0  \n",
       "85854             Spain        Catalan             0.0               0.0  \n",
       "\n",
       "[85855 rows x 7 columns]"
      ],
      "text/html": "<div>\n<style scoped>\n    .dataframe tbody tr th:only-of-type {\n        vertical-align: middle;\n    }\n\n    .dataframe tbody tr th {\n        vertical-align: top;\n    }\n\n    .dataframe thead th {\n        text-align: right;\n    }\n</style>\n<table border=\"1\" class=\"dataframe\">\n  <thead>\n    <tr style=\"text-align: right;\">\n      <th></th>\n      <th>title</th>\n      <th>year</th>\n      <th>genre</th>\n      <th>country</th>\n      <th>language</th>\n      <th>usaGrossIncome</th>\n      <th>worldGrossIncome</th>\n    </tr>\n  </thead>\n  <tbody>\n    <tr>\n      <th>0</th>\n      <td>Miss Jerry</td>\n      <td>1894-01-01</td>\n      <td>Romance</td>\n      <td>USA</td>\n      <td>None</td>\n      <td>0.0</td>\n      <td>0.0</td>\n    </tr>\n    <tr>\n      <th>1</th>\n      <td>The Story of the Kelly Gang</td>\n      <td>1906-01-01</td>\n      <td>Biography, Crime, Drama</td>\n      <td>Australia</td>\n      <td>None</td>\n      <td>0.0</td>\n      <td>0.0</td>\n    </tr>\n    <tr>\n      <th>2</th>\n      <td>Den sorte drøm</td>\n      <td>1911-01-01</td>\n      <td>Drama</td>\n      <td>Germany, Denmark</td>\n      <td>NaN</td>\n      <td>0.0</td>\n      <td>0.0</td>\n    </tr>\n    <tr>\n      <th>3</th>\n      <td>Cleopatra</td>\n      <td>1912-01-01</td>\n      <td>Drama, History</td>\n      <td>USA</td>\n      <td>English</td>\n      <td>0.0</td>\n      <td>0.0</td>\n    </tr>\n    <tr>\n      <th>4</th>\n      <td>L'Inferno</td>\n      <td>1911-01-01</td>\n      <td>Adventure, Drama, Fantasy</td>\n      <td>Italy</td>\n      <td>Italian</td>\n      <td>0.0</td>\n      <td>0.0</td>\n    </tr>\n    <tr>\n      <th>...</th>\n      <td>...</td>\n      <td>...</td>\n      <td>...</td>\n      <td>...</td>\n      <td>...</td>\n      <td>...</td>\n      <td>...</td>\n    </tr>\n    <tr>\n      <th>85850</th>\n      <td>Le lion</td>\n      <td>2020-01-01</td>\n      <td>Comedy</td>\n      <td>France, Belgium</td>\n      <td>French</td>\n      <td>0.0</td>\n      <td>0.0</td>\n    </tr>\n    <tr>\n      <th>85851</th>\n      <td>De Beentjes van Sint-Hildegard</td>\n      <td>2020-01-01</td>\n      <td>Comedy, Drama</td>\n      <td>Netherlands</td>\n      <td>German, Dutch</td>\n      <td>0.0</td>\n      <td>0.0</td>\n    </tr>\n    <tr>\n      <th>85852</th>\n      <td>Padmavyuhathile Abhimanyu</td>\n      <td>2019-01-01</td>\n      <td>Drama</td>\n      <td>India</td>\n      <td>Malayalam</td>\n      <td>0.0</td>\n      <td>0.0</td>\n    </tr>\n    <tr>\n      <th>85853</th>\n      <td>Sokagin Çocuklari</td>\n      <td>2019-01-01</td>\n      <td>Drama, Family</td>\n      <td>Turkey</td>\n      <td>Turkish</td>\n      <td>0.0</td>\n      <td>0.0</td>\n    </tr>\n    <tr>\n      <th>85854</th>\n      <td>La vida sense la Sara Amat</td>\n      <td>2019-01-01</td>\n      <td>Drama</td>\n      <td>Spain</td>\n      <td>Catalan</td>\n      <td>0.0</td>\n      <td>0.0</td>\n    </tr>\n  </tbody>\n</table>\n<p>85855 rows × 7 columns</p>\n</div>"
     },
     "metadata": {},
     "execution_count": 41
    }
   ],
   "source": [
    "df_movies[\"usaGrossIncome\"]=df_movies[\"usaGrossIncome\"].fillna(0)\n",
    "df_movies[\"worldGrossIncome\"]=df_movies[\"worldGrossIncome\"].fillna(0)\n",
    "df_movies"
   ]
  },
  {
   "cell_type": "code",
   "execution_count": null,
   "metadata": {},
   "outputs": [],
   "source": []
  }
 ]
}