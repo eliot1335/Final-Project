{
 "metadata": {
  "language_info": {
   "codemirror_mode": {
    "name": "ipython",
    "version": 3
   },
   "file_extension": ".py",
   "mimetype": "text/x-python",
   "name": "python",
   "nbconvert_exporter": "python",
   "pygments_lexer": "ipython3",
   "version": "3.6.10-final"
  },
  "orig_nbformat": 2,
  "kernelspec": {
   "name": "python3",
   "display_name": "Python 3.6.10 64-bit",
   "metadata": {
    "interpreter": {
     "hash": "b7f1b95351681b540155715b28096180c8e313e57d5a257fa2998b8b35cfe1c7"
    }
   }
  }
 },
 "nbformat": 4,
 "nbformat_minor": 2,
 "cells": [
  {
   "cell_type": "code",
   "execution_count": 1,
   "metadata": {},
   "outputs": [],
   "source": [
    "import pandas as pd\n",
    "import numpy as np"
   ]
  },
  {
   "cell_type": "code",
   "execution_count": 2,
   "metadata": {},
   "outputs": [
    {
     "output_type": "execute_result",
     "data": {
      "text/plain": [
       "  imdb_title_id                        title               original_title  \\\n",
       "0     tt0000009                   Miss Jerry                   Miss Jerry   \n",
       "1     tt0000574  The Story of the Kelly Gang  The Story of the Kelly Gang   \n",
       "2     tt0001892               Den sorte drøm               Den sorte drøm   \n",
       "3     tt0002101                    Cleopatra                    Cleopatra   \n",
       "4     tt0002130                    L'Inferno                    L'Inferno   \n",
       "\n",
       "   year date_published                      genre  duration           country  \\\n",
       "0  1894     1894-10-09                    Romance        45               USA   \n",
       "1  1906     1906-12-26    Biography, Crime, Drama        70         Australia   \n",
       "2  1911     1911-08-19                      Drama        53  Germany, Denmark   \n",
       "3  1912     1912-11-13             Drama, History       100               USA   \n",
       "4  1911     1911-03-06  Adventure, Drama, Fantasy        68             Italy   \n",
       "\n",
       "  language                             director  ...  \\\n",
       "0     None                      Alexander Black  ...   \n",
       "1     None                         Charles Tait  ...   \n",
       "2      NaN                            Urban Gad  ...   \n",
       "3  English                   Charles L. Gaskill  ...   \n",
       "4  Italian  Francesco Bertolini, Adolfo Padovan  ...   \n",
       "\n",
       "                                              actors  \\\n",
       "0  Blanche Bayliss, William Courtenay, Chauncey D...   \n",
       "1  Elizabeth Tait, John Tait, Norman Campbell, Be...   \n",
       "2  Asta Nielsen, Valdemar Psilander, Gunnar Helse...   \n",
       "3  Helen Gardner, Pearl Sindelar, Miss Fielding, ...   \n",
       "4  Salvatore Papa, Arturo Pirovano, Giuseppe de L...   \n",
       "\n",
       "                                         description avg_vote votes   budget  \\\n",
       "0  The adventures of a female reporter in the 1890s.      5.9   154      NaN   \n",
       "1  True story of notorious Australian outlaw Ned ...      6.1   589   $ 2250   \n",
       "2  Two men of high rank are both wooing the beaut...      5.8   188      NaN   \n",
       "3  The fabled queen of Egypt's affair with Roman ...      5.2   446  $ 45000   \n",
       "4  Loosely adapted from Dante's Divine Comedy and...      7.0  2237      NaN   \n",
       "\n",
       "   usa_gross_income worlwide_gross_income metascore reviews_from_users  \\\n",
       "0               NaN                   NaN       NaN                1.0   \n",
       "1               NaN                   NaN       NaN                7.0   \n",
       "2               NaN                   NaN       NaN                5.0   \n",
       "3               NaN                   NaN       NaN               25.0   \n",
       "4               NaN                   NaN       NaN               31.0   \n",
       "\n",
       "   reviews_from_critics  \n",
       "0                   2.0  \n",
       "1                   7.0  \n",
       "2                   2.0  \n",
       "3                   3.0  \n",
       "4                  14.0  \n",
       "\n",
       "[5 rows x 22 columns]"
      ],
      "text/html": "<div>\n<style scoped>\n    .dataframe tbody tr th:only-of-type {\n        vertical-align: middle;\n    }\n\n    .dataframe tbody tr th {\n        vertical-align: top;\n    }\n\n    .dataframe thead th {\n        text-align: right;\n    }\n</style>\n<table border=\"1\" class=\"dataframe\">\n  <thead>\n    <tr style=\"text-align: right;\">\n      <th></th>\n      <th>imdb_title_id</th>\n      <th>title</th>\n      <th>original_title</th>\n      <th>year</th>\n      <th>date_published</th>\n      <th>genre</th>\n      <th>duration</th>\n      <th>country</th>\n      <th>language</th>\n      <th>director</th>\n      <th>...</th>\n      <th>actors</th>\n      <th>description</th>\n      <th>avg_vote</th>\n      <th>votes</th>\n      <th>budget</th>\n      <th>usa_gross_income</th>\n      <th>worlwide_gross_income</th>\n      <th>metascore</th>\n      <th>reviews_from_users</th>\n      <th>reviews_from_critics</th>\n    </tr>\n  </thead>\n  <tbody>\n    <tr>\n      <th>0</th>\n      <td>tt0000009</td>\n      <td>Miss Jerry</td>\n      <td>Miss Jerry</td>\n      <td>1894</td>\n      <td>1894-10-09</td>\n      <td>Romance</td>\n      <td>45</td>\n      <td>USA</td>\n      <td>None</td>\n      <td>Alexander Black</td>\n      <td>...</td>\n      <td>Blanche Bayliss, William Courtenay, Chauncey D...</td>\n      <td>The adventures of a female reporter in the 1890s.</td>\n      <td>5.9</td>\n      <td>154</td>\n      <td>NaN</td>\n      <td>NaN</td>\n      <td>NaN</td>\n      <td>NaN</td>\n      <td>1.0</td>\n      <td>2.0</td>\n    </tr>\n    <tr>\n      <th>1</th>\n      <td>tt0000574</td>\n      <td>The Story of the Kelly Gang</td>\n      <td>The Story of the Kelly Gang</td>\n      <td>1906</td>\n      <td>1906-12-26</td>\n      <td>Biography, Crime, Drama</td>\n      <td>70</td>\n      <td>Australia</td>\n      <td>None</td>\n      <td>Charles Tait</td>\n      <td>...</td>\n      <td>Elizabeth Tait, John Tait, Norman Campbell, Be...</td>\n      <td>True story of notorious Australian outlaw Ned ...</td>\n      <td>6.1</td>\n      <td>589</td>\n      <td>$ 2250</td>\n      <td>NaN</td>\n      <td>NaN</td>\n      <td>NaN</td>\n      <td>7.0</td>\n      <td>7.0</td>\n    </tr>\n    <tr>\n      <th>2</th>\n      <td>tt0001892</td>\n      <td>Den sorte drøm</td>\n      <td>Den sorte drøm</td>\n      <td>1911</td>\n      <td>1911-08-19</td>\n      <td>Drama</td>\n      <td>53</td>\n      <td>Germany, Denmark</td>\n      <td>NaN</td>\n      <td>Urban Gad</td>\n      <td>...</td>\n      <td>Asta Nielsen, Valdemar Psilander, Gunnar Helse...</td>\n      <td>Two men of high rank are both wooing the beaut...</td>\n      <td>5.8</td>\n      <td>188</td>\n      <td>NaN</td>\n      <td>NaN</td>\n      <td>NaN</td>\n      <td>NaN</td>\n      <td>5.0</td>\n      <td>2.0</td>\n    </tr>\n    <tr>\n      <th>3</th>\n      <td>tt0002101</td>\n      <td>Cleopatra</td>\n      <td>Cleopatra</td>\n      <td>1912</td>\n      <td>1912-11-13</td>\n      <td>Drama, History</td>\n      <td>100</td>\n      <td>USA</td>\n      <td>English</td>\n      <td>Charles L. Gaskill</td>\n      <td>...</td>\n      <td>Helen Gardner, Pearl Sindelar, Miss Fielding, ...</td>\n      <td>The fabled queen of Egypt's affair with Roman ...</td>\n      <td>5.2</td>\n      <td>446</td>\n      <td>$ 45000</td>\n      <td>NaN</td>\n      <td>NaN</td>\n      <td>NaN</td>\n      <td>25.0</td>\n      <td>3.0</td>\n    </tr>\n    <tr>\n      <th>4</th>\n      <td>tt0002130</td>\n      <td>L'Inferno</td>\n      <td>L'Inferno</td>\n      <td>1911</td>\n      <td>1911-03-06</td>\n      <td>Adventure, Drama, Fantasy</td>\n      <td>68</td>\n      <td>Italy</td>\n      <td>Italian</td>\n      <td>Francesco Bertolini, Adolfo Padovan</td>\n      <td>...</td>\n      <td>Salvatore Papa, Arturo Pirovano, Giuseppe de L...</td>\n      <td>Loosely adapted from Dante's Divine Comedy and...</td>\n      <td>7.0</td>\n      <td>2237</td>\n      <td>NaN</td>\n      <td>NaN</td>\n      <td>NaN</td>\n      <td>NaN</td>\n      <td>31.0</td>\n      <td>14.0</td>\n    </tr>\n  </tbody>\n</table>\n<p>5 rows × 22 columns</p>\n</div>"
     },
     "metadata": {},
     "execution_count": 2
    }
   ],
   "source": [
    "df = pd.read_csv(\"Resource/IMDb_movies.csv\", low_memory=False)\n",
    "df.head()"
   ]
  },
  {
   "cell_type": "code",
   "execution_count": 3,
   "metadata": {},
   "outputs": [
    {
     "output_type": "stream",
     "name": "stdout",
     "text": [
      "Shape: (85855, 4)\n"
     ]
    },
    {
     "output_type": "execute_result",
     "data": {
      "text/plain": [
       "            country language usa_gross_income worlwide_gross_income\n",
       "0               USA     None              NaN                   NaN\n",
       "1         Australia     None              NaN                   NaN\n",
       "2  Germany, Denmark      NaN              NaN                   NaN\n",
       "3               USA  English              NaN                   NaN\n",
       "4             Italy  Italian              NaN                   NaN"
      ],
      "text/html": "<div>\n<style scoped>\n    .dataframe tbody tr th:only-of-type {\n        vertical-align: middle;\n    }\n\n    .dataframe tbody tr th {\n        vertical-align: top;\n    }\n\n    .dataframe thead th {\n        text-align: right;\n    }\n</style>\n<table border=\"1\" class=\"dataframe\">\n  <thead>\n    <tr style=\"text-align: right;\">\n      <th></th>\n      <th>country</th>\n      <th>language</th>\n      <th>usa_gross_income</th>\n      <th>worlwide_gross_income</th>\n    </tr>\n  </thead>\n  <tbody>\n    <tr>\n      <th>0</th>\n      <td>USA</td>\n      <td>None</td>\n      <td>NaN</td>\n      <td>NaN</td>\n    </tr>\n    <tr>\n      <th>1</th>\n      <td>Australia</td>\n      <td>None</td>\n      <td>NaN</td>\n      <td>NaN</td>\n    </tr>\n    <tr>\n      <th>2</th>\n      <td>Germany, Denmark</td>\n      <td>NaN</td>\n      <td>NaN</td>\n      <td>NaN</td>\n    </tr>\n    <tr>\n      <th>3</th>\n      <td>USA</td>\n      <td>English</td>\n      <td>NaN</td>\n      <td>NaN</td>\n    </tr>\n    <tr>\n      <th>4</th>\n      <td>Italy</td>\n      <td>Italian</td>\n      <td>NaN</td>\n      <td>NaN</td>\n    </tr>\n  </tbody>\n</table>\n</div>"
     },
     "metadata": {},
     "execution_count": 3
    }
   ],
   "source": [
    "movies_cols= [\"country\", \"language\", \"usa_gross_income\", \"worlwide_gross_income\"]\n",
    "df_movies= df[movies_cols].copy()\n",
    "print(\"Shape: \" + str(df_movies.shape))\n",
    "df_movies.head()"
   ]
  },
  {
   "cell_type": "code",
   "execution_count": 4,
   "metadata": {},
   "outputs": [
    {
     "output_type": "execute_result",
     "data": {
      "text/plain": [
       "            country language usa_gross_income worlwide_gross_income  \\\n",
       "0               USA     None              NaN                   NaN   \n",
       "1         Australia     None              NaN                   NaN   \n",
       "2  Germany, Denmark      NaN              NaN                   NaN   \n",
       "3               USA  English              NaN                   NaN   \n",
       "4             Italy  Italian              NaN                   NaN   \n",
       "\n",
       "  total_gross_income  \n",
       "0                     \n",
       "1                     \n",
       "2                     \n",
       "3                     \n",
       "4                     "
      ],
      "text/html": "<div>\n<style scoped>\n    .dataframe tbody tr th:only-of-type {\n        vertical-align: middle;\n    }\n\n    .dataframe tbody tr th {\n        vertical-align: top;\n    }\n\n    .dataframe thead th {\n        text-align: right;\n    }\n</style>\n<table border=\"1\" class=\"dataframe\">\n  <thead>\n    <tr style=\"text-align: right;\">\n      <th></th>\n      <th>country</th>\n      <th>language</th>\n      <th>usa_gross_income</th>\n      <th>worlwide_gross_income</th>\n      <th>total_gross_income</th>\n    </tr>\n  </thead>\n  <tbody>\n    <tr>\n      <th>0</th>\n      <td>USA</td>\n      <td>None</td>\n      <td>NaN</td>\n      <td>NaN</td>\n      <td></td>\n    </tr>\n    <tr>\n      <th>1</th>\n      <td>Australia</td>\n      <td>None</td>\n      <td>NaN</td>\n      <td>NaN</td>\n      <td></td>\n    </tr>\n    <tr>\n      <th>2</th>\n      <td>Germany, Denmark</td>\n      <td>NaN</td>\n      <td>NaN</td>\n      <td>NaN</td>\n      <td></td>\n    </tr>\n    <tr>\n      <th>3</th>\n      <td>USA</td>\n      <td>English</td>\n      <td>NaN</td>\n      <td>NaN</td>\n      <td></td>\n    </tr>\n    <tr>\n      <th>4</th>\n      <td>Italy</td>\n      <td>Italian</td>\n      <td>NaN</td>\n      <td>NaN</td>\n      <td></td>\n    </tr>\n  </tbody>\n</table>\n</div>"
     },
     "metadata": {},
     "execution_count": 4
    }
   ],
   "source": [
    "df_movies.insert(4,\"total_gross_income\",\"\")\n",
    "df_movies.head()"
   ]
  },
  {
   "cell_type": "code",
   "execution_count": 5,
   "metadata": {},
   "outputs": [
    {
     "output_type": "stream",
     "name": "stdout",
     "text": [
      "Shape: (14132, 5)\n"
     ]
    },
    {
     "output_type": "execute_result",
     "data": {
      "text/plain": [
       "          country language usa_gross_income worlwide_gross_income  \\\n",
       "165       Germany   German           $ 8811                $ 8811   \n",
       "245           USA     None        $ 9183673             $ 9183673   \n",
       "254           USA  English         $ 900000             $ 1108882   \n",
       "258       Germany   German          $ 12156               $ 12156   \n",
       "401  Soviet Union  Russian          $ 51198               $ 61389   \n",
       "\n",
       "    total_gross_income  \n",
       "165                     \n",
       "245                     \n",
       "254                     \n",
       "258                     \n",
       "401                     "
      ],
      "text/html": "<div>\n<style scoped>\n    .dataframe tbody tr th:only-of-type {\n        vertical-align: middle;\n    }\n\n    .dataframe tbody tr th {\n        vertical-align: top;\n    }\n\n    .dataframe thead th {\n        text-align: right;\n    }\n</style>\n<table border=\"1\" class=\"dataframe\">\n  <thead>\n    <tr style=\"text-align: right;\">\n      <th></th>\n      <th>country</th>\n      <th>language</th>\n      <th>usa_gross_income</th>\n      <th>worlwide_gross_income</th>\n      <th>total_gross_income</th>\n    </tr>\n  </thead>\n  <tbody>\n    <tr>\n      <th>165</th>\n      <td>Germany</td>\n      <td>German</td>\n      <td>$ 8811</td>\n      <td>$ 8811</td>\n      <td></td>\n    </tr>\n    <tr>\n      <th>245</th>\n      <td>USA</td>\n      <td>None</td>\n      <td>$ 9183673</td>\n      <td>$ 9183673</td>\n      <td></td>\n    </tr>\n    <tr>\n      <th>254</th>\n      <td>USA</td>\n      <td>English</td>\n      <td>$ 900000</td>\n      <td>$ 1108882</td>\n      <td></td>\n    </tr>\n    <tr>\n      <th>258</th>\n      <td>Germany</td>\n      <td>German</td>\n      <td>$ 12156</td>\n      <td>$ 12156</td>\n      <td></td>\n    </tr>\n    <tr>\n      <th>401</th>\n      <td>Soviet Union</td>\n      <td>Russian</td>\n      <td>$ 51198</td>\n      <td>$ 61389</td>\n      <td></td>\n    </tr>\n  </tbody>\n</table>\n</div>"
     },
     "metadata": {},
     "execution_count": 5
    }
   ],
   "source": [
    "df_movies.dropna(inplace=True)\n",
    "print(\"Shape: \" + str(df_movies.shape))\n",
    "df_movies.head()"
   ]
  },
  {
   "cell_type": "code",
   "execution_count": 6,
   "metadata": {},
   "outputs": [
    {
     "output_type": "execute_result",
     "data": {
      "text/plain": [
       "          country language usa_gross_income world_gross_income  \\\n",
       "165       Germany   German           $ 8811             $ 8811   \n",
       "245           USA     None        $ 9183673          $ 9183673   \n",
       "254           USA  English         $ 900000          $ 1108882   \n",
       "258       Germany   German          $ 12156            $ 12156   \n",
       "401  Soviet Union  Russian          $ 51198            $ 61389   \n",
       "\n",
       "    total_gross_income  \n",
       "165                     \n",
       "245                     \n",
       "254                     \n",
       "258                     \n",
       "401                     "
      ],
      "text/html": "<div>\n<style scoped>\n    .dataframe tbody tr th:only-of-type {\n        vertical-align: middle;\n    }\n\n    .dataframe tbody tr th {\n        vertical-align: top;\n    }\n\n    .dataframe thead th {\n        text-align: right;\n    }\n</style>\n<table border=\"1\" class=\"dataframe\">\n  <thead>\n    <tr style=\"text-align: right;\">\n      <th></th>\n      <th>country</th>\n      <th>language</th>\n      <th>usa_gross_income</th>\n      <th>world_gross_income</th>\n      <th>total_gross_income</th>\n    </tr>\n  </thead>\n  <tbody>\n    <tr>\n      <th>165</th>\n      <td>Germany</td>\n      <td>German</td>\n      <td>$ 8811</td>\n      <td>$ 8811</td>\n      <td></td>\n    </tr>\n    <tr>\n      <th>245</th>\n      <td>USA</td>\n      <td>None</td>\n      <td>$ 9183673</td>\n      <td>$ 9183673</td>\n      <td></td>\n    </tr>\n    <tr>\n      <th>254</th>\n      <td>USA</td>\n      <td>English</td>\n      <td>$ 900000</td>\n      <td>$ 1108882</td>\n      <td></td>\n    </tr>\n    <tr>\n      <th>258</th>\n      <td>Germany</td>\n      <td>German</td>\n      <td>$ 12156</td>\n      <td>$ 12156</td>\n      <td></td>\n    </tr>\n    <tr>\n      <th>401</th>\n      <td>Soviet Union</td>\n      <td>Russian</td>\n      <td>$ 51198</td>\n      <td>$ 61389</td>\n      <td></td>\n    </tr>\n  </tbody>\n</table>\n</div>"
     },
     "metadata": {},
     "execution_count": 6
    }
   ],
   "source": [
    "renamed={\"worlwide_gross_income\":\"world_gross_income\"}\n",
    "df_movies=df_movies.rename(columns=renamed)\n",
    "df_movies.head()"
   ]
  },
  {
   "cell_type": "code",
   "execution_count": 7,
   "metadata": {},
   "outputs": [
    {
     "output_type": "execute_result",
     "data": {
      "text/plain": [
       "          country language usa_gross_income world_gross_income  \\\n",
       "165       Germany   German             8811               8811   \n",
       "245           USA     None          9183673            9183673   \n",
       "254           USA  English           900000            1108882   \n",
       "258       Germany   German            12156              12156   \n",
       "401  Soviet Union  Russian            51198              61389   \n",
       "\n",
       "    total_gross_income  \n",
       "165                     \n",
       "245                     \n",
       "254                     \n",
       "258                     \n",
       "401                     "
      ],
      "text/html": "<div>\n<style scoped>\n    .dataframe tbody tr th:only-of-type {\n        vertical-align: middle;\n    }\n\n    .dataframe tbody tr th {\n        vertical-align: top;\n    }\n\n    .dataframe thead th {\n        text-align: right;\n    }\n</style>\n<table border=\"1\" class=\"dataframe\">\n  <thead>\n    <tr style=\"text-align: right;\">\n      <th></th>\n      <th>country</th>\n      <th>language</th>\n      <th>usa_gross_income</th>\n      <th>world_gross_income</th>\n      <th>total_gross_income</th>\n    </tr>\n  </thead>\n  <tbody>\n    <tr>\n      <th>165</th>\n      <td>Germany</td>\n      <td>German</td>\n      <td>8811</td>\n      <td>8811</td>\n      <td></td>\n    </tr>\n    <tr>\n      <th>245</th>\n      <td>USA</td>\n      <td>None</td>\n      <td>9183673</td>\n      <td>9183673</td>\n      <td></td>\n    </tr>\n    <tr>\n      <th>254</th>\n      <td>USA</td>\n      <td>English</td>\n      <td>900000</td>\n      <td>1108882</td>\n      <td></td>\n    </tr>\n    <tr>\n      <th>258</th>\n      <td>Germany</td>\n      <td>German</td>\n      <td>12156</td>\n      <td>12156</td>\n      <td></td>\n    </tr>\n    <tr>\n      <th>401</th>\n      <td>Soviet Union</td>\n      <td>Russian</td>\n      <td>51198</td>\n      <td>61389</td>\n      <td></td>\n    </tr>\n  </tbody>\n</table>\n</div>"
     },
     "metadata": {},
     "execution_count": 7
    }
   ],
   "source": [
    "df_movies[\"usa_gross_income\"] = df_movies[\"usa_gross_income\"].replace('[\\$,]', '', regex=True)\n",
    "df_movies[\"usa_gross_income\"] = df_movies[\"usa_gross_income\"].replace('[A-Z]+', '', regex=True)\n",
    "df_movies[\"world_gross_income\"] = df_movies[\"world_gross_income\"].replace('[\\$,]', '', regex=True)\n",
    "df_movies[\"world_gross_income\"] = df_movies[\"world_gross_income\"].replace('[A-Z]+', '', regex=True)\n",
    "df_movies.head()"
   ]
  },
  {
   "cell_type": "code",
   "execution_count": 8,
   "metadata": {},
   "outputs": [
    {
     "output_type": "execute_result",
     "data": {
      "text/plain": [
       "country               object\n",
       "language              object\n",
       "usa_gross_income      object\n",
       "world_gross_income    object\n",
       "total_gross_income    object\n",
       "dtype: object"
      ]
     },
     "metadata": {},
     "execution_count": 8
    }
   ],
   "source": [
    "df_movies.dtypes "
   ]
  },
  {
   "cell_type": "code",
   "execution_count": 9,
   "metadata": {},
   "outputs": [
    {
     "output_type": "execute_result",
     "data": {
      "text/plain": [
       "          country language  usa_gross_income  world_gross_income  \\\n",
       "165       Germany   German            8811.0              8811.0   \n",
       "245           USA     None         9183673.0           9183673.0   \n",
       "254           USA  English          900000.0           1108882.0   \n",
       "258       Germany   German           12156.0             12156.0   \n",
       "401  Soviet Union  Russian           51198.0             61389.0   \n",
       "\n",
       "    total_gross_income  \n",
       "165                     \n",
       "245                     \n",
       "254                     \n",
       "258                     \n",
       "401                     "
      ],
      "text/html": "<div>\n<style scoped>\n    .dataframe tbody tr th:only-of-type {\n        vertical-align: middle;\n    }\n\n    .dataframe tbody tr th {\n        vertical-align: top;\n    }\n\n    .dataframe thead th {\n        text-align: right;\n    }\n</style>\n<table border=\"1\" class=\"dataframe\">\n  <thead>\n    <tr style=\"text-align: right;\">\n      <th></th>\n      <th>country</th>\n      <th>language</th>\n      <th>usa_gross_income</th>\n      <th>world_gross_income</th>\n      <th>total_gross_income</th>\n    </tr>\n  </thead>\n  <tbody>\n    <tr>\n      <th>165</th>\n      <td>Germany</td>\n      <td>German</td>\n      <td>8811.0</td>\n      <td>8811.0</td>\n      <td></td>\n    </tr>\n    <tr>\n      <th>245</th>\n      <td>USA</td>\n      <td>None</td>\n      <td>9183673.0</td>\n      <td>9183673.0</td>\n      <td></td>\n    </tr>\n    <tr>\n      <th>254</th>\n      <td>USA</td>\n      <td>English</td>\n      <td>900000.0</td>\n      <td>1108882.0</td>\n      <td></td>\n    </tr>\n    <tr>\n      <th>258</th>\n      <td>Germany</td>\n      <td>German</td>\n      <td>12156.0</td>\n      <td>12156.0</td>\n      <td></td>\n    </tr>\n    <tr>\n      <th>401</th>\n      <td>Soviet Union</td>\n      <td>Russian</td>\n      <td>51198.0</td>\n      <td>61389.0</td>\n      <td></td>\n    </tr>\n  </tbody>\n</table>\n</div>"
     },
     "metadata": {},
     "execution_count": 9
    }
   ],
   "source": [
    "df_movies[\"usa_gross_income\"]=df_movies[\"usa_gross_income\"].astype(float)\n",
    "df_movies[\"world_gross_income\"]=df_movies[\"world_gross_income\"].astype(float)\n",
    "df_movies.head()"
   ]
  },
  {
   "cell_type": "code",
   "execution_count": null,
   "metadata": {},
   "outputs": [],
   "source": [
    "df[\"total_gross_income\"]=df[[\"usa_gross_income\"]+[]]"
   ]
  }
 ]
}