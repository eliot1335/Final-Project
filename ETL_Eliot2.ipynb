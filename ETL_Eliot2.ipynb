{
 "cells": [
  {
   "cell_type": "code",
   "execution_count": 37,
   "metadata": {},
   "outputs": [
    {
     "name": "stderr",
     "output_type": "stream",
     "text": [
      "[nltk_data] Downloading package punkt to\n",
      "[nltk_data]     C:\\Users\\eliot\\AppData\\Roaming\\nltk_data...\n",
      "[nltk_data]   Package punkt is already up-to-date!\n",
      "[nltk_data] Downloading package stopwords to\n",
      "[nltk_data]     C:\\Users\\eliot\\AppData\\Roaming\\nltk_data...\n",
      "[nltk_data]   Package stopwords is already up-to-date!\n"
     ]
    }
   ],
   "source": [
    "# import dependencies\r\n",
    "import pandas as pd\r\n",
    "import numpy as np\r\n",
    "import nltk\r\n",
    "nltk.download('punkt')\r\n",
    "nltk.download('stopwords')\r\n",
    "from nltk.tokenize import word_tokenize\r\n",
    "from nltk.corpus import stopwords\r\n",
    "import matplotlib.pyplot as plt\r\n",
    "import string\r\n",
    "plt.style.use('ggplot')"
   ]
  },
  {
   "cell_type": "code",
   "execution_count": 38,
   "metadata": {},
   "outputs": [
    {
     "data": {
      "text/html": "<div>\n<style scoped>\n    .dataframe tbody tr th:only-of-type {\n        vertical-align: middle;\n    }\n\n    .dataframe tbody tr th {\n        vertical-align: top;\n    }\n\n    .dataframe thead th {\n        text-align: right;\n    }\n</style>\n<table border=\"1\" class=\"dataframe\">\n  <thead>\n    <tr style=\"text-align: right;\">\n      <th></th>\n      <th>imdb_title_id</th>\n      <th>title</th>\n      <th>original_title</th>\n      <th>year</th>\n      <th>date_published</th>\n      <th>genre</th>\n      <th>duration</th>\n      <th>country</th>\n      <th>language</th>\n      <th>director</th>\n      <th>...</th>\n      <th>actors</th>\n      <th>description</th>\n      <th>avg_vote</th>\n      <th>votes</th>\n      <th>budget</th>\n      <th>usa_gross_income</th>\n      <th>worlwide_gross_income</th>\n      <th>metascore</th>\n      <th>reviews_from_users</th>\n      <th>reviews_from_critics</th>\n    </tr>\n  </thead>\n  <tbody>\n    <tr>\n      <th>0</th>\n      <td>tt0000009</td>\n      <td>Miss Jerry</td>\n      <td>Miss Jerry</td>\n      <td>1894</td>\n      <td>1894-10-09</td>\n      <td>Romance</td>\n      <td>45</td>\n      <td>USA</td>\n      <td>None</td>\n      <td>Alexander Black</td>\n      <td>...</td>\n      <td>Blanche Bayliss, William Courtenay, Chauncey D...</td>\n      <td>The adventures of a female reporter in the 1890s.</td>\n      <td>5.9</td>\n      <td>154</td>\n      <td>NaN</td>\n      <td>NaN</td>\n      <td>NaN</td>\n      <td>NaN</td>\n      <td>1.0</td>\n      <td>2.0</td>\n    </tr>\n    <tr>\n      <th>1</th>\n      <td>tt0000574</td>\n      <td>The Story of the Kelly Gang</td>\n      <td>The Story of the Kelly Gang</td>\n      <td>1906</td>\n      <td>1906-12-26</td>\n      <td>Biography, Crime, Drama</td>\n      <td>70</td>\n      <td>Australia</td>\n      <td>None</td>\n      <td>Charles Tait</td>\n      <td>...</td>\n      <td>Elizabeth Tait, John Tait, Norman Campbell, Be...</td>\n      <td>True story of notorious Australian outlaw Ned ...</td>\n      <td>6.1</td>\n      <td>589</td>\n      <td>$ 2250</td>\n      <td>NaN</td>\n      <td>NaN</td>\n      <td>NaN</td>\n      <td>7.0</td>\n      <td>7.0</td>\n    </tr>\n    <tr>\n      <th>2</th>\n      <td>tt0001892</td>\n      <td>Den sorte drøm</td>\n      <td>Den sorte drøm</td>\n      <td>1911</td>\n      <td>1911-08-19</td>\n      <td>Drama</td>\n      <td>53</td>\n      <td>Germany, Denmark</td>\n      <td>NaN</td>\n      <td>Urban Gad</td>\n      <td>...</td>\n      <td>Asta Nielsen, Valdemar Psilander, Gunnar Helse...</td>\n      <td>Two men of high rank are both wooing the beaut...</td>\n      <td>5.8</td>\n      <td>188</td>\n      <td>NaN</td>\n      <td>NaN</td>\n      <td>NaN</td>\n      <td>NaN</td>\n      <td>5.0</td>\n      <td>2.0</td>\n    </tr>\n    <tr>\n      <th>3</th>\n      <td>tt0002101</td>\n      <td>Cleopatra</td>\n      <td>Cleopatra</td>\n      <td>1912</td>\n      <td>1912-11-13</td>\n      <td>Drama, History</td>\n      <td>100</td>\n      <td>USA</td>\n      <td>English</td>\n      <td>Charles L. Gaskill</td>\n      <td>...</td>\n      <td>Helen Gardner, Pearl Sindelar, Miss Fielding, ...</td>\n      <td>The fabled queen of Egypt's affair with Roman ...</td>\n      <td>5.2</td>\n      <td>446</td>\n      <td>$ 45000</td>\n      <td>NaN</td>\n      <td>NaN</td>\n      <td>NaN</td>\n      <td>25.0</td>\n      <td>3.0</td>\n    </tr>\n    <tr>\n      <th>4</th>\n      <td>tt0002130</td>\n      <td>L'Inferno</td>\n      <td>L'Inferno</td>\n      <td>1911</td>\n      <td>1911-03-06</td>\n      <td>Adventure, Drama, Fantasy</td>\n      <td>68</td>\n      <td>Italy</td>\n      <td>Italian</td>\n      <td>Francesco Bertolini, Adolfo Padovan</td>\n      <td>...</td>\n      <td>Salvatore Papa, Arturo Pirovano, Giuseppe de L...</td>\n      <td>Loosely adapted from Dante's Divine Comedy and...</td>\n      <td>7.0</td>\n      <td>2237</td>\n      <td>NaN</td>\n      <td>NaN</td>\n      <td>NaN</td>\n      <td>NaN</td>\n      <td>31.0</td>\n      <td>14.0</td>\n    </tr>\n  </tbody>\n</table>\n<p>5 rows × 22 columns</p>\n</div>",
      "text/plain": "  imdb_title_id                        title               original_title  \\\n0     tt0000009                   Miss Jerry                   Miss Jerry   \n1     tt0000574  The Story of the Kelly Gang  The Story of the Kelly Gang   \n2     tt0001892               Den sorte drøm               Den sorte drøm   \n3     tt0002101                    Cleopatra                    Cleopatra   \n4     tt0002130                    L'Inferno                    L'Inferno   \n\n   year date_published                      genre  duration           country  \\\n0  1894     1894-10-09                    Romance        45               USA   \n1  1906     1906-12-26    Biography, Crime, Drama        70         Australia   \n2  1911     1911-08-19                      Drama        53  Germany, Denmark   \n3  1912     1912-11-13             Drama, History       100               USA   \n4  1911     1911-03-06  Adventure, Drama, Fantasy        68             Italy   \n\n  language                             director  ...  \\\n0     None                      Alexander Black  ...   \n1     None                         Charles Tait  ...   \n2      NaN                            Urban Gad  ...   \n3  English                   Charles L. Gaskill  ...   \n4  Italian  Francesco Bertolini, Adolfo Padovan  ...   \n\n                                              actors  \\\n0  Blanche Bayliss, William Courtenay, Chauncey D...   \n1  Elizabeth Tait, John Tait, Norman Campbell, Be...   \n2  Asta Nielsen, Valdemar Psilander, Gunnar Helse...   \n3  Helen Gardner, Pearl Sindelar, Miss Fielding, ...   \n4  Salvatore Papa, Arturo Pirovano, Giuseppe de L...   \n\n                                         description avg_vote votes   budget  \\\n0  The adventures of a female reporter in the 1890s.      5.9   154      NaN   \n1  True story of notorious Australian outlaw Ned ...      6.1   589   $ 2250   \n2  Two men of high rank are both wooing the beaut...      5.8   188      NaN   \n3  The fabled queen of Egypt's affair with Roman ...      5.2   446  $ 45000   \n4  Loosely adapted from Dante's Divine Comedy and...      7.0  2237      NaN   \n\n   usa_gross_income worlwide_gross_income metascore reviews_from_users  \\\n0               NaN                   NaN       NaN                1.0   \n1               NaN                   NaN       NaN                7.0   \n2               NaN                   NaN       NaN                5.0   \n3               NaN                   NaN       NaN               25.0   \n4               NaN                   NaN       NaN               31.0   \n\n   reviews_from_critics  \n0                   2.0  \n1                   7.0  \n2                   2.0  \n3                   3.0  \n4                  14.0  \n\n[5 rows x 22 columns]"
     },
     "execution_count": 38,
     "metadata": {},
     "output_type": "execute_result"
    }
   ],
   "source": [
    "# read in csv\r\n",
    "df = pd.read_csv(\"Resource/IMDB_movies.csv\", low_memory=False)\r\n",
    "df.head()"
   ]
  },
  {
   "cell_type": "code",
   "execution_count": 39,
   "metadata": {},
   "outputs": [
    {
     "name": "stdout",
     "output_type": "stream",
     "text": [
      "Shape: (85855, 6)\n"
     ]
    },
    {
     "data": {
      "text/html": "<div>\n<style scoped>\n    .dataframe tbody tr th:only-of-type {\n        vertical-align: middle;\n    }\n\n    .dataframe tbody tr th {\n        vertical-align: top;\n    }\n\n    .dataframe thead th {\n        text-align: right;\n    }\n</style>\n<table border=\"1\" class=\"dataframe\">\n  <thead>\n    <tr style=\"text-align: right;\">\n      <th></th>\n      <th>imdb_title_id</th>\n      <th>title</th>\n      <th>year</th>\n      <th>genre</th>\n      <th>description</th>\n      <th>metascore</th>\n    </tr>\n  </thead>\n  <tbody>\n    <tr>\n      <th>0</th>\n      <td>tt0000009</td>\n      <td>Miss Jerry</td>\n      <td>1894</td>\n      <td>Romance</td>\n      <td>The adventures of a female reporter in the 1890s.</td>\n      <td>NaN</td>\n    </tr>\n    <tr>\n      <th>1</th>\n      <td>tt0000574</td>\n      <td>The Story of the Kelly Gang</td>\n      <td>1906</td>\n      <td>Biography, Crime, Drama</td>\n      <td>True story of notorious Australian outlaw Ned ...</td>\n      <td>NaN</td>\n    </tr>\n    <tr>\n      <th>2</th>\n      <td>tt0001892</td>\n      <td>Den sorte drøm</td>\n      <td>1911</td>\n      <td>Drama</td>\n      <td>Two men of high rank are both wooing the beaut...</td>\n      <td>NaN</td>\n    </tr>\n    <tr>\n      <th>3</th>\n      <td>tt0002101</td>\n      <td>Cleopatra</td>\n      <td>1912</td>\n      <td>Drama, History</td>\n      <td>The fabled queen of Egypt's affair with Roman ...</td>\n      <td>NaN</td>\n    </tr>\n    <tr>\n      <th>4</th>\n      <td>tt0002130</td>\n      <td>L'Inferno</td>\n      <td>1911</td>\n      <td>Adventure, Drama, Fantasy</td>\n      <td>Loosely adapted from Dante's Divine Comedy and...</td>\n      <td>NaN</td>\n    </tr>\n  </tbody>\n</table>\n</div>",
      "text/plain": "  imdb_title_id                        title  year                      genre  \\\n0     tt0000009                   Miss Jerry  1894                    Romance   \n1     tt0000574  The Story of the Kelly Gang  1906    Biography, Crime, Drama   \n2     tt0001892               Den sorte drøm  1911                      Drama   \n3     tt0002101                    Cleopatra  1912             Drama, History   \n4     tt0002130                    L'Inferno  1911  Adventure, Drama, Fantasy   \n\n                                         description  metascore  \n0  The adventures of a female reporter in the 1890s.        NaN  \n1  True story of notorious Australian outlaw Ned ...        NaN  \n2  Two men of high rank are both wooing the beaut...        NaN  \n3  The fabled queen of Egypt's affair with Roman ...        NaN  \n4  Loosely adapted from Dante's Divine Comedy and...        NaN  "
     },
     "execution_count": 39,
     "metadata": {},
     "output_type": "execute_result"
    }
   ],
   "source": [
    "# clean the data\r\n",
    "# extract only the column we want:\r\n",
    "# Movie title/Rating/Duration/Release Date/Genres\r\n",
    "# quanitfy string\r\n",
    "movies_cols = [\"imdb_title_id\", \"title\", \"year\", \"genre\", \"description\", \"metascore\"]\r\n",
    "df_movies = df[movies_cols].copy()\r\n",
    "\r\n",
    "print(f\"Shape: {str(df_movies.shape)}\")\r\n",
    "df_movies.head()"
   ]
  },
  {
   "cell_type": "code",
   "execution_count": 40,
   "metadata": {},
   "outputs": [
    {
     "name": "stdout",
     "output_type": "stream",
     "text": [
      "Shape: (13279, 6)\n"
     ]
    },
    {
     "data": {
      "text/html": "<div>\n<style scoped>\n    .dataframe tbody tr th:only-of-type {\n        vertical-align: middle;\n    }\n\n    .dataframe tbody tr th {\n        vertical-align: top;\n    }\n\n    .dataframe thead th {\n        text-align: right;\n    }\n</style>\n<table border=\"1\" class=\"dataframe\">\n  <thead>\n    <tr style=\"text-align: right;\">\n      <th></th>\n      <th>imdb_title_id</th>\n      <th>title</th>\n      <th>year</th>\n      <th>genre</th>\n      <th>description</th>\n      <th>metascore</th>\n    </tr>\n  </thead>\n  <tbody>\n    <tr>\n      <th>76</th>\n      <td>tt0006864</td>\n      <td>Intolerance</td>\n      <td>1916</td>\n      <td>Drama, History</td>\n      <td>The story of a poor young woman, separated by ...</td>\n      <td>99.0</td>\n    </tr>\n    <tr>\n      <th>506</th>\n      <td>tt0017136</td>\n      <td>Metropolis</td>\n      <td>1927</td>\n      <td>Drama, Sci-Fi</td>\n      <td>In a futuristic city sharply divided between t...</td>\n      <td>98.0</td>\n    </tr>\n    <tr>\n      <th>566</th>\n      <td>tt0018037</td>\n      <td>Il cantante di jazz</td>\n      <td>1927</td>\n      <td>Drama, Music, Musical</td>\n      <td>The son of a Jewish Cantor must defy the tradi...</td>\n      <td>66.0</td>\n    </tr>\n    <tr>\n      <th>628</th>\n      <td>tt0018773</td>\n      <td>Il circo</td>\n      <td>1928</td>\n      <td>Comedy, Romance</td>\n      <td>The Tramp finds work and the girl of his dream...</td>\n      <td>90.0</td>\n    </tr>\n    <tr>\n      <th>714</th>\n      <td>tt0019777</td>\n      <td>The Cocoanuts</td>\n      <td>1929</td>\n      <td>Comedy, Musical</td>\n      <td>During the Florida land boom,</td>\n      <td>69.0</td>\n    </tr>\n  </tbody>\n</table>\n</div>",
      "text/plain": "    imdb_title_id                title  year                  genre  \\\n76      tt0006864          Intolerance  1916         Drama, History   \n506     tt0017136           Metropolis  1927          Drama, Sci-Fi   \n566     tt0018037  Il cantante di jazz  1927  Drama, Music, Musical   \n628     tt0018773             Il circo  1928        Comedy, Romance   \n714     tt0019777        The Cocoanuts  1929        Comedy, Musical   \n\n                                           description  metascore  \n76   The story of a poor young woman, separated by ...       99.0  \n506  In a futuristic city sharply divided between t...       98.0  \n566  The son of a Jewish Cantor must defy the tradi...       66.0  \n628  The Tramp finds work and the girl of his dream...       90.0  \n714                      During the Florida land boom,       69.0  "
     },
     "execution_count": 40,
     "metadata": {},
     "output_type": "execute_result"
    }
   ],
   "source": [
    "df_movies.dropna(inplace=True)\r\n",
    "\r\n",
    "print(f\"Shape: {str(df_movies.shape)}\")\r\n",
    "df_movies.head()"
   ]
  },
  {
   "cell_type": "code",
   "execution_count": 41,
   "metadata": {},
   "outputs": [
    {
     "data": {
      "text/html": "<div>\n<style scoped>\n    .dataframe tbody tr th:only-of-type {\n        vertical-align: middle;\n    }\n\n    .dataframe tbody tr th {\n        vertical-align: top;\n    }\n\n    .dataframe thead th {\n        text-align: right;\n    }\n</style>\n<table border=\"1\" class=\"dataframe\">\n  <thead>\n    <tr style=\"text-align: right;\">\n      <th></th>\n      <th>imdb_title_id</th>\n      <th>title</th>\n      <th>year</th>\n      <th>genre</th>\n      <th>description</th>\n      <th>metascore</th>\n      <th>genres</th>\n    </tr>\n  </thead>\n  <tbody>\n    <tr>\n      <th>76</th>\n      <td>tt0006864</td>\n      <td>Intolerance</td>\n      <td>1916</td>\n      <td>Drama, History</td>\n      <td>The story of a poor young woman, separated by ...</td>\n      <td>99.0</td>\n      <td>[Drama,  History]</td>\n    </tr>\n    <tr>\n      <th>506</th>\n      <td>tt0017136</td>\n      <td>Metropolis</td>\n      <td>1927</td>\n      <td>Drama, Sci-Fi</td>\n      <td>In a futuristic city sharply divided between t...</td>\n      <td>98.0</td>\n      <td>[Drama,  Sci-Fi]</td>\n    </tr>\n    <tr>\n      <th>566</th>\n      <td>tt0018037</td>\n      <td>Il cantante di jazz</td>\n      <td>1927</td>\n      <td>Drama, Music, Musical</td>\n      <td>The son of a Jewish Cantor must defy the tradi...</td>\n      <td>66.0</td>\n      <td>[Drama,  Music,  Musical]</td>\n    </tr>\n    <tr>\n      <th>628</th>\n      <td>tt0018773</td>\n      <td>Il circo</td>\n      <td>1928</td>\n      <td>Comedy, Romance</td>\n      <td>The Tramp finds work and the girl of his dream...</td>\n      <td>90.0</td>\n      <td>[Comedy,  Romance]</td>\n    </tr>\n    <tr>\n      <th>714</th>\n      <td>tt0019777</td>\n      <td>The Cocoanuts</td>\n      <td>1929</td>\n      <td>Comedy, Musical</td>\n      <td>During the Florida land boom,</td>\n      <td>69.0</td>\n      <td>[Comedy,  Musical]</td>\n    </tr>\n  </tbody>\n</table>\n</div>",
      "text/plain": "    imdb_title_id                title  year                  genre  \\\n76      tt0006864          Intolerance  1916         Drama, History   \n506     tt0017136           Metropolis  1927          Drama, Sci-Fi   \n566     tt0018037  Il cantante di jazz  1927  Drama, Music, Musical   \n628     tt0018773             Il circo  1928        Comedy, Romance   \n714     tt0019777        The Cocoanuts  1929        Comedy, Musical   \n\n                                           description  metascore  \\\n76   The story of a poor young woman, separated by ...       99.0   \n506  In a futuristic city sharply divided between t...       98.0   \n566  The son of a Jewish Cantor must defy the tradi...       66.0   \n628  The Tramp finds work and the girl of his dream...       90.0   \n714                      During the Florida land boom,       69.0   \n\n                        genres  \n76           [Drama,  History]  \n506           [Drama,  Sci-Fi]  \n566  [Drama,  Music,  Musical]  \n628         [Comedy,  Romance]  \n714         [Comedy,  Musical]  "
     },
     "execution_count": 41,
     "metadata": {},
     "output_type": "execute_result"
    }
   ],
   "source": [
    "# take out unique labels [Genres] in the dataset\r\n",
    "# use .explode and create a new array for unique genres\r\n",
    "df_movies[\"genres\"] = df_movies[\"genre\"].str.split(\",\")\r\n",
    "df_movies.head()"
   ]
  },
  {
   "cell_type": "code",
   "execution_count": 42,
   "metadata": {},
   "outputs": [],
   "source": [
    "# clean description\r\n",
    "# using sean's function\r\n",
    "# remove stop words\r\n",
    "\r\n",
    "def text_pipeline2(row):\r\n",
    "    # genre = row[\"genre\"]\r\n",
    "    descr = row[\"description\"]\r\n",
    "    # text = genre + \" \" + descr\r\n",
    "    # split into words\r\n",
    "    tokens = word_tokenize(descr)\r\n",
    "    # convert to lower case\r\n",
    "    tokens = [w.lower() for w in tokens]\r\n",
    "    # remove punctuation from each word\r\n",
    "    table = str.maketrans('', '', string.punctuation)\r\n",
    "    stripped = [w.translate(table) for w in tokens]\r\n",
    "    # remove remaining tokens that are not alphabetic\r\n",
    "    words = [word for word in stripped if word.isalpha()]\r\n",
    "    # filter out stop words\r\n",
    "    stop_words = set(stopwords.words('english'))\r\n",
    "    words = [w for w in words if not w in stop_words]\r\n",
    "    # join the words and return them to be loaded into the dataframe\r\n",
    "    return \" \".join(words)"
   ]
  },
  {
   "cell_type": "code",
   "execution_count": 43,
   "metadata": {},
   "outputs": [
    {
     "data": {
      "text/html": "<div>\n<style scoped>\n    .dataframe tbody tr th:only-of-type {\n        vertical-align: middle;\n    }\n\n    .dataframe tbody tr th {\n        vertical-align: top;\n    }\n\n    .dataframe thead th {\n        text-align: right;\n    }\n</style>\n<table border=\"1\" class=\"dataframe\">\n  <thead>\n    <tr style=\"text-align: right;\">\n      <th></th>\n      <th>imdb_title_id</th>\n      <th>title</th>\n      <th>year</th>\n      <th>genre</th>\n      <th>description</th>\n      <th>metascore</th>\n      <th>genres</th>\n      <th>description_new</th>\n    </tr>\n  </thead>\n  <tbody>\n    <tr>\n      <th>76</th>\n      <td>tt0006864</td>\n      <td>Intolerance</td>\n      <td>1916</td>\n      <td>Drama, History</td>\n      <td>The story of a poor young woman, separated by ...</td>\n      <td>99.0</td>\n      <td>[Drama,  History]</td>\n      <td>story poor young woman separated prejudice hus...</td>\n    </tr>\n    <tr>\n      <th>506</th>\n      <td>tt0017136</td>\n      <td>Metropolis</td>\n      <td>1927</td>\n      <td>Drama, Sci-Fi</td>\n      <td>In a futuristic city sharply divided between t...</td>\n      <td>98.0</td>\n      <td>[Drama,  Sci-Fi]</td>\n      <td>futuristic city sharply divided working class ...</td>\n    </tr>\n    <tr>\n      <th>566</th>\n      <td>tt0018037</td>\n      <td>Il cantante di jazz</td>\n      <td>1927</td>\n      <td>Drama, Music, Musical</td>\n      <td>The son of a Jewish Cantor must defy the tradi...</td>\n      <td>66.0</td>\n      <td>[Drama,  Music,  Musical]</td>\n      <td>son jewish cantor must defy traditions religio...</td>\n    </tr>\n    <tr>\n      <th>628</th>\n      <td>tt0018773</td>\n      <td>Il circo</td>\n      <td>1928</td>\n      <td>Comedy, Romance</td>\n      <td>The Tramp finds work and the girl of his dream...</td>\n      <td>90.0</td>\n      <td>[Comedy,  Romance]</td>\n      <td>tramp finds work girl dreams circus</td>\n    </tr>\n    <tr>\n      <th>714</th>\n      <td>tt0019777</td>\n      <td>The Cocoanuts</td>\n      <td>1929</td>\n      <td>Comedy, Musical</td>\n      <td>During the Florida land boom,</td>\n      <td>69.0</td>\n      <td>[Comedy,  Musical]</td>\n      <td>florida land boom</td>\n    </tr>\n  </tbody>\n</table>\n</div>",
      "text/plain": "    imdb_title_id                title  year                  genre  \\\n76      tt0006864          Intolerance  1916         Drama, History   \n506     tt0017136           Metropolis  1927          Drama, Sci-Fi   \n566     tt0018037  Il cantante di jazz  1927  Drama, Music, Musical   \n628     tt0018773             Il circo  1928        Comedy, Romance   \n714     tt0019777        The Cocoanuts  1929        Comedy, Musical   \n\n                                           description  metascore  \\\n76   The story of a poor young woman, separated by ...       99.0   \n506  In a futuristic city sharply divided between t...       98.0   \n566  The son of a Jewish Cantor must defy the tradi...       66.0   \n628  The Tramp finds work and the girl of his dream...       90.0   \n714                      During the Florida land boom,       69.0   \n\n                        genres  \\\n76           [Drama,  History]   \n506           [Drama,  Sci-Fi]   \n566  [Drama,  Music,  Musical]   \n628         [Comedy,  Romance]   \n714         [Comedy,  Musical]   \n\n                                       description_new  \n76   story poor young woman separated prejudice hus...  \n506  futuristic city sharply divided working class ...  \n566  son jewish cantor must defy traditions religio...  \n628                tramp finds work girl dreams circus  \n714                                  florida land boom  "
     },
     "execution_count": 43,
     "metadata": {},
     "output_type": "execute_result"
    }
   ],
   "source": [
    " df_movies[\"description_new\"] = df_movies.apply(text_pipeline2, axis=1)\r\n",
    " df_movies.head()"
   ]
  },
  {
   "cell_type": "code",
   "execution_count": 44,
   "metadata": {},
   "outputs": [
    {
     "data": {
      "text/html": "<div>\n<style scoped>\n    .dataframe tbody tr th:only-of-type {\n        vertical-align: middle;\n    }\n\n    .dataframe tbody tr th {\n        vertical-align: top;\n    }\n\n    .dataframe thead th {\n        text-align: right;\n    }\n</style>\n<table border=\"1\" class=\"dataframe\">\n  <thead>\n    <tr style=\"text-align: right;\">\n      <th></th>\n      <th>imdb_title_id</th>\n      <th>title</th>\n      <th>year</th>\n      <th>metascore</th>\n      <th>genres</th>\n      <th>description</th>\n    </tr>\n  </thead>\n  <tbody>\n    <tr>\n      <th>76</th>\n      <td>tt0006864</td>\n      <td>Intolerance</td>\n      <td>1916</td>\n      <td>99.0</td>\n      <td>[Drama,  History]</td>\n      <td>story poor young woman separated prejudice hus...</td>\n    </tr>\n    <tr>\n      <th>506</th>\n      <td>tt0017136</td>\n      <td>Metropolis</td>\n      <td>1927</td>\n      <td>98.0</td>\n      <td>[Drama,  Sci-Fi]</td>\n      <td>futuristic city sharply divided working class ...</td>\n    </tr>\n    <tr>\n      <th>566</th>\n      <td>tt0018037</td>\n      <td>Il cantante di jazz</td>\n      <td>1927</td>\n      <td>66.0</td>\n      <td>[Drama,  Music,  Musical]</td>\n      <td>son jewish cantor must defy traditions religio...</td>\n    </tr>\n    <tr>\n      <th>628</th>\n      <td>tt0018773</td>\n      <td>Il circo</td>\n      <td>1928</td>\n      <td>90.0</td>\n      <td>[Comedy,  Romance]</td>\n      <td>tramp finds work girl dreams circus</td>\n    </tr>\n    <tr>\n      <th>714</th>\n      <td>tt0019777</td>\n      <td>The Cocoanuts</td>\n      <td>1929</td>\n      <td>69.0</td>\n      <td>[Comedy,  Musical]</td>\n      <td>florida land boom</td>\n    </tr>\n  </tbody>\n</table>\n</div>",
      "text/plain": "    imdb_title_id                title  year  metascore  \\\n76      tt0006864          Intolerance  1916       99.0   \n506     tt0017136           Metropolis  1927       98.0   \n566     tt0018037  Il cantante di jazz  1927       66.0   \n628     tt0018773             Il circo  1928       90.0   \n714     tt0019777        The Cocoanuts  1929       69.0   \n\n                        genres  \\\n76           [Drama,  History]   \n506           [Drama,  Sci-Fi]   \n566  [Drama,  Music,  Musical]   \n628         [Comedy,  Romance]   \n714         [Comedy,  Musical]   \n\n                                           description  \n76   story poor young woman separated prejudice hus...  \n506  futuristic city sharply divided working class ...  \n566  son jewish cantor must defy traditions religio...  \n628                tramp finds work girl dreams circus  \n714                                  florida land boom  "
     },
     "execution_count": 44,
     "metadata": {},
     "output_type": "execute_result"
    }
   ],
   "source": [
    "# drop unused cols\r\n",
    "df_movies = df_movies.drop([\"genre\", \"description\"], axis=1)\r\n",
    "df_movies = df_movies.rename(columns={\"description_new\": \"description\"})\r\n",
    "df_movies.head()"
   ]
  },
  {
   "cell_type": "code",
   "execution_count": 47,
   "metadata": {},
   "outputs": [],
   "source": [
    "df_movies.to_csv(\"Resource/IMDB_eliot2.csv\")"
   ]
  },
  {
   "cell_type": "code",
   "execution_count": 45,
   "metadata": {},
   "outputs": [],
   "source": [
    "# convert text to features using multilabelbinarizer\r\n",
    "\r\n",
    "# from sklearn.preprocessing import MultiLabelBinarizer\r\n",
    "\r\n",
    "# multilabel_binarizer = MultiLabelBinarizer()\r\n",
    "# multilabel_binarizer.fit(movies_new['genre_new'])\r\n",
    "\r\n",
    "# # transform target variable\r\n",
    "# y = multilabel_binarizer.transform(movies_new['genre_new'])"
   ]
  },
  {
   "cell_type": "code",
   "execution_count": 46,
   "metadata": {},
   "outputs": [
    {
     "ename": "NameError",
     "evalue": "name 'train_test_split' is not defined",
     "output_type": "error",
     "traceback": [
      "\u001b[1;31m---------------------------------------------------------------------------\u001b[0m",
      "\u001b[1;31mNameError\u001b[0m                                 Traceback (most recent call last)",
      "\u001b[1;32m<ipython-input-46-ebedc63cb2d3>\u001b[0m in \u001b[0;36m<module>\u001b[1;34m\u001b[0m\n\u001b[0;32m      1\u001b[0m \u001b[1;31m# split dateset into training and validation set\u001b[0m\u001b[1;33m\u001b[0m\u001b[1;33m\u001b[0m\u001b[1;33m\u001b[0m\u001b[0m\n\u001b[1;32m----> 2\u001b[1;33m \u001b[0mX_train\u001b[0m\u001b[1;33m,\u001b[0m \u001b[0mX_test\u001b[0m\u001b[1;33m,\u001b[0m \u001b[0my_train\u001b[0m\u001b[1;33m,\u001b[0m \u001b[0my_test\u001b[0m \u001b[1;33m=\u001b[0m \u001b[0mtrain_test_split\u001b[0m\u001b[1;33m(\u001b[0m\u001b[0mdf_movies\u001b[0m\u001b[1;33m[\u001b[0m\u001b[1;34m\"X\"\u001b[0m\u001b[1;33m]\u001b[0m\u001b[1;33m,\u001b[0m \u001b[0my\u001b[0m\u001b[1;33m,\u001b[0m \u001b[0mtest_size\u001b[0m\u001b[1;33m=\u001b[0m\u001b[1;36m0.2\u001b[0m\u001b[1;33m,\u001b[0m \u001b[0mrandom_state\u001b[0m\u001b[1;33m=\u001b[0m\u001b[1;36m42\u001b[0m\u001b[1;33m)\u001b[0m\u001b[1;33m\u001b[0m\u001b[1;33m\u001b[0m\u001b[0m\n\u001b[0m",
      "\u001b[1;31mNameError\u001b[0m: name 'train_test_split' is not defined"
     ]
    }
   ],
   "source": [
    "# split dateset into training and validation set\r\n",
    "# X_train, X_test, y_train, y_test = train_test_split(df_movies[\"X\"], y, test_size=0.2, random_state=42)"
   ]
  }
 ],
 "metadata": {
  "kernelspec": {
   "display_name": "Python 3",
   "language": "python",
   "name": "python3"
  },
  "language_info": {
   "codemirror_mode": {
    "name": "ipython",
    "version": 3
   },
   "file_extension": ".py",
   "mimetype": "text/x-python",
   "name": "python",
   "nbconvert_exporter": "python",
   "pygments_lexer": "ipython3",
   "version": "3.8.3"
  },
  "orig_nbformat": 2
 },
 "nbformat": 4,
 "nbformat_minor": 2
}