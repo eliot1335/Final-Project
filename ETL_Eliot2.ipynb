{
 "cells": [
  {
   "cell_type": "code",
   "execution_count": null,
   "metadata": {},
   "outputs": [],
   "source": [
    "# import dependencies"
   ]
  },
  {
   "cell_type": "code",
   "execution_count": null,
   "metadata": {},
   "outputs": [],
   "source": [
    "# read in csv"
   ]
  },
  {
   "cell_type": "code",
   "execution_count": null,
   "metadata": {},
   "outputs": [],
   "source": [
    "# clean the data\r\n",
    "# extract only the column we want:\r\n",
    "# Movie title/Rating/Duration/Release Date/Genres\r\n",
    "# quanitfy strings"
   ]
  },
  {
   "cell_type": "code",
   "execution_count": null,
   "metadata": {},
   "outputs": [],
   "source": [
    "# take out unique labels [Genres] in the dataset\r\n",
    "# use .explode and create a new array for unique genres\r\n"
   ]
  },
  {
   "cell_type": "code",
   "execution_count": null,
   "metadata": {},
   "outputs": [],
   "source": [
    "# clean description\r\n",
    "# using sean's function\r\n",
    "# remove stop words"
   ]
  },
  {
   "cell_type": "code",
   "execution_count": null,
   "metadata": {},
   "outputs": [],
   "source": [
    "# convert text to features using multilabelbinarizer\r\n",
    "\r\n",
    "# from sklearn.preprocessing import MultiLabelBinarizer\r\n",
    "\r\n",
    "# multilabel_binarizer = MultiLabelBinarizer()\r\n",
    "# multilabel_binarizer.fit(movies_new['genre_new'])\r\n",
    "\r\n",
    "# # transform target variable\r\n",
    "# y = multilabel_binarizer.transform(movies_new['genre_new'])"
   ]
  },
  {
   "cell_type": "code",
   "execution_count": null,
   "metadata": {},
   "outputs": [],
   "source": [
    "# split dateset into training and validation set\r\n",
    "X_train, X_test, y_train, y_test = train_test_split(df_movies[\"X\"], y, test_size=0.2, random_state=42)"
   ]
  }
 ],
 "metadata": {
  "kernelspec": {
   "display_name": "Python 3.6.12 64-bit ('dviz_ml': conda)",
   "metadata": {
    "interpreter": {
     "hash": "cb7a0ae0e5d2ba55e5af626de20a770b8626ecb8abad466a31d3cd6ece6425f6"
    }
   },
   "name": "python3"
  },
  "language_info": {
   "name": "python",
   "nbconvert_exporter": "python",
   "version": "3.6.12-final"
  },
  "orig_nbformat": 2
 },
 "nbformat": 4,
 "nbformat_minor": 2
}