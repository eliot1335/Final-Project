{
 "metadata": {
  "language_info": {
   "codemirror_mode": {
    "name": "ipython",
    "version": 3
   },
   "file_extension": ".py",
   "mimetype": "text/x-python",
   "name": "python",
   "nbconvert_exporter": "python",
   "pygments_lexer": "ipython3",
   "version": 3
  },
  "orig_nbformat": 2
 },
 "nbformat": 4,
 "nbformat_minor": 2,
 "cells": [
  {
   "cell_type": "code",
   "execution_count": null,
   "metadata": {},
   "outputs": [],
   "source": [
    "import pandas as pd \n",
    "import numpy as np"
   ]
  },
  {
   "cell_type": "code",
   "execution_count": null,
   "metadata": {},
   "outputs": [],
   "source": [
    "df = pd.read_csv(\"Resource/IMDB_movies.csv\", low_memory=False)"
   ]
  },
  {
   "cell_type": "code",
   "execution_count": null,
   "metadata": {},
   "outputs": [],
   "source": [
    "movies_cols = [\"title\", \"year\", \"country\", \"acotrs\", \"usa_gross_income\", \"world_gross_income\"]\n",
    "df_movies = df[movies_cols].copy()\n",
    "print(\"Shape: \" + str(df_movies.shape))\n",
    "df_movies.head()"
   ]
  },
  {
   "cell_type": "code",
   "execution_count": null,
   "metadata": {},
   "outputs": [],
   "source": [
    "df_movies.dropna(inplace = True)\n",
    "print(\"Shape: \" + str(df_movies.shape))\n",
    "df_movies.head()"
   ]
  },
  {
   "cell_type": "code",
   "execution_count": null,
   "metadata": {},
   "outputs": [],
   "source": [
    "from pprint import pprint\n",
    "from collections import defaultdict\n",
    "actor_gross = defaultdict()\n",
    "for index,row in df_movies.iterrows():\n",
    "    actors=row[\"actors\"].split(\",\")\n",
    "    for actor in actors:\n",
    "        actor = actor.replace(\" \", \"\")\n",
    "        if actor in actor_gross:\n",
    "            actor_gross[actor].append(row[\"world_gross_income\"])\n",
    "            else: \n",
    "                actor_gross[actor] = list(row[\"world_gross_income\"])\n",
    "pprint(actor_gross)"
   ]
  }
 ]
}