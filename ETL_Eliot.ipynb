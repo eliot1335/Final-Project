{
 "cells": [
  {
   "cell_type": "code",
   "execution_count": 3,
   "metadata": {},
   "outputs": [],
   "source": [
    "import pandas as pd\r\n",
    "import numpy as np"
   ]
  },
  {
   "cell_type": "code",
   "execution_count": 4,
   "metadata": {},
   "outputs": [
    {
     "data": {
      "text/html": "<div>\n<style scoped>\n    .dataframe tbody tr th:only-of-type {\n        vertical-align: middle;\n    }\n\n    .dataframe tbody tr th {\n        vertical-align: top;\n    }\n\n    .dataframe thead th {\n        text-align: right;\n    }\n</style>\n<table border=\"1\" class=\"dataframe\">\n  <thead>\n    <tr style=\"text-align: right;\">\n      <th></th>\n      <th>imdb_title_id</th>\n      <th>title</th>\n      <th>original_title</th>\n      <th>year</th>\n      <th>date_published</th>\n      <th>genre</th>\n      <th>duration</th>\n      <th>country</th>\n      <th>language</th>\n      <th>director</th>\n      <th>...</th>\n      <th>actors</th>\n      <th>description</th>\n      <th>avg_vote</th>\n      <th>votes</th>\n      <th>budget</th>\n      <th>usa_gross_income</th>\n      <th>worlwide_gross_income</th>\n      <th>metascore</th>\n      <th>reviews_from_users</th>\n      <th>reviews_from_critics</th>\n    </tr>\n  </thead>\n  <tbody>\n    <tr>\n      <th>0</th>\n      <td>tt0000009</td>\n      <td>Miss Jerry</td>\n      <td>Miss Jerry</td>\n      <td>1894</td>\n      <td>1894-10-09</td>\n      <td>Romance</td>\n      <td>45</td>\n      <td>USA</td>\n      <td>None</td>\n      <td>Alexander Black</td>\n      <td>...</td>\n      <td>Blanche Bayliss, William Courtenay, Chauncey D...</td>\n      <td>The adventures of a female reporter in the 1890s.</td>\n      <td>5.9</td>\n      <td>154</td>\n      <td>NaN</td>\n      <td>NaN</td>\n      <td>NaN</td>\n      <td>NaN</td>\n      <td>1.0</td>\n      <td>2.0</td>\n    </tr>\n    <tr>\n      <th>1</th>\n      <td>tt0000574</td>\n      <td>The Story of the Kelly Gang</td>\n      <td>The Story of the Kelly Gang</td>\n      <td>1906</td>\n      <td>1906-12-26</td>\n      <td>Biography, Crime, Drama</td>\n      <td>70</td>\n      <td>Australia</td>\n      <td>None</td>\n      <td>Charles Tait</td>\n      <td>...</td>\n      <td>Elizabeth Tait, John Tait, Norman Campbell, Be...</td>\n      <td>True story of notorious Australian outlaw Ned ...</td>\n      <td>6.1</td>\n      <td>589</td>\n      <td>$ 2250</td>\n      <td>NaN</td>\n      <td>NaN</td>\n      <td>NaN</td>\n      <td>7.0</td>\n      <td>7.0</td>\n    </tr>\n    <tr>\n      <th>2</th>\n      <td>tt0001892</td>\n      <td>Den sorte drøm</td>\n      <td>Den sorte drøm</td>\n      <td>1911</td>\n      <td>1911-08-19</td>\n      <td>Drama</td>\n      <td>53</td>\n      <td>Germany, Denmark</td>\n      <td>NaN</td>\n      <td>Urban Gad</td>\n      <td>...</td>\n      <td>Asta Nielsen, Valdemar Psilander, Gunnar Helse...</td>\n      <td>Two men of high rank are both wooing the beaut...</td>\n      <td>5.8</td>\n      <td>188</td>\n      <td>NaN</td>\n      <td>NaN</td>\n      <td>NaN</td>\n      <td>NaN</td>\n      <td>5.0</td>\n      <td>2.0</td>\n    </tr>\n    <tr>\n      <th>3</th>\n      <td>tt0002101</td>\n      <td>Cleopatra</td>\n      <td>Cleopatra</td>\n      <td>1912</td>\n      <td>1912-11-13</td>\n      <td>Drama, History</td>\n      <td>100</td>\n      <td>USA</td>\n      <td>English</td>\n      <td>Charles L. Gaskill</td>\n      <td>...</td>\n      <td>Helen Gardner, Pearl Sindelar, Miss Fielding, ...</td>\n      <td>The fabled queen of Egypt's affair with Roman ...</td>\n      <td>5.2</td>\n      <td>446</td>\n      <td>$ 45000</td>\n      <td>NaN</td>\n      <td>NaN</td>\n      <td>NaN</td>\n      <td>25.0</td>\n      <td>3.0</td>\n    </tr>\n    <tr>\n      <th>4</th>\n      <td>tt0002130</td>\n      <td>L'Inferno</td>\n      <td>L'Inferno</td>\n      <td>1911</td>\n      <td>1911-03-06</td>\n      <td>Adventure, Drama, Fantasy</td>\n      <td>68</td>\n      <td>Italy</td>\n      <td>Italian</td>\n      <td>Francesco Bertolini, Adolfo Padovan</td>\n      <td>...</td>\n      <td>Salvatore Papa, Arturo Pirovano, Giuseppe de L...</td>\n      <td>Loosely adapted from Dante's Divine Comedy and...</td>\n      <td>7.0</td>\n      <td>2237</td>\n      <td>NaN</td>\n      <td>NaN</td>\n      <td>NaN</td>\n      <td>NaN</td>\n      <td>31.0</td>\n      <td>14.0</td>\n    </tr>\n  </tbody>\n</table>\n<p>5 rows × 22 columns</p>\n</div>",
      "text/plain": "  imdb_title_id                        title               original_title  \\\n0     tt0000009                   Miss Jerry                   Miss Jerry   \n1     tt0000574  The Story of the Kelly Gang  The Story of the Kelly Gang   \n2     tt0001892               Den sorte drøm               Den sorte drøm   \n3     tt0002101                    Cleopatra                    Cleopatra   \n4     tt0002130                    L'Inferno                    L'Inferno   \n\n   year date_published                      genre  duration           country  \\\n0  1894     1894-10-09                    Romance        45               USA   \n1  1906     1906-12-26    Biography, Crime, Drama        70         Australia   \n2  1911     1911-08-19                      Drama        53  Germany, Denmark   \n3  1912     1912-11-13             Drama, History       100               USA   \n4  1911     1911-03-06  Adventure, Drama, Fantasy        68             Italy   \n\n  language                             director  ...  \\\n0     None                      Alexander Black  ...   \n1     None                         Charles Tait  ...   \n2      NaN                            Urban Gad  ...   \n3  English                   Charles L. Gaskill  ...   \n4  Italian  Francesco Bertolini, Adolfo Padovan  ...   \n\n                                              actors  \\\n0  Blanche Bayliss, William Courtenay, Chauncey D...   \n1  Elizabeth Tait, John Tait, Norman Campbell, Be...   \n2  Asta Nielsen, Valdemar Psilander, Gunnar Helse...   \n3  Helen Gardner, Pearl Sindelar, Miss Fielding, ...   \n4  Salvatore Papa, Arturo Pirovano, Giuseppe de L...   \n\n                                         description avg_vote votes   budget  \\\n0  The adventures of a female reporter in the 1890s.      5.9   154      NaN   \n1  True story of notorious Australian outlaw Ned ...      6.1   589   $ 2250   \n2  Two men of high rank are both wooing the beaut...      5.8   188      NaN   \n3  The fabled queen of Egypt's affair with Roman ...      5.2   446  $ 45000   \n4  Loosely adapted from Dante's Divine Comedy and...      7.0  2237      NaN   \n\n   usa_gross_income worlwide_gross_income metascore reviews_from_users  \\\n0               NaN                   NaN       NaN                1.0   \n1               NaN                   NaN       NaN                7.0   \n2               NaN                   NaN       NaN                5.0   \n3               NaN                   NaN       NaN               25.0   \n4               NaN                   NaN       NaN               31.0   \n\n   reviews_from_critics  \n0                   2.0  \n1                   7.0  \n2                   2.0  \n3                   3.0  \n4                  14.0  \n\n[5 rows x 22 columns]"
     },
     "execution_count": 4,
     "metadata": {},
     "output_type": "execute_result"
    }
   ],
   "source": [
    "df = pd.read_csv(\"Resource/IMDB_movies.csv\", low_memory=False)\r\n",
    "df.head()"
   ]
  },
  {
   "cell_type": "code",
   "execution_count": 5,
   "metadata": {},
   "outputs": [
    {
     "name": "stdout",
     "output_type": "stream",
     "text": [
      "Shape: (85855, 7)\n"
     ]
    },
    {
     "data": {
      "text/html": "<div>\n<style scoped>\n    .dataframe tbody tr th:only-of-type {\n        vertical-align: middle;\n    }\n\n    .dataframe tbody tr th {\n        vertical-align: top;\n    }\n\n    .dataframe thead th {\n        text-align: right;\n    }\n</style>\n<table border=\"1\" class=\"dataframe\">\n  <thead>\n    <tr style=\"text-align: right;\">\n      <th></th>\n      <th>title</th>\n      <th>year</th>\n      <th>genre</th>\n      <th>description</th>\n      <th>budget</th>\n      <th>usa_gross_income</th>\n      <th>worlwide_gross_income</th>\n    </tr>\n  </thead>\n  <tbody>\n    <tr>\n      <th>0</th>\n      <td>Miss Jerry</td>\n      <td>1894</td>\n      <td>Romance</td>\n      <td>The adventures of a female reporter in the 1890s.</td>\n      <td>NaN</td>\n      <td>NaN</td>\n      <td>NaN</td>\n    </tr>\n    <tr>\n      <th>1</th>\n      <td>The Story of the Kelly Gang</td>\n      <td>1906</td>\n      <td>Biography, Crime, Drama</td>\n      <td>True story of notorious Australian outlaw Ned ...</td>\n      <td>$ 2250</td>\n      <td>NaN</td>\n      <td>NaN</td>\n    </tr>\n    <tr>\n      <th>2</th>\n      <td>Den sorte drøm</td>\n      <td>1911</td>\n      <td>Drama</td>\n      <td>Two men of high rank are both wooing the beaut...</td>\n      <td>NaN</td>\n      <td>NaN</td>\n      <td>NaN</td>\n    </tr>\n    <tr>\n      <th>3</th>\n      <td>Cleopatra</td>\n      <td>1912</td>\n      <td>Drama, History</td>\n      <td>The fabled queen of Egypt's affair with Roman ...</td>\n      <td>$ 45000</td>\n      <td>NaN</td>\n      <td>NaN</td>\n    </tr>\n    <tr>\n      <th>4</th>\n      <td>L'Inferno</td>\n      <td>1911</td>\n      <td>Adventure, Drama, Fantasy</td>\n      <td>Loosely adapted from Dante's Divine Comedy and...</td>\n      <td>NaN</td>\n      <td>NaN</td>\n      <td>NaN</td>\n    </tr>\n  </tbody>\n</table>\n</div>",
      "text/plain": "                         title  year                      genre  \\\n0                   Miss Jerry  1894                    Romance   \n1  The Story of the Kelly Gang  1906    Biography, Crime, Drama   \n2               Den sorte drøm  1911                      Drama   \n3                    Cleopatra  1912             Drama, History   \n4                    L'Inferno  1911  Adventure, Drama, Fantasy   \n\n                                         description   budget  \\\n0  The adventures of a female reporter in the 1890s.      NaN   \n1  True story of notorious Australian outlaw Ned ...   $ 2250   \n2  Two men of high rank are both wooing the beaut...      NaN   \n3  The fabled queen of Egypt's affair with Roman ...  $ 45000   \n4  Loosely adapted from Dante's Divine Comedy and...      NaN   \n\n  usa_gross_income worlwide_gross_income  \n0              NaN                   NaN  \n1              NaN                   NaN  \n2              NaN                   NaN  \n3              NaN                   NaN  \n4              NaN                   NaN  "
     },
     "execution_count": 5,
     "metadata": {},
     "output_type": "execute_result"
    }
   ],
   "source": [
    "movies_cols = [\"title\", \"year\", \"genre\", \"description\", \"budget\", \"usa_gross_income\", \"worlwide_gross_income\"]\r\n",
    "df_movies = df[movies_cols].copy()\r\n",
    "\r\n",
    "print(f\"Shape: {str(df_movies.shape)}\")\r\n",
    "df_movies.head()"
   ]
  },
  {
   "cell_type": "code",
   "execution_count": 6,
   "metadata": {},
   "outputs": [
    {
     "name": "stdout",
     "output_type": "stream",
     "text": [
      "Shape: (8109, 7)\n"
     ]
    },
    {
     "data": {
      "text/html": "<div>\n<style scoped>\n    .dataframe tbody tr th:only-of-type {\n        vertical-align: middle;\n    }\n\n    .dataframe tbody tr th {\n        vertical-align: top;\n    }\n\n    .dataframe thead th {\n        text-align: right;\n    }\n</style>\n<table border=\"1\" class=\"dataframe\">\n  <thead>\n    <tr style=\"text-align: right;\">\n      <th></th>\n      <th>title</th>\n      <th>year</th>\n      <th>genre</th>\n      <th>description</th>\n      <th>budget</th>\n      <th>usa_gross_income</th>\n      <th>worlwide_gross_income</th>\n    </tr>\n  </thead>\n  <tbody>\n    <tr>\n      <th>165</th>\n      <td>Il gabinetto del dottor Caligari</td>\n      <td>1920</td>\n      <td>Fantasy, Horror, Mystery</td>\n      <td>Hypnotist Dr. Caligari uses a somnambulist, Ce...</td>\n      <td>$ 18000</td>\n      <td>$ 8811</td>\n      <td>$ 8811</td>\n    </tr>\n    <tr>\n      <th>245</th>\n      <td>I quattro cavalieri dell'Apocalisse</td>\n      <td>1921</td>\n      <td>Drama, Romance, War</td>\n      <td>An extended family split up in France and Germ...</td>\n      <td>$ 800000</td>\n      <td>$ 9183673</td>\n      <td>$ 9183673</td>\n    </tr>\n    <tr>\n      <th>506</th>\n      <td>Metropolis</td>\n      <td>1927</td>\n      <td>Drama, Sci-Fi</td>\n      <td>In a futuristic city sharply divided between t...</td>\n      <td>DEM 6000000</td>\n      <td>$ 1236166</td>\n      <td>$ 1349711</td>\n    </tr>\n    <tr>\n      <th>1048</th>\n      <td>Luci della città</td>\n      <td>1931</td>\n      <td>Comedy, Drama, Romance</td>\n      <td>With the aid of a wealthy erratic tippler, a d...</td>\n      <td>$ 1500000</td>\n      <td>$ 19181</td>\n      <td>$ 46008</td>\n    </tr>\n    <tr>\n      <th>2454</th>\n      <td>Tempi moderni</td>\n      <td>1936</td>\n      <td>Comedy, Drama, Family</td>\n      <td>The Tramp struggles to live in modern industri...</td>\n      <td>$ 1500000</td>\n      <td>$ 163577</td>\n      <td>$ 457688</td>\n    </tr>\n  </tbody>\n</table>\n</div>",
      "text/plain": "                                    title  year                     genre  \\\n165      Il gabinetto del dottor Caligari  1920  Fantasy, Horror, Mystery   \n245   I quattro cavalieri dell'Apocalisse  1921       Drama, Romance, War   \n506                            Metropolis  1927             Drama, Sci-Fi   \n1048                     Luci della città  1931    Comedy, Drama, Romance   \n2454                        Tempi moderni  1936     Comedy, Drama, Family   \n\n                                            description       budget  \\\n165   Hypnotist Dr. Caligari uses a somnambulist, Ce...      $ 18000   \n245   An extended family split up in France and Germ...     $ 800000   \n506   In a futuristic city sharply divided between t...  DEM 6000000   \n1048  With the aid of a wealthy erratic tippler, a d...    $ 1500000   \n2454  The Tramp struggles to live in modern industri...    $ 1500000   \n\n     usa_gross_income worlwide_gross_income  \n165            $ 8811                $ 8811  \n245         $ 9183673             $ 9183673  \n506         $ 1236166             $ 1349711  \n1048          $ 19181               $ 46008  \n2454         $ 163577              $ 457688  "
     },
     "execution_count": 6,
     "metadata": {},
     "output_type": "execute_result"
    }
   ],
   "source": [
    "df_movies.dropna(inplace=True)\r\n",
    "\r\n",
    "print(f\"Shape: {str(df_movies.shape)}\")\r\n",
    "df_movies.head()"
   ]
  },
  {
   "cell_type": "code",
   "execution_count": 7,
   "metadata": {},
   "outputs": [
    {
     "name": "stdout",
     "output_type": "stream",
     "text": [
      "Shape: (8109, 7)\n"
     ]
    },
    {
     "data": {
      "text/html": "<div>\n<style scoped>\n    .dataframe tbody tr th:only-of-type {\n        vertical-align: middle;\n    }\n\n    .dataframe tbody tr th {\n        vertical-align: top;\n    }\n\n    .dataframe thead th {\n        text-align: right;\n    }\n</style>\n<table border=\"1\" class=\"dataframe\">\n  <thead>\n    <tr style=\"text-align: right;\">\n      <th></th>\n      <th>title</th>\n      <th>year</th>\n      <th>genre</th>\n      <th>description</th>\n      <th>budget</th>\n      <th>usa_gross_income</th>\n      <th>worlwide_gross_income</th>\n    </tr>\n  </thead>\n  <tbody>\n    <tr>\n      <th>165</th>\n      <td>Il gabinetto del dottor Caligari</td>\n      <td>1920</td>\n      <td>Fantasy, Horror, Mystery</td>\n      <td>Hypnotist Dr. Caligari uses a somnambulist, Ce...</td>\n      <td>18000.0</td>\n      <td>8811.0</td>\n      <td>8811.0</td>\n    </tr>\n    <tr>\n      <th>245</th>\n      <td>I quattro cavalieri dell'Apocalisse</td>\n      <td>1921</td>\n      <td>Drama, Romance, War</td>\n      <td>An extended family split up in France and Germ...</td>\n      <td>800000.0</td>\n      <td>9183673.0</td>\n      <td>9183673.0</td>\n    </tr>\n    <tr>\n      <th>506</th>\n      <td>Metropolis</td>\n      <td>1927</td>\n      <td>Drama, Sci-Fi</td>\n      <td>In a futuristic city sharply divided between t...</td>\n      <td>6000000.0</td>\n      <td>1236166.0</td>\n      <td>1349711.0</td>\n    </tr>\n    <tr>\n      <th>1048</th>\n      <td>Luci della città</td>\n      <td>1931</td>\n      <td>Comedy, Drama, Romance</td>\n      <td>With the aid of a wealthy erratic tippler, a d...</td>\n      <td>1500000.0</td>\n      <td>19181.0</td>\n      <td>46008.0</td>\n    </tr>\n    <tr>\n      <th>2454</th>\n      <td>Tempi moderni</td>\n      <td>1936</td>\n      <td>Comedy, Drama, Family</td>\n      <td>The Tramp struggles to live in modern industri...</td>\n      <td>1500000.0</td>\n      <td>163577.0</td>\n      <td>457688.0</td>\n    </tr>\n  </tbody>\n</table>\n</div>",
      "text/plain": "                                    title  year                     genre  \\\n165      Il gabinetto del dottor Caligari  1920  Fantasy, Horror, Mystery   \n245   I quattro cavalieri dell'Apocalisse  1921       Drama, Romance, War   \n506                            Metropolis  1927             Drama, Sci-Fi   \n1048                     Luci della città  1931    Comedy, Drama, Romance   \n2454                        Tempi moderni  1936     Comedy, Drama, Family   \n\n                                            description     budget  \\\n165   Hypnotist Dr. Caligari uses a somnambulist, Ce...    18000.0   \n245   An extended family split up in France and Germ...   800000.0   \n506   In a futuristic city sharply divided between t...  6000000.0   \n1048  With the aid of a wealthy erratic tippler, a d...  1500000.0   \n2454  The Tramp struggles to live in modern industri...  1500000.0   \n\n      usa_gross_income  worlwide_gross_income  \n165             8811.0                 8811.0  \n245          9183673.0              9183673.0  \n506          1236166.0              1349711.0  \n1048           19181.0                46008.0  \n2454          163577.0               457688.0  "
     },
     "execution_count": 7,
     "metadata": {},
     "output_type": "execute_result"
    }
   ],
   "source": [
    "df_movies[\"budget\"] = df_movies[\"budget\"].replace('[\\$,]', '', regex=True)\r\n",
    "df_movies[\"budget\"] = df_movies[\"budget\"].replace('[A-Z]+', '', regex=True)\r\n",
    "df_movies[\"budget\"] = df_movies[\"budget\"].astype(float)\r\n",
    "\r\n",
    "df_movies[\"usa_gross_income\"] = df_movies[\"usa_gross_income\"].replace('[\\$,]', '', regex=True).astype(float)\r\n",
    "df_movies[\"worlwide_gross_income\"] = df_movies[\"worlwide_gross_income\"].replace('[\\$,]', '', regex=True).astype(float)\r\n",
    "\r\n",
    "print(f\"Shape: {str(df_movies.shape)}\")\r\n",
    "df_movies.head()"
   ]
  },
  {
   "cell_type": "code",
   "execution_count": 8,
   "metadata": {},
   "outputs": [],
   "source": [
    "df_movies.to_csv(\"Resource/IMDB_eliot.csv\")"
   ]
  }
 ],
 "metadata": {
  "kernelspec": {
   "display_name": "Python 3",
   "name": "python3"
  },
  "language_info": {
   "codemirror_mode": {
    "name": "ipython",
    "version": 3
   },
   "file_extension": ".py",
   "mimetype": "text/x-python",
   "name": "python",
   "nbconvert_exporter": "python",
   "pygments_lexer": "ipython3",
   "version": "3.6.12"
  },
  "orig_nbformat": 2
 },
 "nbformat": 4,
 "nbformat_minor": 2
}