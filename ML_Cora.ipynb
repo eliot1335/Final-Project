{
 "metadata": {
  "language_info": {
   "codemirror_mode": {
    "name": "ipython",
    "version": 3
   },
   "file_extension": ".py",
   "mimetype": "text/x-python",
   "name": "python",
   "nbconvert_exporter": "python",
   "pygments_lexer": "ipython3",
   "version": "3.6.10-final"
  },
  "orig_nbformat": 2,
  "kernelspec": {
   "name": "python3",
   "display_name": "Python 3.6.10 64-bit",
   "metadata": {
    "interpreter": {
     "hash": "b7f1b95351681b540155715b28096180c8e313e57d5a257fa2998b8b35cfe1c7"
    }
   }
  }
 },
 "nbformat": 4,
 "nbformat_minor": 2,
 "cells": [
  {
   "cell_type": "code",
   "execution_count": 1,
   "metadata": {},
   "outputs": [],
   "source": [
    "import warnings\n",
    "warnings.simplefilter('ignore')\n",
    "\n",
    "# %matplotlib inline\n",
    "import matplotlib.pyplot as plt\n",
    "import numpy as np\n",
    "import pandas as pd"
   ]
  },
  {
   "cell_type": "code",
   "execution_count": 3,
   "metadata": {},
   "outputs": [
    {
     "output_type": "execute_result",
     "data": {
      "text/plain": [
       "   Unnamed: 0                                title  year  \\\n",
       "0         165     Il gabinetto del dottor Caligari  1920   \n",
       "1         245  I quattro cavalieri dell'Apocalisse  1921   \n",
       "2         506                           Metropolis  1927   \n",
       "3        1048                     Luci della città  1931   \n",
       "4        2454                        Tempi moderni  1936   \n",
       "\n",
       "                      genre  \\\n",
       "0  Fantasy, Horror, Mystery   \n",
       "1       Drama, Romance, War   \n",
       "2             Drama, Sci-Fi   \n",
       "3    Comedy, Drama, Romance   \n",
       "4     Comedy, Drama, Family   \n",
       "\n",
       "                                         description     budget  \\\n",
       "0  Hypnotist Dr. Caligari uses a somnambulist, Ce...    18000.0   \n",
       "1  An extended family split up in France and Germ...   800000.0   \n",
       "2  In a futuristic city sharply divided between t...  6000000.0   \n",
       "3  With the aid of a wealthy erratic tippler, a d...  1500000.0   \n",
       "4  The Tramp struggles to live in modern industri...  1500000.0   \n",
       "\n",
       "   usa_gross_income  worlwide_gross_income profit_factor  \n",
       "0            8811.0                 8811.0          loss  \n",
       "1         9183673.0              9183673.0    large gain  \n",
       "2         1236166.0              1349711.0          loss  \n",
       "3           19181.0                46008.0          loss  \n",
       "4          163577.0               457688.0          loss  "
      ],
      "text/html": "<div>\n<style scoped>\n    .dataframe tbody tr th:only-of-type {\n        vertical-align: middle;\n    }\n\n    .dataframe tbody tr th {\n        vertical-align: top;\n    }\n\n    .dataframe thead th {\n        text-align: right;\n    }\n</style>\n<table border=\"1\" class=\"dataframe\">\n  <thead>\n    <tr style=\"text-align: right;\">\n      <th></th>\n      <th>Unnamed: 0</th>\n      <th>title</th>\n      <th>year</th>\n      <th>genre</th>\n      <th>description</th>\n      <th>budget</th>\n      <th>usa_gross_income</th>\n      <th>worlwide_gross_income</th>\n      <th>profit_factor</th>\n    </tr>\n  </thead>\n  <tbody>\n    <tr>\n      <th>0</th>\n      <td>165</td>\n      <td>Il gabinetto del dottor Caligari</td>\n      <td>1920</td>\n      <td>Fantasy, Horror, Mystery</td>\n      <td>Hypnotist Dr. Caligari uses a somnambulist, Ce...</td>\n      <td>18000.0</td>\n      <td>8811.0</td>\n      <td>8811.0</td>\n      <td>loss</td>\n    </tr>\n    <tr>\n      <th>1</th>\n      <td>245</td>\n      <td>I quattro cavalieri dell'Apocalisse</td>\n      <td>1921</td>\n      <td>Drama, Romance, War</td>\n      <td>An extended family split up in France and Germ...</td>\n      <td>800000.0</td>\n      <td>9183673.0</td>\n      <td>9183673.0</td>\n      <td>large gain</td>\n    </tr>\n    <tr>\n      <th>2</th>\n      <td>506</td>\n      <td>Metropolis</td>\n      <td>1927</td>\n      <td>Drama, Sci-Fi</td>\n      <td>In a futuristic city sharply divided between t...</td>\n      <td>6000000.0</td>\n      <td>1236166.0</td>\n      <td>1349711.0</td>\n      <td>loss</td>\n    </tr>\n    <tr>\n      <th>3</th>\n      <td>1048</td>\n      <td>Luci della città</td>\n      <td>1931</td>\n      <td>Comedy, Drama, Romance</td>\n      <td>With the aid of a wealthy erratic tippler, a d...</td>\n      <td>1500000.0</td>\n      <td>19181.0</td>\n      <td>46008.0</td>\n      <td>loss</td>\n    </tr>\n    <tr>\n      <th>4</th>\n      <td>2454</td>\n      <td>Tempi moderni</td>\n      <td>1936</td>\n      <td>Comedy, Drama, Family</td>\n      <td>The Tramp struggles to live in modern industri...</td>\n      <td>1500000.0</td>\n      <td>163577.0</td>\n      <td>457688.0</td>\n      <td>loss</td>\n    </tr>\n  </tbody>\n</table>\n</div>"
     },
     "metadata": {},
     "execution_count": 3
    }
   ],
   "source": [
    "ml=pd.read_csv(\"Resource/IMDB_sean.csv\")\n",
    "ml.head()"
   ]
  },
  {
   "cell_type": "code",
   "execution_count": null,
   "metadata": {},
   "outputs": [],
   "source": [
    "X=ml[[]]"
   ]
  }
 ]
}