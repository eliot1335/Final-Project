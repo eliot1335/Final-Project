{
 "metadata": {
  "language_info": {
   "codemirror_mode": {
    "name": "ipython",
    "version": 3
   },
   "file_extension": ".py",
   "mimetype": "text/x-python",
   "name": "python",
   "nbconvert_exporter": "python",
   "pygments_lexer": "ipython3",
   "version": "3.6.10-final"
  },
  "orig_nbformat": 2,
  "kernelspec": {
   "name": "python3",
   "display_name": "Python 3.6.10 64-bit ('dviz_ml': conda)",
   "metadata": {
    "interpreter": {
     "hash": "b7f1b95351681b540155715b28096180c8e313e57d5a257fa2998b8b35cfe1c7"
    }
   }
  }
 },
 "nbformat": 4,
 "nbformat_minor": 2,
 "cells": [
  {
   "cell_type": "code",
   "execution_count": 1,
   "metadata": {},
   "outputs": [],
   "source": [
    "import warnings\n",
    "warnings.simplefilter('ignore')\n",
    "\n",
    "# %matplotlib inline\n",
    "import matplotlib.pyplot as plt\n",
    "import numpy as np\n",
    "import pandas as pd"
   ]
  },
  {
   "cell_type": "code",
   "execution_count": 2,
   "metadata": {},
   "outputs": [
    {
     "output_type": "execute_result",
     "data": {
      "text/plain": [
       "       Unnamed: 0          country       language  world_gross_income\n",
       "0              79           Russia        Russian            144968.0\n",
       "1             165          Germany         German              8811.0\n",
       "2             222              USA        English            772155.0\n",
       "3             245              USA        English           9183673.0\n",
       "4             251              USA        English             26916.0\n",
       "...           ...              ...            ...                 ...\n",
       "30851       85847            India      Malayalam              4791.0\n",
       "30852       85850  France, Belgium         French           3507171.0\n",
       "30853       85851      Netherlands  German, Dutch           7299062.0\n",
       "30854       85853           Turkey        Turkish              2833.0\n",
       "30855       85854            Spain        Catalan             59794.0\n",
       "\n",
       "[30856 rows x 4 columns]"
      ],
      "text/html": "<div>\n<style scoped>\n    .dataframe tbody tr th:only-of-type {\n        vertical-align: middle;\n    }\n\n    .dataframe tbody tr th {\n        vertical-align: top;\n    }\n\n    .dataframe thead th {\n        text-align: right;\n    }\n</style>\n<table border=\"1\" class=\"dataframe\">\n  <thead>\n    <tr style=\"text-align: right;\">\n      <th></th>\n      <th>Unnamed: 0</th>\n      <th>country</th>\n      <th>language</th>\n      <th>world_gross_income</th>\n    </tr>\n  </thead>\n  <tbody>\n    <tr>\n      <th>0</th>\n      <td>79</td>\n      <td>Russia</td>\n      <td>Russian</td>\n      <td>144968.0</td>\n    </tr>\n    <tr>\n      <th>1</th>\n      <td>165</td>\n      <td>Germany</td>\n      <td>German</td>\n      <td>8811.0</td>\n    </tr>\n    <tr>\n      <th>2</th>\n      <td>222</td>\n      <td>USA</td>\n      <td>English</td>\n      <td>772155.0</td>\n    </tr>\n    <tr>\n      <th>3</th>\n      <td>245</td>\n      <td>USA</td>\n      <td>English</td>\n      <td>9183673.0</td>\n    </tr>\n    <tr>\n      <th>4</th>\n      <td>251</td>\n      <td>USA</td>\n      <td>English</td>\n      <td>26916.0</td>\n    </tr>\n    <tr>\n      <th>...</th>\n      <td>...</td>\n      <td>...</td>\n      <td>...</td>\n      <td>...</td>\n    </tr>\n    <tr>\n      <th>30851</th>\n      <td>85847</td>\n      <td>India</td>\n      <td>Malayalam</td>\n      <td>4791.0</td>\n    </tr>\n    <tr>\n      <th>30852</th>\n      <td>85850</td>\n      <td>France, Belgium</td>\n      <td>French</td>\n      <td>3507171.0</td>\n    </tr>\n    <tr>\n      <th>30853</th>\n      <td>85851</td>\n      <td>Netherlands</td>\n      <td>German, Dutch</td>\n      <td>7299062.0</td>\n    </tr>\n    <tr>\n      <th>30854</th>\n      <td>85853</td>\n      <td>Turkey</td>\n      <td>Turkish</td>\n      <td>2833.0</td>\n    </tr>\n    <tr>\n      <th>30855</th>\n      <td>85854</td>\n      <td>Spain</td>\n      <td>Catalan</td>\n      <td>59794.0</td>\n    </tr>\n  </tbody>\n</table>\n<p>30856 rows × 4 columns</p>\n</div>"
     },
     "metadata": {},
     "execution_count": 2
    }
   ],
   "source": [
    "ml_movies=pd.read_csv(\"Resource/IMDB_cora.csv\")\n",
    "ml_movies"
   ]
  },
  {
   "cell_type": "code",
   "execution_count": null,
   "metadata": {},
   "outputs": [],
   "source": []
  }
 ]
}