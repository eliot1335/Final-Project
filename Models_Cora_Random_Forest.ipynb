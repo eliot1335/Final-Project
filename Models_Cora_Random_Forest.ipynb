{
 "metadata": {
  "language_info": {
   "codemirror_mode": {
    "name": "ipython",
    "version": 3
   },
   "file_extension": ".py",
   "mimetype": "text/x-python",
   "name": "python",
   "nbconvert_exporter": "python",
   "pygments_lexer": "ipython3",
   "version": "3.6.10"
  },
  "orig_nbformat": 2,
  "kernelspec": {
   "name": "python3",
   "display_name": "Python 3.6.10 64-bit ('dviz_ml': conda)",
   "metadata": {
    "interpreter": {
     "hash": "b7f1b95351681b540155715b28096180c8e313e57d5a257fa2998b8b35cfe1c7"
    }
   }
  }
 },
 "nbformat": 4,
 "nbformat_minor": 2,
 "cells": [
  {
   "cell_type": "code",
   "execution_count": null,
   "metadata": {},
   "outputs": [],
   "source": [
    "#Random Forest Classifier"
   ]
  },
  {
   "cell_type": "code",
   "execution_count": null,
   "metadata": {},
   "outputs": [],
   "source": [
    "#Import Dependencies\n",
    "import warnings\n",
    "warnings.simplefilter('ignore')\n",
    "%matplotlib inline\n",
    "import matplotlib.pyplot as plt\n",
    "import numpy as np\n",
    "import pandas as pd"
   ]
  },
  {
   "cell_type": "code",
   "execution_count": null,
   "metadata": {},
   "outputs": [],
   "source": [
    "##Read in csv file that has gone through the ETL process\n",
    "ml_movies= pd.read_csv(\"Resource/IMDB_cora.csv\")\n",
    "ml_movies.head()"
   ]
  },
  {
   "cell_type": "code",
   "execution_count": null,
   "metadata": {},
   "outputs": [],
   "source": [
    "#Remove the extra column \"Unnamed: 0\"\n",
    "ml_movies= ml_movies.drop(\"Unnamed: 0\", axis=1)\n",
    "ml_movies.head()"
   ]
  },
  {
   "cell_type": "code",
   "execution_count": null,
   "metadata": {},
   "outputs": [],
   "source": [
    "#Create function to replace language labels with English or non-English\n",
    "English = [\"English\",\"english\",\"English,None\"]\n",
    "def clean(response):\n",
    "    if response.lower().rstrip() in English:\n",
    "        return \"English\"\n",
    "    else:\n",
    "        return \"NonEnglish\"\n",
    "ml_movies[\"language\"] = ml_movies[\"language\"].apply(lambda x: clean(x))\n",
    "print(ml_movies)"
   ]
  },
  {
   "cell_type": "code",
   "execution_count": null,
   "metadata": {},
   "outputs": [],
   "source": [
    "#Convert pandas array to numpy array\n",
    "ml_languages=ml_movies[\"language\"]\n",
    "ml_languages=np.array(ml_languages)\n",
    "ml_languages"
   ]
  },
  {
   "cell_type": "code",
   "execution_count": null,
   "metadata": {},
   "outputs": [],
   "source": [
    "#Set up definition for X and y and reshape the data\n",
    "X=ml_languages\n",
    "y=ml_movies[\"world_gross_income\"].values.reshape(-1,1)\n",
    "print(X,y)"
   ]
  },
  {
   "cell_type": "code",
   "execution_count": null,
   "metadata": {},
   "outputs": [],
   "source": [
    "# Apply label encoding to categorize the language as being English or non-English\n",
    "from sklearn.preprocessing import LabelEncoder\n",
    "label_encoder = LabelEncoder()\n",
    "\n",
    "data = X.copy()\n",
    "label_encoder.fit(data)\n",
    "label_encoder.classes_"
   ]
  },
  {
   "cell_type": "code",
   "execution_count": null,
   "metadata": {},
   "outputs": [],
   "source": [
    "#Transform the data using label encoding\n",
    "label_encoder.transform(data)\n",
    "X = pd.get_dummies(X)"
   ]
  },
  {
   "cell_type": "code",
   "execution_count": null,
   "metadata": {},
   "outputs": [],
   "source": [
    "#Split the data into training and testing\n",
    "from sklearn.model_selection import train_test_split\n",
    "X_train, X_test, y_train, y_test = train_test_split(X, y, random_state=0)\n",
    "X_train.head()"
   ]
  },
  {
   "cell_type": "code",
   "execution_count": null,
   "metadata": {},
   "outputs": [],
   "source": [
    "#Create a StandardScaler model\n",
    "from sklearn.preprocessing import StandardScaler\n",
    "X_scaler = StandardScaler().fit(X_train)\n",
    "y_scaler = StandardScaler().fit(y_train)"
   ]
  },
  {
   "cell_type": "code",
   "execution_count": null,
   "metadata": {},
   "outputs": [],
   "source": [
    "#Transform training and testing data\n",
    "X_train_scaled = X_scaler.transform(X_train)\n",
    "X_test_scaled = X_scaler.transform(X_test)\n",
    "y_train_scaled = y_scaler.transform(y_train)\n",
    "y_test_scaled = y_scaler.transform(y_test)"
   ]
  },
  {
   "cell_type": "code",
   "execution_count": null,
   "metadata": {},
   "outputs": [],
   "source": [
    "#Create a Random Forest Regressor Model\n",
    "from sklearn.ensemble import RandomForestRegressor\n",
    "rf = RandomForestRegressor()\n",
    "rf = rf.fit(X_train_scaled, y_train_scaled)\n",
    "\n",
    "plt.boxplot(X_test_scaled,y_test_scaled)\n",
    "plt.show()\n"
   ]
  },
  {
   "cell_type": "code",
   "execution_count": null,
   "metadata": {},
   "outputs": [],
   "source": [
    "#Calculate R2\n",
    "from sklearn.metrics import mean_squared_error\n",
    "predictions = rf.predict(X_test_scaled)\n",
    "r2 = rf.score(X_test_scaled, y_test_scaled)\n",
    "print(f\"R2: {r2}\")"
   ]
  },
  {
   "cell_type": "code",
   "execution_count": null,
   "metadata": {},
   "outputs": [],
   "source": [
    "#Conclusion: The low value of R2 demonstrate that the data does not fit this regression model very well. Another model should be attempted. "
   ]
  }
 ]
}