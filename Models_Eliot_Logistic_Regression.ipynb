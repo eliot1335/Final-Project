{
 "cells": [
  {
   "cell_type": "code",
   "execution_count": null,
   "metadata": {},
   "outputs": [],
   "source": [
    "# # Connect to Google Drive\r\n",
    "# from google.colab import drive\r\n",
    "\r\n",
    "# drive.mount('/content/gdrive')"
   ]
  },
  {
   "cell_type": "code",
   "execution_count": 1,
   "metadata": {},
   "outputs": [
    {
     "name": "stderr",
     "output_type": "stream",
     "text": [
      "[nltk_data] Downloading package punkt to\n",
      "[nltk_data]     C:\\Users\\eliot\\AppData\\Roaming\\nltk_data...\n",
      "[nltk_data]   Package punkt is already up-to-date!\n",
      "[nltk_data] Downloading package stopwords to\n",
      "[nltk_data]     C:\\Users\\eliot\\AppData\\Roaming\\nltk_data...\n",
      "[nltk_data]   Package stopwords is already up-to-date!\n"
     ]
    }
   ],
   "source": [
    "# do all of the imports\r\n",
    "import pandas as pd\r\n",
    "import nltk\r\n",
    "nltk.download('punkt')\r\n",
    "nltk.download('stopwords')\r\n",
    "from sklearn.feature_extraction.text import CountVectorizer\r\n",
    "from sklearn.feature_extraction.text import TfidfVectorizer\r\n",
    "from sklearn.model_selection import train_test_split\r\n",
    "from sklearn.model_selection import GridSearchCV\r\n",
    "from sklearn.linear_model import LogisticRegression\r\n",
    "from sklearn.preprocessing import StandardScaler, LabelEncoder\r\n",
    "from sklearn.preprocessing import LabelEncoder\r\n",
    "from sklearn.preprocessing import OneHotEncoder\r\n",
    "# from keras.preprocessing.text import Tokenizer\r\n",
    "# from keras.preprocessing.sequence import pad_sequences\r\n",
    "# from keras.models import Sequential\r\n",
    "# from keras import layers\r\n",
    "import joblib\r\n",
    "import re\r\n",
    "\r\n",
    "from nltk.tokenize import word_tokenize\r\n",
    "from nltk.corpus import stopwords\r\n",
    "import matplotlib.pyplot as plt\r\n",
    "import string\r\n",
    "plt.style.use('ggplot')"
   ]
  },
  {
   "cell_type": "code",
   "execution_count": 2,
   "metadata": {},
   "outputs": [
    {
     "data": {
      "text/html": "<div>\n<style scoped>\n    .dataframe tbody tr th:only-of-type {\n        vertical-align: middle;\n    }\n\n    .dataframe tbody tr th {\n        vertical-align: top;\n    }\n\n    .dataframe thead th {\n        text-align: right;\n    }\n</style>\n<table border=\"1\" class=\"dataframe\">\n  <thead>\n    <tr style=\"text-align: right;\">\n      <th></th>\n      <th>Unnamed: 0</th>\n      <th>imdb_title_id</th>\n      <th>title</th>\n      <th>year</th>\n      <th>genre</th>\n      <th>metascore</th>\n      <th>description</th>\n    </tr>\n  </thead>\n  <tbody>\n    <tr>\n      <th>0</th>\n      <td>76</td>\n      <td>tt0006864</td>\n      <td>Intolerance</td>\n      <td>1916</td>\n      <td>Drama, History</td>\n      <td>99.0</td>\n      <td>story poor young woman separated prejudice hus...</td>\n    </tr>\n    <tr>\n      <th>1</th>\n      <td>506</td>\n      <td>tt0017136</td>\n      <td>Metropolis</td>\n      <td>1927</td>\n      <td>Drama, Sci-Fi</td>\n      <td>98.0</td>\n      <td>futuristic city sharply divided working class ...</td>\n    </tr>\n    <tr>\n      <th>2</th>\n      <td>566</td>\n      <td>tt0018037</td>\n      <td>Il cantante di jazz</td>\n      <td>1927</td>\n      <td>Drama, Music, Musical</td>\n      <td>66.0</td>\n      <td>son jewish cantor must defy traditions religio...</td>\n    </tr>\n    <tr>\n      <th>3</th>\n      <td>628</td>\n      <td>tt0018773</td>\n      <td>Il circo</td>\n      <td>1928</td>\n      <td>Comedy, Romance</td>\n      <td>90.0</td>\n      <td>tramp finds work girl dreams circus</td>\n    </tr>\n    <tr>\n      <th>4</th>\n      <td>714</td>\n      <td>tt0019777</td>\n      <td>The Cocoanuts</td>\n      <td>1929</td>\n      <td>Comedy, Musical</td>\n      <td>69.0</td>\n      <td>florida land boom</td>\n    </tr>\n  </tbody>\n</table>\n</div>",
      "text/plain": "   Unnamed: 0 imdb_title_id                title  year                  genre  \\\n0          76     tt0006864          Intolerance  1916         Drama, History   \n1         506     tt0017136           Metropolis  1927          Drama, Sci-Fi   \n2         566     tt0018037  Il cantante di jazz  1927  Drama, Music, Musical   \n3         628     tt0018773             Il circo  1928        Comedy, Romance   \n4         714     tt0019777        The Cocoanuts  1929        Comedy, Musical   \n\n   metascore                                        description  \n0       99.0  story poor young woman separated prejudice hus...  \n1       98.0  futuristic city sharply divided working class ...  \n2       66.0  son jewish cantor must defy traditions religio...  \n3       90.0                tramp finds work girl dreams circus  \n4       69.0                                  florida land boom  "
     },
     "execution_count": 2,
     "metadata": {},
     "output_type": "execute_result"
    }
   ],
   "source": [
    "# Load in the IMDB_sean file\r\n",
    "# df = pd.read_csv(\"gdrive/MyDrive/Colab Notebooks/Final-Project/Resource/IMDB_eliot.csv\")\r\n",
    "df = pd.read_csv(\"Resource/IMDB_eliot2.csv\")\r\n",
    "df.head()"
   ]
  },
  {
   "cell_type": "code",
   "execution_count": 3,
   "metadata": {},
   "outputs": [
    {
     "data": {
      "text/html": "<div>\n<style scoped>\n    .dataframe tbody tr th:only-of-type {\n        vertical-align: middle;\n    }\n\n    .dataframe tbody tr th {\n        vertical-align: top;\n    }\n\n    .dataframe thead th {\n        text-align: right;\n    }\n</style>\n<table border=\"1\" class=\"dataframe\">\n  <thead>\n    <tr style=\"text-align: right;\">\n      <th></th>\n      <th>Unnamed: 0</th>\n      <th>imdb_title_id</th>\n      <th>title</th>\n      <th>year</th>\n      <th>genre</th>\n      <th>metascore</th>\n      <th>description</th>\n    </tr>\n  </thead>\n  <tbody>\n    <tr>\n      <th>0</th>\n      <td>76</td>\n      <td>tt0006864</td>\n      <td>Intolerance</td>\n      <td>1916</td>\n      <td>[Drama,  History]</td>\n      <td>99.0</td>\n      <td>story poor young woman separated prejudice hus...</td>\n    </tr>\n    <tr>\n      <th>1</th>\n      <td>506</td>\n      <td>tt0017136</td>\n      <td>Metropolis</td>\n      <td>1927</td>\n      <td>[Drama,  Sci-Fi]</td>\n      <td>98.0</td>\n      <td>futuristic city sharply divided working class ...</td>\n    </tr>\n    <tr>\n      <th>2</th>\n      <td>566</td>\n      <td>tt0018037</td>\n      <td>Il cantante di jazz</td>\n      <td>1927</td>\n      <td>[Drama,  Music,  Musical]</td>\n      <td>66.0</td>\n      <td>son jewish cantor must defy traditions religio...</td>\n    </tr>\n    <tr>\n      <th>3</th>\n      <td>628</td>\n      <td>tt0018773</td>\n      <td>Il circo</td>\n      <td>1928</td>\n      <td>[Comedy,  Romance]</td>\n      <td>90.0</td>\n      <td>tramp finds work girl dreams circus</td>\n    </tr>\n    <tr>\n      <th>4</th>\n      <td>714</td>\n      <td>tt0019777</td>\n      <td>The Cocoanuts</td>\n      <td>1929</td>\n      <td>[Comedy,  Musical]</td>\n      <td>69.0</td>\n      <td>florida land boom</td>\n    </tr>\n  </tbody>\n</table>\n</div>",
      "text/plain": "   Unnamed: 0 imdb_title_id                title  year  \\\n0          76     tt0006864          Intolerance  1916   \n1         506     tt0017136           Metropolis  1927   \n2         566     tt0018037  Il cantante di jazz  1927   \n3         628     tt0018773             Il circo  1928   \n4         714     tt0019777        The Cocoanuts  1929   \n\n                       genre  metascore  \\\n0          [Drama,  History]       99.0   \n1           [Drama,  Sci-Fi]       98.0   \n2  [Drama,  Music,  Musical]       66.0   \n3         [Comedy,  Romance]       90.0   \n4         [Comedy,  Musical]       69.0   \n\n                                         description  \n0  story poor young woman separated prejudice hus...  \n1  futuristic city sharply divided working class ...  \n2  son jewish cantor must defy traditions religio...  \n3                tramp finds work girl dreams circus  \n4                                  florida land boom  "
     },
     "execution_count": 3,
     "metadata": {},
     "output_type": "execute_result"
    }
   ],
   "source": [
    "df[\"genre\"] = df[\"genre\"].str.split(\",\")\r\n",
    "df.head()"
   ]
  },
  {
   "cell_type": "code",
   "execution_count": 4,
   "metadata": {},
   "outputs": [],
   "source": [
    "from sklearn.preprocessing import MultiLabelBinarizer\r\n",
    "\r\n",
    "multilabel_binarizer = MultiLabelBinarizer()\r\n",
    "multilabel_binarizer.fit(df['genre'])\r\n",
    "\r\n",
    "# transform target variable\r\n",
    "y = multilabel_binarizer.transform(df['genre'])"
   ]
  },
  {
   "cell_type": "code",
   "execution_count": 5,
   "metadata": {},
   "outputs": [],
   "source": [
    "tfidf_vectorizer = TfidfVectorizer(max_df=0.8, max_features=10000)"
   ]
  },
  {
   "cell_type": "code",
   "execution_count": 6,
   "metadata": {},
   "outputs": [],
   "source": [
    "df_features = df.drop([\"Unnamed: 0\"], axis=1)"
   ]
  },
  {
   "cell_type": "code",
   "execution_count": 7,
   "metadata": {},
   "outputs": [],
   "source": [
    "# split dataset into training and test set\r\n",
    "# X_train, X_test, y_train, y_test = train_test_split(df_features, y, test_size=0.2, random_state=42)\r\n",
    "X_train, X_test, y_train, y_test = train_test_split(df[\"description\"].values.astype(str), y, test_size=0.2, random_state=30)\r\n"
   ]
  },
  {
   "cell_type": "code",
   "execution_count": 8,
   "metadata": {},
   "outputs": [],
   "source": [
    "# create TF-IDF features\r\n",
    "X_train_tfidf = tfidf_vectorizer.fit_transform(X_train)\r\n",
    "\r\n",
    "X_test_tfidf = tfidf_vectorizer.transform(X_test)"
   ]
  },
  {
   "cell_type": "code",
   "execution_count": 9,
   "metadata": {},
   "outputs": [],
   "source": [
    "from sklearn.linear_model import LogisticRegression\r\n",
    "\r\n",
    "from sklearn.multiclass import OneVsRestClassifier\r\n",
    "\r\n",
    "from sklearn.metrics import f1_score"
   ]
  },
  {
   "cell_type": "code",
   "execution_count": 10,
   "metadata": {},
   "outputs": [],
   "source": [
    "lr = LogisticRegression()\r\n",
    "clf = OneVsRestClassifier(lr)"
   ]
  },
  {
   "cell_type": "code",
   "execution_count": 11,
   "metadata": {},
   "outputs": [
    {
     "name": "stderr",
     "output_type": "stream",
     "text": [
      "C:\\Users\\eliot\\anaconda3\\envs\\dv_u12_pip\\lib\\site-packages\\sklearn\\multiclass.py:76: UserWarning: Label not 31 is present in all training examples.\n",
      "  warnings.warn(\"Label %s is present in all training examples.\" %\n"
     ]
    },
    {
     "data": {
      "text/plain": "OneVsRestClassifier(estimator=LogisticRegression())"
     },
     "execution_count": 11,
     "metadata": {},
     "output_type": "execute_result"
    }
   ],
   "source": [
    "clf.fit(X_train_tfidf, y_train)"
   ]
  },
  {
   "cell_type": "code",
   "execution_count": 12,
   "metadata": {},
   "outputs": [],
   "source": [
    "y_pred = clf.predict(X_test_tfidf)"
   ]
  },
  {
   "cell_type": "code",
   "execution_count": 13,
   "metadata": {},
   "outputs": [
    {
     "data": {
      "text/plain": "array([0, 0, 0, 0, 0, 0, 0, 0, 0, 0, 0, 0, 0, 0, 0, 0, 0, 0, 0, 0, 0, 0,\n       0, 0, 0, 0, 0, 1, 0, 0, 0, 0, 0, 0, 0, 0, 0, 0, 0, 0, 0])"
     },
     "execution_count": 13,
     "metadata": {},
     "output_type": "execute_result"
    }
   ],
   "source": [
    "y_pred[2653]"
   ]
  },
  {
   "cell_type": "code",
   "execution_count": 16,
   "metadata": {},
   "outputs": [
    {
     "data": {
      "text/plain": "()"
     },
     "execution_count": 16,
     "metadata": {},
     "output_type": "execute_result"
    }
   ],
   "source": [
    "multilabel_binarizer.inverse_transform(y_pred)[2]"
   ]
  },
  {
   "cell_type": "code",
   "execution_count": 17,
   "metadata": {},
   "outputs": [
    {
     "data": {
      "text/plain": "0.2052038626609442"
     },
     "execution_count": 17,
     "metadata": {},
     "output_type": "execute_result"
    }
   ],
   "source": [
    "f1_score(y_test, y_pred, average=\"micro\")"
   ]
  },
  {
   "cell_type": "code",
   "execution_count": null,
   "metadata": {},
   "outputs": [],
   "source": [
    "# # Use MultiLabelBinarizer to set up genre encoding\r\n",
    "# # Then fit genre into y\r\n",
    "# # and use the rest\r\n",
    "\r\n",
    "# sentences = df[\"words\"].values\r\n",
    "# y = df[\"genre\"].values\r\n",
    "\r\n",
    "\r\n",
    "# sentences_train, sentences_test, y_train, y_test = train_test_split(sentences, y, test_size=0.25, random_state=42)\r\n",
    "\r\n",
    "# vectorizer = CountVectorizer()\r\n",
    "# vectorizer.fit(sentences_train)\r\n",
    "\r\n",
    "# X_train = vectorizer.transform(sentences_train)\r\n",
    "# X_test  = vectorizer.transform(sentences_test)\r\n",
    "\r\n",
    "# print(X_train.shape)"
   ]
  },
  {
   "cell_type": "code",
   "execution_count": null,
   "metadata": {},
   "outputs": [],
   "source": []
  }
 ],
 "metadata": {
  "kernelspec": {
   "display_name": "Python 3",
   "language": "python",
   "name": "python3"
  },
  "language_info": {
   "codemirror_mode": {
    "name": "ipython",
    "version": 3
   },
   "file_extension": ".py",
   "mimetype": "text/x-python",
   "name": "python",
   "nbconvert_exporter": "python",
   "pygments_lexer": "ipython3",
   "version": "3.8.3"
  },
  "orig_nbformat": 2
 },
 "nbformat": 4,
 "nbformat_minor": 2
}