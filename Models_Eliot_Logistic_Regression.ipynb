{
 "cells": [
  {
   "cell_type": "code",
   "execution_count": null,
   "metadata": {},
   "outputs": [],
   "source": [
    "# Connect to Google Drive\r\n",
    "from google.colab import drive\r\n",
    "\r\n",
    "drive.mount('/content/gdrive')"
   ]
  },
  {
   "cell_type": "code",
   "execution_count": 2,
   "metadata": {},
   "outputs": [
    {
     "name": "stderr",
     "output_type": "stream",
     "text": [
      "[nltk_data] Downloading package punkt to\n",
      "[nltk_data]     C:\\Users\\eliot\\AppData\\Roaming\\nltk_data...\n",
      "[nltk_data]   Package punkt is already up-to-date!\n",
      "[nltk_data] Downloading package stopwords to\n",
      "[nltk_data]     C:\\Users\\eliot\\AppData\\Roaming\\nltk_data...\n",
      "[nltk_data]   Package stopwords is already up-to-date!\n"
     ]
    }
   ],
   "source": [
    "# do all of the imports\r\n",
    "import pandas as pd\r\n",
    "import nltk\r\n",
    "nltk.download('punkt')\r\n",
    "nltk.download('stopwords')\r\n",
    "from sklearn.feature_extraction.text import CountVectorizer\r\n",
    "from sklearn.model_selection import train_test_split\r\n",
    "from sklearn.model_selection import GridSearchCV\r\n",
    "from sklearn.linear_model import LogisticRegression\r\n",
    "from sklearn.preprocessing import StandardScaler, LabelEncoder\r\n",
    "from sklearn.preprocessing import LabelEncoder\r\n",
    "from sklearn.preprocessing import OneHotEncoder\r\n",
    "# from keras.preprocessing.text import Tokenizer\r\n",
    "# from keras.preprocessing.sequence import pad_sequences\r\n",
    "# from keras.models import Sequential\r\n",
    "# from keras import layers\r\n",
    "import joblib\r\n",
    "\r\n",
    "from nltk.tokenize import word_tokenize\r\n",
    "from nltk.corpus import stopwords\r\n",
    "import matplotlib.pyplot as plt\r\n",
    "import string\r\n",
    "plt.style.use('ggplot')"
   ]
  },
  {
   "cell_type": "code",
   "execution_count": 3,
   "metadata": {},
   "outputs": [],
   "source": [
    "def text_pipeline2(row):\r\n",
    "    # genre = row[\"genre\"]\r\n",
    "    descr = row[\"description\"]\r\n",
    "    # text = genre + \" \" + descr\r\n",
    "    # split into words\r\n",
    "    tokens = word_tokenize(descr)\r\n",
    "    # convert to lower case\r\n",
    "    tokens = [w.lower() for w in tokens]\r\n",
    "    # remove punctuation from each word\r\n",
    "    table = str.maketrans('', '', string.punctuation)\r\n",
    "    stripped = [w.translate(table) for w in tokens]\r\n",
    "    # remove remaining tokens that are not alphabetic\r\n",
    "    words = [word for word in stripped if word.isalpha()]\r\n",
    "    # filter out stop words\r\n",
    "    stop_words = set(stopwords.words('english'))\r\n",
    "    words = [w for w in words if not w in stop_words]\r\n",
    "    # join the words and return them to be loaded into the dataframe\r\n",
    "    return \" \".join(words)"
   ]
  },
  {
   "cell_type": "code",
   "execution_count": 5,
   "metadata": {},
   "outputs": [
    {
     "data": {
      "text/html": "<div>\n<style scoped>\n    .dataframe tbody tr th:only-of-type {\n        vertical-align: middle;\n    }\n\n    .dataframe tbody tr th {\n        vertical-align: top;\n    }\n\n    .dataframe thead th {\n        text-align: right;\n    }\n</style>\n<table border=\"1\" class=\"dataframe\">\n  <thead>\n    <tr style=\"text-align: right;\">\n      <th></th>\n      <th>Unnamed: 0</th>\n      <th>title</th>\n      <th>year</th>\n      <th>genre</th>\n      <th>description</th>\n      <th>budget</th>\n      <th>usa_gross_income</th>\n      <th>worlwide_gross_income</th>\n    </tr>\n  </thead>\n  <tbody>\n    <tr>\n      <th>0</th>\n      <td>165</td>\n      <td>Il gabinetto del dottor Caligari</td>\n      <td>1920</td>\n      <td>Fantasy, Horror, Mystery</td>\n      <td>Hypnotist Dr. Caligari uses a somnambulist, Ce...</td>\n      <td>18000.0</td>\n      <td>8811.0</td>\n      <td>8811.0</td>\n    </tr>\n    <tr>\n      <th>1</th>\n      <td>245</td>\n      <td>I quattro cavalieri dell'Apocalisse</td>\n      <td>1921</td>\n      <td>Drama, Romance, War</td>\n      <td>An extended family split up in France and Germ...</td>\n      <td>800000.0</td>\n      <td>9183673.0</td>\n      <td>9183673.0</td>\n    </tr>\n    <tr>\n      <th>2</th>\n      <td>506</td>\n      <td>Metropolis</td>\n      <td>1927</td>\n      <td>Drama, Sci-Fi</td>\n      <td>In a futuristic city sharply divided between t...</td>\n      <td>6000000.0</td>\n      <td>1236166.0</td>\n      <td>1349711.0</td>\n    </tr>\n    <tr>\n      <th>3</th>\n      <td>1048</td>\n      <td>Luci della città</td>\n      <td>1931</td>\n      <td>Comedy, Drama, Romance</td>\n      <td>With the aid of a wealthy erratic tippler, a d...</td>\n      <td>1500000.0</td>\n      <td>19181.0</td>\n      <td>46008.0</td>\n    </tr>\n    <tr>\n      <th>4</th>\n      <td>2454</td>\n      <td>Tempi moderni</td>\n      <td>1936</td>\n      <td>Comedy, Drama, Family</td>\n      <td>The Tramp struggles to live in modern industri...</td>\n      <td>1500000.0</td>\n      <td>163577.0</td>\n      <td>457688.0</td>\n    </tr>\n  </tbody>\n</table>\n</div>",
      "text/plain": "   Unnamed: 0                                title  year  \\\n0         165     Il gabinetto del dottor Caligari  1920   \n1         245  I quattro cavalieri dell'Apocalisse  1921   \n2         506                           Metropolis  1927   \n3        1048                     Luci della città  1931   \n4        2454                        Tempi moderni  1936   \n\n                      genre  \\\n0  Fantasy, Horror, Mystery   \n1       Drama, Romance, War   \n2             Drama, Sci-Fi   \n3    Comedy, Drama, Romance   \n4     Comedy, Drama, Family   \n\n                                         description     budget  \\\n0  Hypnotist Dr. Caligari uses a somnambulist, Ce...    18000.0   \n1  An extended family split up in France and Germ...   800000.0   \n2  In a futuristic city sharply divided between t...  6000000.0   \n3  With the aid of a wealthy erratic tippler, a d...  1500000.0   \n4  The Tramp struggles to live in modern industri...  1500000.0   \n\n   usa_gross_income  worlwide_gross_income  \n0            8811.0                 8811.0  \n1         9183673.0              9183673.0  \n2         1236166.0              1349711.0  \n3           19181.0                46008.0  \n4          163577.0               457688.0  "
     },
     "execution_count": 5,
     "metadata": {},
     "output_type": "execute_result"
    }
   ],
   "source": [
    "# Load in the IMDB_sean file\r\n",
    "# df = pd.read_csv(\"gdrive/MyDrive/Colab Notebooks/Final-Project/Resource/IMDB_eliot.csv\")\r\n",
    "df = pd.read_csv(\"Resource/IMDB_eliot.csv\")\r\n",
    "df.head()"
   ]
  },
  {
   "cell_type": "code",
   "execution_count": 7,
   "metadata": {},
   "outputs": [
    {
     "data": {
      "text/html": "<div>\n<style scoped>\n    .dataframe tbody tr th:only-of-type {\n        vertical-align: middle;\n    }\n\n    .dataframe tbody tr th {\n        vertical-align: top;\n    }\n\n    .dataframe thead th {\n        text-align: right;\n    }\n</style>\n<table border=\"1\" class=\"dataframe\">\n  <thead>\n    <tr style=\"text-align: right;\">\n      <th></th>\n      <th>Unnamed: 0</th>\n      <th>title</th>\n      <th>year</th>\n      <th>genre</th>\n      <th>description</th>\n      <th>budget</th>\n      <th>usa_gross_income</th>\n      <th>worlwide_gross_income</th>\n      <th>words</th>\n    </tr>\n  </thead>\n  <tbody>\n    <tr>\n      <th>0</th>\n      <td>165</td>\n      <td>Il gabinetto del dottor Caligari</td>\n      <td>1920</td>\n      <td>Fantasy, Horror, Mystery</td>\n      <td>Hypnotist Dr. Caligari uses a somnambulist, Ce...</td>\n      <td>18000.0</td>\n      <td>8811.0</td>\n      <td>8811.0</td>\n      <td>hypnotist dr caligari uses somnambulist cesare...</td>\n    </tr>\n    <tr>\n      <th>1</th>\n      <td>245</td>\n      <td>I quattro cavalieri dell'Apocalisse</td>\n      <td>1921</td>\n      <td>Drama, Romance, War</td>\n      <td>An extended family split up in France and Germ...</td>\n      <td>800000.0</td>\n      <td>9183673.0</td>\n      <td>9183673.0</td>\n      <td>extended family split france germany find oppo...</td>\n    </tr>\n    <tr>\n      <th>2</th>\n      <td>506</td>\n      <td>Metropolis</td>\n      <td>1927</td>\n      <td>Drama, Sci-Fi</td>\n      <td>In a futuristic city sharply divided between t...</td>\n      <td>6000000.0</td>\n      <td>1236166.0</td>\n      <td>1349711.0</td>\n      <td>futuristic city sharply divided working class ...</td>\n    </tr>\n    <tr>\n      <th>3</th>\n      <td>1048</td>\n      <td>Luci della città</td>\n      <td>1931</td>\n      <td>Comedy, Drama, Romance</td>\n      <td>With the aid of a wealthy erratic tippler, a d...</td>\n      <td>1500000.0</td>\n      <td>19181.0</td>\n      <td>46008.0</td>\n      <td>aid wealthy erratic tippler dewyeyed tramp fal...</td>\n    </tr>\n    <tr>\n      <th>4</th>\n      <td>2454</td>\n      <td>Tempi moderni</td>\n      <td>1936</td>\n      <td>Comedy, Drama, Family</td>\n      <td>The Tramp struggles to live in modern industri...</td>\n      <td>1500000.0</td>\n      <td>163577.0</td>\n      <td>457688.0</td>\n      <td>tramp struggles live modern industrial society...</td>\n    </tr>\n  </tbody>\n</table>\n</div>",
      "text/plain": "   Unnamed: 0                                title  year  \\\n0         165     Il gabinetto del dottor Caligari  1920   \n1         245  I quattro cavalieri dell'Apocalisse  1921   \n2         506                           Metropolis  1927   \n3        1048                     Luci della città  1931   \n4        2454                        Tempi moderni  1936   \n\n                      genre  \\\n0  Fantasy, Horror, Mystery   \n1       Drama, Romance, War   \n2             Drama, Sci-Fi   \n3    Comedy, Drama, Romance   \n4     Comedy, Drama, Family   \n\n                                         description     budget  \\\n0  Hypnotist Dr. Caligari uses a somnambulist, Ce...    18000.0   \n1  An extended family split up in France and Germ...   800000.0   \n2  In a futuristic city sharply divided between t...  6000000.0   \n3  With the aid of a wealthy erratic tippler, a d...  1500000.0   \n4  The Tramp struggles to live in modern industri...  1500000.0   \n\n   usa_gross_income  worlwide_gross_income  \\\n0            8811.0                 8811.0   \n1         9183673.0              9183673.0   \n2         1236166.0              1349711.0   \n3           19181.0                46008.0   \n4          163577.0               457688.0   \n\n                                               words  \n0  hypnotist dr caligari uses somnambulist cesare...  \n1  extended family split france germany find oppo...  \n2  futuristic city sharply divided working class ...  \n3  aid wealthy erratic tippler dewyeyed tramp fal...  \n4  tramp struggles live modern industrial society...  "
     },
     "execution_count": 7,
     "metadata": {},
     "output_type": "execute_result"
    }
   ],
   "source": [
    " df[\"words\"] = df.apply(text_pipeline2, axis=1)\r\n",
    " df.head()\r\n",
    "#  print(df[\"words\"].map(lambda x: len(x)).max())"
   ]
  },
  {
   "cell_type": "code",
   "execution_count": 13,
   "metadata": {},
   "outputs": [
    {
     "name": "stdout",
     "output_type": "stream",
     "text": [
      "(6081, 15708)\n"
     ]
    }
   ],
   "source": [
    "# Use MultiLabelBinarizer to set up genre encoding\r\n",
    "# Then fit genre into y\r\n",
    "# and use the rest\r\n",
    "\r\n",
    "sentences = df[\"words\"].values\r\n",
    "y = df[\"genre\"].values\r\n",
    "\r\n",
    "\r\n",
    "sentences_train, sentences_test, y_train, y_test = train_test_split(sentences, y, test_size=0.25, random_state=42)\r\n",
    "\r\n",
    "vectorizer = CountVectorizer()\r\n",
    "vectorizer.fit(sentences_train)\r\n",
    "\r\n",
    "X_train = vectorizer.transform(sentences_train)\r\n",
    "X_test  = vectorizer.transform(sentences_test)\r\n",
    "\r\n",
    "print(X_train.shape)"
   ]
  }
 ],
 "metadata": {
  "kernelspec": {
   "display_name": "Python 3",
   "language": "python",
   "name": "python3"
  },
  "language_info": {
   "codemirror_mode": {
    "name": "ipython",
    "version": 3
   },
   "file_extension": ".py",
   "mimetype": "text/x-python",
   "name": "python",
   "nbconvert_exporter": "python",
   "pygments_lexer": "ipython3",
   "version": "3.8.3"
  },
  "orig_nbformat": 2
 },
 "nbformat": 4,
 "nbformat_minor": 2
}