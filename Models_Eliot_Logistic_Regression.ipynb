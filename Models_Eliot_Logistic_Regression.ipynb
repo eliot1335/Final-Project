{
 "cells": [
  {
   "cell_type": "code",
   "execution_count": null,
   "metadata": {},
   "outputs": [],
   "source": [
    "# Connect to Google Drive\r\n",
    "from google.colab import drive\r\n",
    "\r\n",
    "drive.mount('/content/gdrive')"
   ]
  },
  {
   "cell_type": "code",
   "execution_count": 2,
   "metadata": {},
   "outputs": [
    {
     "name": "stderr",
     "output_type": "stream",
     "text": [
      "[nltk_data] Downloading package punkt to\n",
      "[nltk_data]     C:\\Users\\eliot\\AppData\\Roaming\\nltk_data...\n",
      "[nltk_data]   Package punkt is already up-to-date!\n",
      "[nltk_data] Downloading package stopwords to\n",
      "[nltk_data]     C:\\Users\\eliot\\AppData\\Roaming\\nltk_data...\n",
      "[nltk_data]   Package stopwords is already up-to-date!\n"
     ]
    }
   ],
   "source": [
    "# do all of the imports\r\n",
    "import pandas as pd\r\n",
    "import nltk\r\n",
    "nltk.download('punkt')\r\n",
    "nltk.download('stopwords')\r\n",
    "from sklearn.feature_extraction.text import CountVectorizer\r\n",
    "from sklearn.model_selection import train_test_split\r\n",
    "from sklearn.model_selection import GridSearchCV\r\n",
    "from sklearn.linear_model import LogisticRegression\r\n",
    "from sklearn.preprocessing import StandardScaler, LabelEncoder\r\n",
    "from sklearn.preprocessing import LabelEncoder\r\n",
    "from sklearn.preprocessing import OneHotEncoder\r\n",
    "# from keras.preprocessing.text import Tokenizer\r\n",
    "# from keras.preprocessing.sequence import pad_sequences\r\n",
    "# from keras.models import Sequential\r\n",
    "# from keras import layers\r\n",
    "import joblib\r\n",
    "\r\n",
    "from nltk.tokenize import word_tokenize\r\n",
    "from nltk.corpus import stopwords\r\n",
    "import matplotlib.pyplot as plt\r\n",
    "import string\r\n",
    "plt.style.use('ggplot')"
   ]
  },
  {
   "cell_type": "code",
   "execution_count": 5,
   "metadata": {},
   "outputs": [
    {
     "data": {
      "text/html": "<div>\n<style scoped>\n    .dataframe tbody tr th:only-of-type {\n        vertical-align: middle;\n    }\n\n    .dataframe tbody tr th {\n        vertical-align: top;\n    }\n\n    .dataframe thead th {\n        text-align: right;\n    }\n</style>\n<table border=\"1\" class=\"dataframe\">\n  <thead>\n    <tr style=\"text-align: right;\">\n      <th></th>\n      <th>Unnamed: 0</th>\n      <th>title</th>\n      <th>year</th>\n      <th>genre</th>\n      <th>description</th>\n      <th>budget</th>\n      <th>usa_gross_income</th>\n      <th>worlwide_gross_income</th>\n    </tr>\n  </thead>\n  <tbody>\n    <tr>\n      <th>0</th>\n      <td>165</td>\n      <td>Il gabinetto del dottor Caligari</td>\n      <td>1920</td>\n      <td>Fantasy, Horror, Mystery</td>\n      <td>Hypnotist Dr. Caligari uses a somnambulist, Ce...</td>\n      <td>18000.0</td>\n      <td>8811.0</td>\n      <td>8811.0</td>\n    </tr>\n    <tr>\n      <th>1</th>\n      <td>245</td>\n      <td>I quattro cavalieri dell'Apocalisse</td>\n      <td>1921</td>\n      <td>Drama, Romance, War</td>\n      <td>An extended family split up in France and Germ...</td>\n      <td>800000.0</td>\n      <td>9183673.0</td>\n      <td>9183673.0</td>\n    </tr>\n    <tr>\n      <th>2</th>\n      <td>506</td>\n      <td>Metropolis</td>\n      <td>1927</td>\n      <td>Drama, Sci-Fi</td>\n      <td>In a futuristic city sharply divided between t...</td>\n      <td>6000000.0</td>\n      <td>1236166.0</td>\n      <td>1349711.0</td>\n    </tr>\n    <tr>\n      <th>3</th>\n      <td>1048</td>\n      <td>Luci della città</td>\n      <td>1931</td>\n      <td>Comedy, Drama, Romance</td>\n      <td>With the aid of a wealthy erratic tippler, a d...</td>\n      <td>1500000.0</td>\n      <td>19181.0</td>\n      <td>46008.0</td>\n    </tr>\n    <tr>\n      <th>4</th>\n      <td>2454</td>\n      <td>Tempi moderni</td>\n      <td>1936</td>\n      <td>Comedy, Drama, Family</td>\n      <td>The Tramp struggles to live in modern industri...</td>\n      <td>1500000.0</td>\n      <td>163577.0</td>\n      <td>457688.0</td>\n    </tr>\n  </tbody>\n</table>\n</div>",
      "text/plain": "   Unnamed: 0                                title  year  \\\n0         165     Il gabinetto del dottor Caligari  1920   \n1         245  I quattro cavalieri dell'Apocalisse  1921   \n2         506                           Metropolis  1927   \n3        1048                     Luci della città  1931   \n4        2454                        Tempi moderni  1936   \n\n                      genre  \\\n0  Fantasy, Horror, Mystery   \n1       Drama, Romance, War   \n2             Drama, Sci-Fi   \n3    Comedy, Drama, Romance   \n4     Comedy, Drama, Family   \n\n                                         description     budget  \\\n0  Hypnotist Dr. Caligari uses a somnambulist, Ce...    18000.0   \n1  An extended family split up in France and Germ...   800000.0   \n2  In a futuristic city sharply divided between t...  6000000.0   \n3  With the aid of a wealthy erratic tippler, a d...  1500000.0   \n4  The Tramp struggles to live in modern industri...  1500000.0   \n\n   usa_gross_income  worlwide_gross_income  \n0            8811.0                 8811.0  \n1         9183673.0              9183673.0  \n2         1236166.0              1349711.0  \n3           19181.0                46008.0  \n4          163577.0               457688.0  "
     },
     "execution_count": 5,
     "metadata": {},
     "output_type": "execute_result"
    }
   ],
   "source": [
    "# Load in the IMDB_sean file\r\n",
    "# df = pd.read_csv(\"gdrive/MyDrive/Colab Notebooks/Final-Project/Resource/IMDB_eliot.csv\")\r\n",
    "df = pd.read_csv(\"Resource/IMDB_eliot.csv\")\r\n",
    "df.head()"
   ]
  },
  {
   "cell_type": "code",
   "execution_count": 13,
   "metadata": {},
   "outputs": [
    {
     "name": "stdout",
     "output_type": "stream",
     "text": [
      "(6081, 15708)\n"
     ]
    }
   ],
   "source": [
    "# Use MultiLabelBinarizer to set up genre encoding\r\n",
    "# Then fit genre into y\r\n",
    "# and use the rest\r\n",
    "\r\n",
    "sentences = df[\"words\"].values\r\n",
    "y = df[\"genre\"].values\r\n",
    "\r\n",
    "\r\n",
    "sentences_train, sentences_test, y_train, y_test = train_test_split(sentences, y, test_size=0.25, random_state=42)\r\n",
    "\r\n",
    "vectorizer = CountVectorizer()\r\n",
    "vectorizer.fit(sentences_train)\r\n",
    "\r\n",
    "X_train = vectorizer.transform(sentences_train)\r\n",
    "X_test  = vectorizer.transform(sentences_test)\r\n",
    "\r\n",
    "print(X_train.shape)"
   ]
  },
  {
   "cell_type": "code",
   "execution_count": 17,
   "metadata": {},
   "outputs": [
    {
     "name": "stdout",
     "output_type": "stream",
     "text": [
      "  (0, 2646)\t1\n",
      "  (0, 3492)\t1\n",
      "  (0, 5932)\t1\n",
      "  (0, 7717)\t1\n",
      "  (0, 7868)\t1\n",
      "  (0, 8431)\t1\n",
      "  (0, 8467)\t1\n",
      "  (0, 10742)\t1\n",
      "  (0, 10746)\t1\n",
      "  (0, 13448)\t1\n",
      "  (0, 14487)\t1\n",
      "  (0, 14879)\t1\n",
      "  (0, 15050)\t1\n",
      "  (0, 15124)\t1\n",
      "  (0, 15465)\t1\n",
      "  (2, 754)\t1\n",
      "  (2, 2646)\t1\n",
      "  (2, 3404)\t1\n",
      "  (2, 3650)\t1\n",
      "  (2, 4810)\t1\n",
      "  (2, 6379)\t1\n",
      "  (2, 8546)\t1\n",
      "  (2, 10067)\t1\n",
      "  (2, 12690)\t1\n",
      "  (2, 13663)\t1\n",
      "  :\t:\n",
      "  (6079, 6667)\t1\n",
      "  (6079, 7258)\t1\n",
      "  (6079, 7918)\t1\n",
      "  (6079, 8088)\t1\n",
      "  (6079, 8507)\t1\n",
      "  (6079, 10976)\t1\n",
      "  (6079, 12417)\t1\n",
      "  (6080, 403)\t1\n",
      "  (6080, 1254)\t1\n",
      "  (6080, 2354)\t1\n",
      "  (6080, 3378)\t2\n",
      "  (6080, 3389)\t1\n",
      "  (6080, 4210)\t1\n",
      "  (6080, 5620)\t1\n",
      "  (6080, 5755)\t1\n",
      "  (6080, 5798)\t1\n",
      "  (6080, 8275)\t1\n",
      "  (6080, 8894)\t1\n",
      "  (6080, 9504)\t1\n",
      "  (6080, 10543)\t1\n",
      "  (6080, 10993)\t1\n",
      "  (6080, 12241)\t1\n",
      "  (6080, 13350)\t1\n",
      "  (6080, 13997)\t1\n",
      "  (6080, 14108)\t1\n"
     ]
    }
   ],
   "source": []
  }
 ],
 "metadata": {
  "kernelspec": {
   "display_name": "Python 3",
   "language": "python",
   "name": "python3"
  },
  "language_info": {
   "codemirror_mode": {
    "name": "ipython",
    "version": 3
   },
   "file_extension": ".py",
   "mimetype": "text/x-python",
   "name": "python",
   "nbconvert_exporter": "python",
   "pygments_lexer": "ipython3",
   "version": "3.8.3"
  },
  "orig_nbformat": 2
 },
 "nbformat": 4,
 "nbformat_minor": 2
}